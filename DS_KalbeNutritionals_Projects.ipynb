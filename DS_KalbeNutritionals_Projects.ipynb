{
 "cells": [
  {
   "cell_type": "markdown",
   "id": "c95e3c48",
   "metadata": {},
   "source": [
    "# Machine Learning Project"
   ]
  },
  {
   "cell_type": "markdown",
   "id": "bf152fe1",
   "metadata": {},
   "source": [
    "## Model Regression (ARIMA Model)"
   ]
  },
  {
   "attachments": {},
   "cell_type": "markdown",
   "id": "569eba97",
   "metadata": {},
   "source": [
    "Tujuan dari project ini adalah untuk mengetahui perkiraan quantity product yang terjual sehingga tim inventory dapat membuat stock persediaan harian yang cukup. Prediksi yang dilakukan harus harian"
   ]
  },
  {
   "cell_type": "markdown",
   "id": "9a9446b4",
   "metadata": {},
   "source": [
    "## Clustering"
   ]
  },
  {
   "cell_type": "markdown",
   "id": "9dde9dbe",
   "metadata": {},
   "source": [
    "Tujuan dari project ini adalah untuk membuat segment customer. Segment customer ini nantinya akan digunakan oleh tim marketing untuk memberikan personalized promotion dan sales treatment."
   ]
  },
  {
   "cell_type": "markdown",
   "id": "b68309e2",
   "metadata": {},
   "source": [
    "## INSTALL PACKAGES"
   ]
  },
  {
   "cell_type": "code",
   "execution_count": 1,
   "id": "eaaa42d9",
   "metadata": {},
   "outputs": [
    {
     "name": "stdout",
     "output_type": "stream",
     "text": [
      "Requirement already satisfied: pmdarima in c:\\folder baru\\lib\\site-packages (2.0.3)Note: you may need to restart the kernel to use updated packages.\n",
      "\n",
      "Requirement already satisfied: pandas>=0.19 in c:\\folder baru\\lib\\site-packages (from pmdarima) (1.4.2)\n",
      "Requirement already satisfied: urllib3 in c:\\folder baru\\lib\\site-packages (from pmdarima) (1.26.9)\n",
      "Requirement already satisfied: setuptools!=50.0.0,>=38.6.0 in c:\\folder baru\\lib\\site-packages (from pmdarima) (61.2.0)\n",
      "Requirement already satisfied: joblib>=0.11 in c:\\folder baru\\lib\\site-packages (from pmdarima) (1.3.1)\n",
      "Requirement already satisfied: statsmodels>=0.13.2 in c:\\folder baru\\lib\\site-packages (from pmdarima) (0.13.2)\n",
      "Requirement already satisfied: scikit-learn>=0.22 in c:\\folder baru\\lib\\site-packages (from pmdarima) (1.0.2)\n",
      "Requirement already satisfied: Cython!=0.29.18,!=0.29.31,>=0.29 in c:\\folder baru\\lib\\site-packages (from pmdarima) (0.29.28)\n",
      "Requirement already satisfied: numpy>=1.21.2 in c:\\folder baru\\lib\\site-packages (from pmdarima) (1.21.5)\n",
      "Requirement already satisfied: scipy>=1.3.2 in c:\\folder baru\\lib\\site-packages (from pmdarima) (1.7.3)\n",
      "Requirement already satisfied: pytz>=2020.1 in c:\\folder baru\\lib\\site-packages (from pandas>=0.19->pmdarima) (2021.3)\n",
      "Requirement already satisfied: python-dateutil>=2.8.1 in c:\\folder baru\\lib\\site-packages (from pandas>=0.19->pmdarima) (2.8.2)\n",
      "Requirement already satisfied: six>=1.5 in c:\\folder baru\\lib\\site-packages (from python-dateutil>=2.8.1->pandas>=0.19->pmdarima) (1.16.0)\n",
      "Requirement already satisfied: threadpoolctl>=2.0.0 in c:\\folder baru\\lib\\site-packages (from scikit-learn>=0.22->pmdarima) (2.2.0)\n",
      "Requirement already satisfied: patsy>=0.5.2 in c:\\folder baru\\lib\\site-packages (from statsmodels>=0.13.2->pmdarima) (0.5.2)\n",
      "Requirement already satisfied: packaging>=21.3 in c:\\folder baru\\lib\\site-packages (from statsmodels>=0.13.2->pmdarima) (21.3)\n",
      "Requirement already satisfied: pyparsing!=3.0.5,>=2.0.2 in c:\\folder baru\\lib\\site-packages (from packaging>=21.3->statsmodels>=0.13.2->pmdarima) (3.0.4)\n"
     ]
    }
   ],
   "source": [
    "pip install pmdarima"
   ]
  },
  {
   "cell_type": "code",
   "execution_count": 2,
   "id": "c16e5a8d",
   "metadata": {},
   "outputs": [
    {
     "name": "stdout",
     "output_type": "stream",
     "text": [
      "Requirement already satisfied: yellowbrick in c:\\folder baru\\lib\\site-packages (1.5)\n",
      "Requirement already satisfied: matplotlib!=3.0.0,>=2.0.2 in c:\\folder baru\\lib\\site-packages (from yellowbrick) (3.5.1)\n",
      "Requirement already satisfied: cycler>=0.10.0 in c:\\folder baru\\lib\\site-packages (from yellowbrick) (0.11.0)\n",
      "Requirement already satisfied: scikit-learn>=1.0.0 in c:\\folder baru\\lib\\site-packages (from yellowbrick) (1.0.2)\n",
      "Requirement already satisfied: scipy>=1.0.0 in c:\\folder baru\\lib\\site-packages (from yellowbrick) (1.7.3)\n",
      "Requirement already satisfied: numpy>=1.16.0 in c:\\folder baru\\lib\\site-packages (from yellowbrick) (1.21.5)\n",
      "Requirement already satisfied: fonttools>=4.22.0 in c:\\folder baru\\lib\\site-packages (from matplotlib!=3.0.0,>=2.0.2->yellowbrick) (4.25.0)\n",
      "Requirement already satisfied: kiwisolver>=1.0.1 in c:\\folder baru\\lib\\site-packages (from matplotlib!=3.0.0,>=2.0.2->yellowbrick) (1.3.2)\n",
      "Requirement already satisfied: pillow>=6.2.0 in c:\\folder baru\\lib\\site-packages (from matplotlib!=3.0.0,>=2.0.2->yellowbrick) (9.0.1)\n",
      "Requirement already satisfied: python-dateutil>=2.7 in c:\\folder baru\\lib\\site-packages (from matplotlib!=3.0.0,>=2.0.2->yellowbrick) (2.8.2)\n",
      "Requirement already satisfied: packaging>=20.0 in c:\\folder baru\\lib\\site-packages (from matplotlib!=3.0.0,>=2.0.2->yellowbrick) (21.3)\n",
      "Requirement already satisfied: pyparsing>=2.2.1 in c:\\folder baru\\lib\\site-packages (from matplotlib!=3.0.0,>=2.0.2->yellowbrick) (3.0.4)\n",
      "Requirement already satisfied: six>=1.5 in c:\\folder baru\\lib\\site-packages (from python-dateutil>=2.7->matplotlib!=3.0.0,>=2.0.2->yellowbrick) (1.16.0)\n",
      "Requirement already satisfied: joblib>=0.11 in c:\\folder baru\\lib\\site-packages (from scikit-learn>=1.0.0->yellowbrick) (1.3.1)\n",
      "Requirement already satisfied: threadpoolctl>=2.0.0 in c:\\folder baru\\lib\\site-packages (from scikit-learn>=1.0.0->yellowbrick) (2.2.0)\n",
      "Note: you may need to restart the kernel to use updated packages.\n"
     ]
    }
   ],
   "source": [
    "pip install yellowbrick"
   ]
  },
  {
   "cell_type": "markdown",
   "id": "69c5587d",
   "metadata": {},
   "source": [
    "## IMPORT DATA & LIBRARIES"
   ]
  },
  {
   "cell_type": "code",
   "execution_count": 3,
   "id": "70b8e529",
   "metadata": {},
   "outputs": [],
   "source": [
    "import pandas as pd\n",
    "import matplotlib.pyplot as plt\n",
    "import numpy as np\n",
    "import seaborn as sns\n",
    "import csv\n",
    "\n",
    "from statsmodels.tsa.stattools import adfuller\n",
    "from statsmodels.tsa.arima.model import ARIMA\n",
    "import pmdarima as pm\n",
    "from itertools import product\n",
    "\n",
    "from sklearn.metrics import mean_squared_error, mean_absolute_error, mean_absolute_percentage_error\n",
    "\n",
    "from sklearn.preprocessing import StandardScaler\n",
    "from sklearn.cluster import KMeans\n",
    "from yellowbrick.cluster import KElbowVisualizer\n",
    "from sklearn.metrics import silhouette_score, adjusted_rand_score"
   ]
  },
  {
   "cell_type": "code",
   "execution_count": 4,
   "id": "ee6e0b03",
   "metadata": {},
   "outputs": [],
   "source": [
    "df = pd.read_csv(\"All_Data.csv\")"
   ]
  },
  {
   "cell_type": "markdown",
   "id": "b85fc052",
   "metadata": {},
   "source": [
    "## INSPEKSI DATA"
   ]
  },
  {
   "cell_type": "code",
   "execution_count": 5,
   "id": "62732195",
   "metadata": {},
   "outputs": [
    {
     "name": "stdout",
     "output_type": "stream",
     "text": [
      "<class 'pandas.core.frame.DataFrame'>\n",
      "RangeIndex: 5020 entries, 0 to 5019\n",
      "Data columns (total 19 columns):\n",
      " #   Column          Non-Null Count  Dtype  \n",
      "---  ------          --------------  -----  \n",
      " 0   transaction_id  5020 non-null   object \n",
      " 1   customer_id     5020 non-null   int64  \n",
      " 2   age             5020 non-null   int64  \n",
      " 3   gender          5020 non-null   int64  \n",
      " 4   marital_status  5020 non-null   object \n",
      " 5   income          5020 non-null   float64\n",
      " 6   store_id        5020 non-null   int64  \n",
      " 7   store_name      5020 non-null   object \n",
      " 8   group_store     5020 non-null   object \n",
      " 9   type            5020 non-null   object \n",
      " 10  latitude        5020 non-null   float64\n",
      " 11  longitude       5020 non-null   int64  \n",
      " 12  product_id      5020 non-null   object \n",
      " 13  product_name    5020 non-null   object \n",
      " 14  price           5020 non-null   int64  \n",
      " 15  date            5020 non-null   object \n",
      " 16  qty             5020 non-null   int64  \n",
      " 17  price-2         5020 non-null   int64  \n",
      " 18  total_amount    5020 non-null   int64  \n",
      "dtypes: float64(2), int64(9), object(8)\n",
      "memory usage: 745.3+ KB\n"
     ]
    }
   ],
   "source": [
    "df.info()"
   ]
  },
  {
   "cell_type": "code",
   "execution_count": 6,
   "id": "d9c2fc86",
   "metadata": {},
   "outputs": [
    {
     "data": {
      "text/html": [
       "<div>\n",
       "<style scoped>\n",
       "    .dataframe tbody tr th:only-of-type {\n",
       "        vertical-align: middle;\n",
       "    }\n",
       "\n",
       "    .dataframe tbody tr th {\n",
       "        vertical-align: top;\n",
       "    }\n",
       "\n",
       "    .dataframe thead th {\n",
       "        text-align: right;\n",
       "    }\n",
       "</style>\n",
       "<table border=\"1\" class=\"dataframe\">\n",
       "  <thead>\n",
       "    <tr style=\"text-align: right;\">\n",
       "      <th></th>\n",
       "      <th>transaction_id</th>\n",
       "      <th>customer_id</th>\n",
       "      <th>age</th>\n",
       "      <th>gender</th>\n",
       "      <th>marital_status</th>\n",
       "      <th>income</th>\n",
       "      <th>store_id</th>\n",
       "      <th>store_name</th>\n",
       "      <th>group_store</th>\n",
       "      <th>type</th>\n",
       "      <th>latitude</th>\n",
       "      <th>longitude</th>\n",
       "      <th>product_id</th>\n",
       "      <th>product_name</th>\n",
       "      <th>price</th>\n",
       "      <th>date</th>\n",
       "      <th>qty</th>\n",
       "      <th>price-2</th>\n",
       "      <th>total_amount</th>\n",
       "    </tr>\n",
       "  </thead>\n",
       "  <tbody>\n",
       "    <tr>\n",
       "      <th>0</th>\n",
       "      <td>TR11369</td>\n",
       "      <td>328</td>\n",
       "      <td>36</td>\n",
       "      <td>0</td>\n",
       "      <td>Married</td>\n",
       "      <td>10.53</td>\n",
       "      <td>12</td>\n",
       "      <td>Prestasi Utama</td>\n",
       "      <td>Prestasi</td>\n",
       "      <td>General Trade</td>\n",
       "      <td>-2990934.0</td>\n",
       "      <td>104756554</td>\n",
       "      <td>P3</td>\n",
       "      <td>Crackers</td>\n",
       "      <td>7500</td>\n",
       "      <td>2022-01-01</td>\n",
       "      <td>4</td>\n",
       "      <td>7500</td>\n",
       "      <td>30000</td>\n",
       "    </tr>\n",
       "    <tr>\n",
       "      <th>1</th>\n",
       "      <td>TR16356</td>\n",
       "      <td>165</td>\n",
       "      <td>44</td>\n",
       "      <td>1</td>\n",
       "      <td>Married</td>\n",
       "      <td>14.58</td>\n",
       "      <td>1</td>\n",
       "      <td>Prima Tendean</td>\n",
       "      <td>Prima</td>\n",
       "      <td>Modern Trade</td>\n",
       "      <td>-6.2</td>\n",
       "      <td>106816666</td>\n",
       "      <td>P9</td>\n",
       "      <td>Yoghurt</td>\n",
       "      <td>10000</td>\n",
       "      <td>2022-01-01</td>\n",
       "      <td>7</td>\n",
       "      <td>10000</td>\n",
       "      <td>70000</td>\n",
       "    </tr>\n",
       "    <tr>\n",
       "      <th>2</th>\n",
       "      <td>TR1984</td>\n",
       "      <td>183</td>\n",
       "      <td>27</td>\n",
       "      <td>1</td>\n",
       "      <td>Single</td>\n",
       "      <td>0.18</td>\n",
       "      <td>4</td>\n",
       "      <td>Gita Ginara</td>\n",
       "      <td>Gita</td>\n",
       "      <td>General Trade</td>\n",
       "      <td>-6966667.0</td>\n",
       "      <td>110416664</td>\n",
       "      <td>P1</td>\n",
       "      <td>Choco Bar</td>\n",
       "      <td>8800</td>\n",
       "      <td>2022-01-01</td>\n",
       "      <td>4</td>\n",
       "      <td>8800</td>\n",
       "      <td>35200</td>\n",
       "    </tr>\n",
       "    <tr>\n",
       "      <th>3</th>\n",
       "      <td>TR35256</td>\n",
       "      <td>160</td>\n",
       "      <td>48</td>\n",
       "      <td>1</td>\n",
       "      <td>Married</td>\n",
       "      <td>12.57</td>\n",
       "      <td>4</td>\n",
       "      <td>Gita Ginara</td>\n",
       "      <td>Gita</td>\n",
       "      <td>General Trade</td>\n",
       "      <td>-6966667.0</td>\n",
       "      <td>110416664</td>\n",
       "      <td>P1</td>\n",
       "      <td>Choco Bar</td>\n",
       "      <td>8800</td>\n",
       "      <td>2022-01-01</td>\n",
       "      <td>7</td>\n",
       "      <td>8800</td>\n",
       "      <td>61600</td>\n",
       "    </tr>\n",
       "    <tr>\n",
       "      <th>4</th>\n",
       "      <td>TR41231</td>\n",
       "      <td>386</td>\n",
       "      <td>33</td>\n",
       "      <td>0</td>\n",
       "      <td>Married</td>\n",
       "      <td>6.95</td>\n",
       "      <td>4</td>\n",
       "      <td>Gita Ginara</td>\n",
       "      <td>Gita</td>\n",
       "      <td>General Trade</td>\n",
       "      <td>-6966667.0</td>\n",
       "      <td>110416664</td>\n",
       "      <td>P9</td>\n",
       "      <td>Yoghurt</td>\n",
       "      <td>10000</td>\n",
       "      <td>2022-01-01</td>\n",
       "      <td>1</td>\n",
       "      <td>10000</td>\n",
       "      <td>10000</td>\n",
       "    </tr>\n",
       "  </tbody>\n",
       "</table>\n",
       "</div>"
      ],
      "text/plain": [
       "  transaction_id  customer_id  age  gender marital_status  income  store_id  \\\n",
       "0        TR11369          328   36       0     Married      10.53        12   \n",
       "1        TR16356          165   44       1     Married      14.58         1   \n",
       "2         TR1984          183   27       1     Single        0.18         4   \n",
       "3        TR35256          160   48       1     Married      12.57         4   \n",
       "4        TR41231          386   33       0     Married       6.95         4   \n",
       "\n",
       "             store_name           group_store                  type  \\\n",
       "0  Prestasi Utama        Prestasi              General Trade          \n",
       "1  Prima Tendean         Prima                 Modern Trade           \n",
       "2  Gita Ginara           Gita                  General Trade          \n",
       "3  Gita Ginara           Gita                  General Trade          \n",
       "4  Gita Ginara           Gita                  General Trade          \n",
       "\n",
       "    latitude  longitude product_id          product_name  price        date  \\\n",
       "0 -2990934.0  104756554         P3  Crackers               7500  2022-01-01   \n",
       "1       -6.2  106816666         P9  Yoghurt               10000  2022-01-01   \n",
       "2 -6966667.0  110416664         P1  Choco Bar              8800  2022-01-01   \n",
       "3 -6966667.0  110416664         P1  Choco Bar              8800  2022-01-01   \n",
       "4 -6966667.0  110416664         P9  Yoghurt               10000  2022-01-01   \n",
       "\n",
       "   qty  price-2  total_amount  \n",
       "0    4     7500         30000  \n",
       "1    7    10000         70000  \n",
       "2    4     8800         35200  \n",
       "3    7     8800         61600  \n",
       "4    1    10000         10000  "
      ]
     },
     "execution_count": 6,
     "metadata": {},
     "output_type": "execute_result"
    }
   ],
   "source": [
    "df.head()"
   ]
  },
  {
   "cell_type": "code",
   "execution_count": 7,
   "id": "b023bc54",
   "metadata": {},
   "outputs": [
    {
     "data": {
      "text/html": [
       "<div>\n",
       "<style scoped>\n",
       "    .dataframe tbody tr th:only-of-type {\n",
       "        vertical-align: middle;\n",
       "    }\n",
       "\n",
       "    .dataframe tbody tr th {\n",
       "        vertical-align: top;\n",
       "    }\n",
       "\n",
       "    .dataframe thead th {\n",
       "        text-align: right;\n",
       "    }\n",
       "</style>\n",
       "<table border=\"1\" class=\"dataframe\">\n",
       "  <thead>\n",
       "    <tr style=\"text-align: right;\">\n",
       "      <th></th>\n",
       "      <th>transaction_id</th>\n",
       "      <th>customer_id</th>\n",
       "      <th>age</th>\n",
       "      <th>gender</th>\n",
       "      <th>marital_status</th>\n",
       "      <th>income</th>\n",
       "      <th>store_id</th>\n",
       "      <th>store_name</th>\n",
       "      <th>group_store</th>\n",
       "      <th>type</th>\n",
       "      <th>latitude</th>\n",
       "      <th>longitude</th>\n",
       "      <th>product_id</th>\n",
       "      <th>product_name</th>\n",
       "      <th>price</th>\n",
       "      <th>date</th>\n",
       "      <th>qty</th>\n",
       "      <th>price-2</th>\n",
       "      <th>total_amount</th>\n",
       "    </tr>\n",
       "  </thead>\n",
       "  <tbody>\n",
       "    <tr>\n",
       "      <th>5015</th>\n",
       "      <td>TR54423</td>\n",
       "      <td>243</td>\n",
       "      <td>38</td>\n",
       "      <td>0</td>\n",
       "      <td>Married</td>\n",
       "      <td>3.34</td>\n",
       "      <td>3</td>\n",
       "      <td>Prima Kota</td>\n",
       "      <td>Prima</td>\n",
       "      <td>Modern Trade</td>\n",
       "      <td>-7797068.0</td>\n",
       "      <td>110370529</td>\n",
       "      <td>P10</td>\n",
       "      <td>Cheese Stick</td>\n",
       "      <td>15000</td>\n",
       "      <td>2022-12-31</td>\n",
       "      <td>5</td>\n",
       "      <td>15000</td>\n",
       "      <td>75000</td>\n",
       "    </tr>\n",
       "    <tr>\n",
       "      <th>5016</th>\n",
       "      <td>TR5604</td>\n",
       "      <td>271</td>\n",
       "      <td>29</td>\n",
       "      <td>0</td>\n",
       "      <td>Married</td>\n",
       "      <td>4.74</td>\n",
       "      <td>9</td>\n",
       "      <td>Lingga</td>\n",
       "      <td>Lingga</td>\n",
       "      <td>Modern Trade</td>\n",
       "      <td>-3654703.0</td>\n",
       "      <td>128190643</td>\n",
       "      <td>P2</td>\n",
       "      <td>Ginger Candy</td>\n",
       "      <td>3200</td>\n",
       "      <td>2022-12-31</td>\n",
       "      <td>4</td>\n",
       "      <td>3200</td>\n",
       "      <td>12800</td>\n",
       "    </tr>\n",
       "    <tr>\n",
       "      <th>5017</th>\n",
       "      <td>TR81224</td>\n",
       "      <td>52</td>\n",
       "      <td>37</td>\n",
       "      <td>0</td>\n",
       "      <td>Married</td>\n",
       "      <td>3.73</td>\n",
       "      <td>9</td>\n",
       "      <td>Lingga</td>\n",
       "      <td>Lingga</td>\n",
       "      <td>Modern Trade</td>\n",
       "      <td>-3654703.0</td>\n",
       "      <td>128190643</td>\n",
       "      <td>P7</td>\n",
       "      <td>Coffee Candy</td>\n",
       "      <td>9400</td>\n",
       "      <td>2022-12-31</td>\n",
       "      <td>6</td>\n",
       "      <td>9400</td>\n",
       "      <td>56400</td>\n",
       "    </tr>\n",
       "    <tr>\n",
       "      <th>5018</th>\n",
       "      <td>TR85016</td>\n",
       "      <td>18</td>\n",
       "      <td>47</td>\n",
       "      <td>0</td>\n",
       "      <td>Married</td>\n",
       "      <td>13.60</td>\n",
       "      <td>13</td>\n",
       "      <td>Buana</td>\n",
       "      <td>Buana</td>\n",
       "      <td>General Trade</td>\n",
       "      <td>-126916.0</td>\n",
       "      <td>116825264</td>\n",
       "      <td>P8</td>\n",
       "      <td>Oat</td>\n",
       "      <td>16000</td>\n",
       "      <td>2022-12-31</td>\n",
       "      <td>3</td>\n",
       "      <td>16000</td>\n",
       "      <td>48000</td>\n",
       "    </tr>\n",
       "    <tr>\n",
       "      <th>5019</th>\n",
       "      <td>TR85684</td>\n",
       "      <td>55</td>\n",
       "      <td>34</td>\n",
       "      <td>1</td>\n",
       "      <td>Married</td>\n",
       "      <td>8.44</td>\n",
       "      <td>6</td>\n",
       "      <td>Lingga</td>\n",
       "      <td>Lingga</td>\n",
       "      <td>Modern Trade</td>\n",
       "      <td>-5135399.0</td>\n",
       "      <td>11942379</td>\n",
       "      <td>P8</td>\n",
       "      <td>Oat</td>\n",
       "      <td>16000</td>\n",
       "      <td>2022-12-31</td>\n",
       "      <td>1</td>\n",
       "      <td>16000</td>\n",
       "      <td>16000</td>\n",
       "    </tr>\n",
       "  </tbody>\n",
       "</table>\n",
       "</div>"
      ],
      "text/plain": [
       "     transaction_id  customer_id  age  gender marital_status  income  \\\n",
       "5015        TR54423          243   38       0     Married       3.34   \n",
       "5016         TR5604          271   29       0     Married       4.74   \n",
       "5017        TR81224           52   37       0     Married       3.73   \n",
       "5018        TR85016           18   47       0     Married      13.60   \n",
       "5019        TR85684           55   34       1     Married       8.44   \n",
       "\n",
       "      store_id            store_name           group_store  \\\n",
       "5015         3  Prima Kota            Prima                  \n",
       "5016         9  Lingga                Lingga                 \n",
       "5017         9  Lingga                Lingga                 \n",
       "5018        13  Buana                 Buana                  \n",
       "5019         6  Lingga                Lingga                 \n",
       "\n",
       "                      type   latitude  longitude product_id  \\\n",
       "5015  Modern Trade         -7797068.0  110370529        P10   \n",
       "5016  Modern Trade         -3654703.0  128190643         P2   \n",
       "5017  Modern Trade         -3654703.0  128190643         P7   \n",
       "5018  General Trade         -126916.0  116825264         P8   \n",
       "5019  Modern Trade         -5135399.0   11942379         P8   \n",
       "\n",
       "              product_name  price        date  qty  price-2  total_amount  \n",
       "5015  Cheese Stick          15000  2022-12-31    5    15000         75000  \n",
       "5016  Ginger Candy           3200  2022-12-31    4     3200         12800  \n",
       "5017  Coffee Candy           9400  2022-12-31    6     9400         56400  \n",
       "5018  Oat                   16000  2022-12-31    3    16000         48000  \n",
       "5019  Oat                   16000  2022-12-31    1    16000         16000  "
      ]
     },
     "execution_count": 7,
     "metadata": {},
     "output_type": "execute_result"
    }
   ],
   "source": [
    "df.tail()"
   ]
  },
  {
   "cell_type": "markdown",
   "id": "3ecd93a9",
   "metadata": {},
   "source": [
    "### Melihat Dimensi Dataset"
   ]
  },
  {
   "cell_type": "code",
   "execution_count": 8,
   "id": "ffc8ffec",
   "metadata": {},
   "outputs": [
    {
     "data": {
      "text/plain": [
       "(5020, 19)"
      ]
     },
     "execution_count": 8,
     "metadata": {},
     "output_type": "execute_result"
    }
   ],
   "source": [
    "df.shape"
   ]
  },
  {
   "cell_type": "markdown",
   "id": "2411262d",
   "metadata": {},
   "source": [
    "Dataframe memiliki 5020 baris dan 19 kolom."
   ]
  },
  {
   "cell_type": "markdown",
   "id": "dc403659",
   "metadata": {},
   "source": [
    "### Melihat Kolom dalam Dataset"
   ]
  },
  {
   "cell_type": "code",
   "execution_count": 9,
   "id": "cd746f1f",
   "metadata": {},
   "outputs": [
    {
     "data": {
      "text/plain": [
       "Index(['transaction_id', 'customer_id', 'age', 'gender', 'marital_status',\n",
       "       'income', 'store_id', 'store_name', 'group_store', 'type', 'latitude',\n",
       "       'longitude', 'product_id', 'product_name', 'price', 'date', 'qty',\n",
       "       'price-2', 'total_amount'],\n",
       "      dtype='object')"
      ]
     },
     "execution_count": 9,
     "metadata": {},
     "output_type": "execute_result"
    }
   ],
   "source": [
    "df.columns"
   ]
  },
  {
   "cell_type": "markdown",
   "id": "fb60d3a3",
   "metadata": {},
   "source": [
    "Dataset memiliki 19 Kolom, namun terdapat kolom yang memiliki nilai yang sama yakni kolom 'price' dan 'price-2'"
   ]
  },
  {
   "cell_type": "markdown",
   "id": "1bfad636",
   "metadata": {},
   "source": [
    "### Melihat data yang hilang (missing values)"
   ]
  },
  {
   "cell_type": "code",
   "execution_count": 10,
   "id": "dae2ac43",
   "metadata": {},
   "outputs": [
    {
     "data": {
      "text/plain": [
       "transaction_id    0\n",
       "customer_id       0\n",
       "age               0\n",
       "gender            0\n",
       "marital_status    0\n",
       "income            0\n",
       "store_id          0\n",
       "store_name        0\n",
       "group_store       0\n",
       "type              0\n",
       "latitude          0\n",
       "longitude         0\n",
       "product_id        0\n",
       "product_name      0\n",
       "price             0\n",
       "date              0\n",
       "qty               0\n",
       "price-2           0\n",
       "total_amount      0\n",
       "dtype: int64"
      ]
     },
     "execution_count": 10,
     "metadata": {},
     "output_type": "execute_result"
    }
   ],
   "source": [
    "df.isna().sum()"
   ]
  },
  {
   "cell_type": "markdown",
   "id": "6f177636",
   "metadata": {},
   "source": [
    "Tidak terdapat Missing Values pada dataframe, karena sebelumnya sudah dibersihkan pada PostgreSQL"
   ]
  },
  {
   "cell_type": "markdown",
   "id": "fa191128",
   "metadata": {},
   "source": [
    "### Melihat data yang duplikat"
   ]
  },
  {
   "cell_type": "code",
   "execution_count": 11,
   "id": "56f97ce4",
   "metadata": {},
   "outputs": [
    {
     "data": {
      "text/plain": [
       "TR71313    3\n",
       "TR42197    2\n",
       "TR75968    2\n",
       "TR90402    2\n",
       "TR74019    2\n",
       "          ..\n",
       "TR29792    1\n",
       "TR23081    1\n",
       "TR1691     1\n",
       "TR98388    1\n",
       "TR85684    1\n",
       "Name: transaction_id, Length: 4908, dtype: int64"
      ]
     },
     "execution_count": 11,
     "metadata": {},
     "output_type": "execute_result"
    }
   ],
   "source": [
    "df['transaction_id'].value_counts()"
   ]
  },
  {
   "cell_type": "markdown",
   "id": "9aea5bac",
   "metadata": {},
   "source": [
    "Ternyata, terdapat data yang duplikat pada kolom 'transactions_id' yang dimana seharusnya kolom tersebut memiliki nilai yang unik (tidak duplikat). Berikut jumlah data duplikat yang muncul:\n",
    "- 'TR71313' muncul sebanyak 3 kali.\n",
    "- 'TR42197' muncul sebanyak 2 kali.\n",
    "- 'TR75968' muncul sebanyak 2 kali.\n",
    "- 'TR90402' muncul sebanyak 2 kali.\n",
    "- 'TR74019' muncul sebanyak 2 kali."
   ]
  },
  {
   "cell_type": "code",
   "execution_count": 12,
   "id": "2c14253b",
   "metadata": {},
   "outputs": [
    {
     "data": {
      "text/html": [
       "<div>\n",
       "<style scoped>\n",
       "    .dataframe tbody tr th:only-of-type {\n",
       "        vertical-align: middle;\n",
       "    }\n",
       "\n",
       "    .dataframe tbody tr th {\n",
       "        vertical-align: top;\n",
       "    }\n",
       "\n",
       "    .dataframe thead th {\n",
       "        text-align: right;\n",
       "    }\n",
       "</style>\n",
       "<table border=\"1\" class=\"dataframe\">\n",
       "  <thead>\n",
       "    <tr style=\"text-align: right;\">\n",
       "      <th></th>\n",
       "      <th>transaction_id</th>\n",
       "      <th>customer_id</th>\n",
       "      <th>age</th>\n",
       "      <th>gender</th>\n",
       "      <th>marital_status</th>\n",
       "      <th>income</th>\n",
       "      <th>store_id</th>\n",
       "      <th>store_name</th>\n",
       "      <th>group_store</th>\n",
       "      <th>type</th>\n",
       "      <th>latitude</th>\n",
       "      <th>longitude</th>\n",
       "      <th>product_id</th>\n",
       "      <th>product_name</th>\n",
       "      <th>price</th>\n",
       "      <th>date</th>\n",
       "      <th>qty</th>\n",
       "      <th>price-2</th>\n",
       "      <th>total_amount</th>\n",
       "    </tr>\n",
       "  </thead>\n",
       "  <tbody>\n",
       "    <tr>\n",
       "      <th>1982</th>\n",
       "      <td>TR71313</td>\n",
       "      <td>117</td>\n",
       "      <td>45</td>\n",
       "      <td>1</td>\n",
       "      <td>Married</td>\n",
       "      <td>12.55</td>\n",
       "      <td>8</td>\n",
       "      <td>Sinar Harapan</td>\n",
       "      <td>Harapan Baru</td>\n",
       "      <td>General Trade</td>\n",
       "      <td>5.548290e+05</td>\n",
       "      <td>95323753</td>\n",
       "      <td>P1</td>\n",
       "      <td>Choco Bar</td>\n",
       "      <td>8800</td>\n",
       "      <td>2022-05-21</td>\n",
       "      <td>10</td>\n",
       "      <td>8800</td>\n",
       "      <td>88000</td>\n",
       "    </tr>\n",
       "    <tr>\n",
       "      <th>3336</th>\n",
       "      <td>TR71313</td>\n",
       "      <td>401</td>\n",
       "      <td>45</td>\n",
       "      <td>0</td>\n",
       "      <td>Married</td>\n",
       "      <td>4.08</td>\n",
       "      <td>11</td>\n",
       "      <td>Sinar Harapan</td>\n",
       "      <td>Prestasi</td>\n",
       "      <td>General Trade</td>\n",
       "      <td>5.335050e-01</td>\n",
       "      <td>101447403</td>\n",
       "      <td>P3</td>\n",
       "      <td>Crackers</td>\n",
       "      <td>7500</td>\n",
       "      <td>2022-08-30</td>\n",
       "      <td>6</td>\n",
       "      <td>7500</td>\n",
       "      <td>45000</td>\n",
       "    </tr>\n",
       "    <tr>\n",
       "      <th>3722</th>\n",
       "      <td>TR71313</td>\n",
       "      <td>370</td>\n",
       "      <td>26</td>\n",
       "      <td>1</td>\n",
       "      <td>Single</td>\n",
       "      <td>1.28</td>\n",
       "      <td>3</td>\n",
       "      <td>Prima Kota</td>\n",
       "      <td>Prima</td>\n",
       "      <td>Modern Trade</td>\n",
       "      <td>-7.797068e+06</td>\n",
       "      <td>110370529</td>\n",
       "      <td>P3</td>\n",
       "      <td>Crackers</td>\n",
       "      <td>7500</td>\n",
       "      <td>2022-09-26</td>\n",
       "      <td>2</td>\n",
       "      <td>7500</td>\n",
       "      <td>15000</td>\n",
       "    </tr>\n",
       "  </tbody>\n",
       "</table>\n",
       "</div>"
      ],
      "text/plain": [
       "     transaction_id  customer_id  age  gender marital_status  income  \\\n",
       "1982        TR71313          117   45       1     Married      12.55   \n",
       "3336        TR71313          401   45       0     Married       4.08   \n",
       "3722        TR71313          370   26       1     Single        1.28   \n",
       "\n",
       "      store_id            store_name           group_store  \\\n",
       "1982         8  Sinar Harapan         Harapan Baru           \n",
       "3336        11  Sinar Harapan         Prestasi               \n",
       "3722         3  Prima Kota            Prima                  \n",
       "\n",
       "                      type      latitude  longitude product_id  \\\n",
       "1982  General Trade         5.548290e+05   95323753         P1   \n",
       "3336  General Trade         5.335050e-01  101447403         P3   \n",
       "3722  Modern Trade         -7.797068e+06  110370529         P3   \n",
       "\n",
       "              product_name  price        date  qty  price-2  total_amount  \n",
       "1982  Choco Bar              8800  2022-05-21   10     8800         88000  \n",
       "3336  Crackers               7500  2022-08-30    6     7500         45000  \n",
       "3722  Crackers               7500  2022-09-26    2     7500         15000  "
      ]
     },
     "execution_count": 12,
     "metadata": {},
     "output_type": "execute_result"
    }
   ],
   "source": [
    "df[df['transaction_id'] == 'TR71313']"
   ]
  },
  {
   "cell_type": "markdown",
   "id": "f20d5209",
   "metadata": {},
   "source": [
    "### Melihat ringkasan dari data"
   ]
  },
  {
   "cell_type": "code",
   "execution_count": 13,
   "id": "c125c50c",
   "metadata": {},
   "outputs": [
    {
     "data": {
      "text/html": [
       "<div>\n",
       "<style scoped>\n",
       "    .dataframe tbody tr th:only-of-type {\n",
       "        vertical-align: middle;\n",
       "    }\n",
       "\n",
       "    .dataframe tbody tr th {\n",
       "        vertical-align: top;\n",
       "    }\n",
       "\n",
       "    .dataframe thead th {\n",
       "        text-align: right;\n",
       "    }\n",
       "</style>\n",
       "<table border=\"1\" class=\"dataframe\">\n",
       "  <thead>\n",
       "    <tr style=\"text-align: right;\">\n",
       "      <th></th>\n",
       "      <th>customer_id</th>\n",
       "      <th>age</th>\n",
       "      <th>gender</th>\n",
       "      <th>income</th>\n",
       "      <th>store_id</th>\n",
       "      <th>latitude</th>\n",
       "      <th>longitude</th>\n",
       "      <th>price</th>\n",
       "      <th>qty</th>\n",
       "      <th>price-2</th>\n",
       "      <th>total_amount</th>\n",
       "    </tr>\n",
       "  </thead>\n",
       "  <tbody>\n",
       "    <tr>\n",
       "      <th>count</th>\n",
       "      <td>5020.000000</td>\n",
       "      <td>5020.000000</td>\n",
       "      <td>5020.000000</td>\n",
       "      <td>5020.000000</td>\n",
       "      <td>5020.000000</td>\n",
       "      <td>5.020000e+03</td>\n",
       "      <td>5.020000e+03</td>\n",
       "      <td>5020.000000</td>\n",
       "      <td>5020.000000</td>\n",
       "      <td>5020.000000</td>\n",
       "      <td>5020.000000</td>\n",
       "    </tr>\n",
       "    <tr>\n",
       "      <th>mean</th>\n",
       "      <td>221.263745</td>\n",
       "      <td>40.003586</td>\n",
       "      <td>0.452988</td>\n",
       "      <td>8.623713</td>\n",
       "      <td>7.489841</td>\n",
       "      <td>-2.424569e+06</td>\n",
       "      <td>9.519178e+07</td>\n",
       "      <td>9684.800797</td>\n",
       "      <td>3.644622</td>\n",
       "      <td>9684.800797</td>\n",
       "      <td>32279.482072</td>\n",
       "    </tr>\n",
       "    <tr>\n",
       "      <th>std</th>\n",
       "      <td>129.672955</td>\n",
       "      <td>12.834719</td>\n",
       "      <td>0.497835</td>\n",
       "      <td>6.518242</td>\n",
       "      <td>4.028502</td>\n",
       "      <td>3.806625e+06</td>\n",
       "      <td>3.506809e+07</td>\n",
       "      <td>4600.708780</td>\n",
       "      <td>1.855295</td>\n",
       "      <td>4600.708780</td>\n",
       "      <td>19675.462455</td>\n",
       "    </tr>\n",
       "    <tr>\n",
       "      <th>min</th>\n",
       "      <td>1.000000</td>\n",
       "      <td>0.000000</td>\n",
       "      <td>0.000000</td>\n",
       "      <td>0.000000</td>\n",
       "      <td>1.000000</td>\n",
       "      <td>-7.797068e+06</td>\n",
       "      <td>1.052667e+07</td>\n",
       "      <td>3200.000000</td>\n",
       "      <td>1.000000</td>\n",
       "      <td>3200.000000</td>\n",
       "      <td>7500.000000</td>\n",
       "    </tr>\n",
       "    <tr>\n",
       "      <th>25%</th>\n",
       "      <td>108.000000</td>\n",
       "      <td>30.000000</td>\n",
       "      <td>0.000000</td>\n",
       "      <td>4.220000</td>\n",
       "      <td>4.000000</td>\n",
       "      <td>-6.914864e+06</td>\n",
       "      <td>9.867851e+07</td>\n",
       "      <td>4200.000000</td>\n",
       "      <td>2.000000</td>\n",
       "      <td>4200.000000</td>\n",
       "      <td>16000.000000</td>\n",
       "    </tr>\n",
       "    <tr>\n",
       "      <th>50%</th>\n",
       "      <td>221.000000</td>\n",
       "      <td>39.000000</td>\n",
       "      <td>0.000000</td>\n",
       "      <td>7.720000</td>\n",
       "      <td>7.000000</td>\n",
       "      <td>-2.990934e+06</td>\n",
       "      <td>1.076082e+08</td>\n",
       "      <td>9400.000000</td>\n",
       "      <td>3.000000</td>\n",
       "      <td>9400.000000</td>\n",
       "      <td>28200.000000</td>\n",
       "    </tr>\n",
       "    <tr>\n",
       "      <th>75%</th>\n",
       "      <td>332.000000</td>\n",
       "      <td>51.000000</td>\n",
       "      <td>1.000000</td>\n",
       "      <td>10.780000</td>\n",
       "      <td>11.000000</td>\n",
       "      <td>5.335050e-01</td>\n",
       "      <td>1.127688e+08</td>\n",
       "      <td>15000.000000</td>\n",
       "      <td>5.000000</td>\n",
       "      <td>15000.000000</td>\n",
       "      <td>47000.000000</td>\n",
       "    </tr>\n",
       "    <tr>\n",
       "      <th>max</th>\n",
       "      <td>447.000000</td>\n",
       "      <td>72.000000</td>\n",
       "      <td>1.000000</td>\n",
       "      <td>71.300000</td>\n",
       "      <td>14.000000</td>\n",
       "      <td>3.597031e+06</td>\n",
       "      <td>1.281906e+08</td>\n",
       "      <td>18000.000000</td>\n",
       "      <td>10.000000</td>\n",
       "      <td>18000.000000</td>\n",
       "      <td>88000.000000</td>\n",
       "    </tr>\n",
       "  </tbody>\n",
       "</table>\n",
       "</div>"
      ],
      "text/plain": [
       "       customer_id          age       gender       income     store_id  \\\n",
       "count  5020.000000  5020.000000  5020.000000  5020.000000  5020.000000   \n",
       "mean    221.263745    40.003586     0.452988     8.623713     7.489841   \n",
       "std     129.672955    12.834719     0.497835     6.518242     4.028502   \n",
       "min       1.000000     0.000000     0.000000     0.000000     1.000000   \n",
       "25%     108.000000    30.000000     0.000000     4.220000     4.000000   \n",
       "50%     221.000000    39.000000     0.000000     7.720000     7.000000   \n",
       "75%     332.000000    51.000000     1.000000    10.780000    11.000000   \n",
       "max     447.000000    72.000000     1.000000    71.300000    14.000000   \n",
       "\n",
       "           latitude     longitude         price          qty       price-2  \\\n",
       "count  5.020000e+03  5.020000e+03   5020.000000  5020.000000   5020.000000   \n",
       "mean  -2.424569e+06  9.519178e+07   9684.800797     3.644622   9684.800797   \n",
       "std    3.806625e+06  3.506809e+07   4600.708780     1.855295   4600.708780   \n",
       "min   -7.797068e+06  1.052667e+07   3200.000000     1.000000   3200.000000   \n",
       "25%   -6.914864e+06  9.867851e+07   4200.000000     2.000000   4200.000000   \n",
       "50%   -2.990934e+06  1.076082e+08   9400.000000     3.000000   9400.000000   \n",
       "75%    5.335050e-01  1.127688e+08  15000.000000     5.000000  15000.000000   \n",
       "max    3.597031e+06  1.281906e+08  18000.000000    10.000000  18000.000000   \n",
       "\n",
       "       total_amount  \n",
       "count   5020.000000  \n",
       "mean   32279.482072  \n",
       "std    19675.462455  \n",
       "min     7500.000000  \n",
       "25%    16000.000000  \n",
       "50%    28200.000000  \n",
       "75%    47000.000000  \n",
       "max    88000.000000  "
      ]
     },
     "execution_count": 13,
     "metadata": {},
     "output_type": "execute_result"
    }
   ],
   "source": [
    "df.describe()"
   ]
  },
  {
   "cell_type": "markdown",
   "id": "521d50c0",
   "metadata": {},
   "source": [
    "Berdasarkan metode describe di atas, diperoleh beberapa hal sebagai berikut:\n",
    "- customer_id: Ada 5020 pelanggan dalam dataset Anda.\n",
    "- age: Kolom ini mewakili usia pelanggan. Usia rata-rata sekitar 40 tahun, dengan standar deviasi sekitar 12,83 tahun. Usia minimum adalah 0, dan usia maksimum adalah 72.\n",
    "- gender: Kolom ini kemungkinan mewakili jenis kelamin, dengan 0 menunjukkan jenis kelamin permpuan dan 1 menunjukkan jenis kelamin laki-laki. Nilai rata-rata sekitar 0,45, menunjukkan variasi dalam representasi jenis kelamin.\n",
    "- income: Pendapatan rata-rata sekitar 8,62, dengan standar deviasi sekitar 6,52.\n",
    "- store_id: Kolom ini berisi ID toko. Ada 14 ID toko unik dalam dataset.\n",
    "- latitude dan longitude: Kolom-kolom ini kemungkinan mewakili koordinat geografis pelanggan. Nilai-nilai nampaknya memiliki skala yang berbeda, mungkin akibat encoding atau preprocessing data.\n",
    "- price: Harga rata-rata sekitar 9684,80, dengan standar deviasi sekitar 4600,71. Harga minimum adalah 3200, dan harga maksimum adalah 18000.\n",
    "- qty: Kolom ini mewakili jumlah barang yang dibeli. Jumlah rata-rata sekitar 3,64, dengan standar deviasi sekitar 1,86.\n",
    "- price-2: Kolom ini tampaknya merupakan duplikat atau ukuran harga lainnya, dengan statistik yang sama dengan kolom 'price'.\n",
    "- total_amount: Kolom ini mewakili total biaya yang dihabiskan oleh pelanggan. Total biaya rata-rata sekitar 32279,48, dengan standar deviasi sekitar 19675,46. Total biaya minimum adalah 7500, dan total biaya maksimum adalah 88000."
   ]
  },
  {
   "cell_type": "markdown",
   "id": "d0f49bf8",
   "metadata": {},
   "source": [
    "### Memeriksa Data Pencilan (Outliers)"
   ]
  },
  {
   "cell_type": "code",
   "execution_count": 14,
   "id": "91dce990",
   "metadata": {},
   "outputs": [
    {
     "name": "stdout",
     "output_type": "stream",
     "text": [
      "Outliers in customer_id:\n",
      "Empty DataFrame\n",
      "Columns: [transaction_id, customer_id, age, gender, marital_status, income, store_id, store_name, group_store, type, latitude, longitude, product_id, product_name, price, date, qty, price-2, total_amount]\n",
      "Index: []\n",
      "Outliers in age:\n",
      "Empty DataFrame\n",
      "Columns: [transaction_id, customer_id, age, gender, marital_status, income, store_id, store_name, group_store, type, latitude, longitude, product_id, product_name, price, date, qty, price-2, total_amount]\n",
      "Index: []\n",
      "Outliers in gender:\n",
      "Empty DataFrame\n",
      "Columns: [transaction_id, customer_id, age, gender, marital_status, income, store_id, store_name, group_store, type, latitude, longitude, product_id, product_name, price, date, qty, price-2, total_amount]\n",
      "Index: []\n",
      "Outliers in income:\n",
      "     transaction_id  customer_id  age  gender marital_status  income  \\\n",
      "100         TR73336          399   52       1     Single       33.77   \n",
      "142         TR82224          246   40       1     Single       21.81   \n",
      "337         TR14148          418   45       0     Single       23.84   \n",
      "359         TR69292          101   61       1     Married      54.20   \n",
      "373         TR44341          133   47       1     Married      20.81   \n",
      "...             ...          ...  ...     ...            ...     ...   \n",
      "4770        TR42422          113   57       0     Married      71.30   \n",
      "4798        TR81010          409   47       0     Married      28.23   \n",
      "4857        TR58076          360   54       0     Married      35.78   \n",
      "4922        TR23586          360   54       0     Married      35.78   \n",
      "4927        TR74254          133   47       1     Married      20.81   \n",
      "\n",
      "      store_id            store_name           group_store  \\\n",
      "100         10  Harapan Baru          Harapan Baru           \n",
      "142         12  Prestasi Utama        Prestasi               \n",
      "337          1  Prima Tendean         Prima                  \n",
      "359          4  Gita Ginara           Gita                   \n",
      "373         14  Priangan              Priangan               \n",
      "...        ...                   ...                   ...   \n",
      "4770        13  Buana                 Buana                  \n",
      "4798        14  Priangan              Priangan               \n",
      "4857         8  Sinar Harapan         Harapan Baru           \n",
      "4922        13  Buana                 Buana                  \n",
      "4927         1  Prima Tendean         Prima                  \n",
      "\n",
      "                      type    latitude  longitude product_id  \\\n",
      "100   General Trade         3597031.00   98678513         P8   \n",
      "142   General Trade        -2990934.00  104756554         P2   \n",
      "337   Modern Trade               -6.20  106816666         P5   \n",
      "359   General Trade        -6966667.00  110416664         P4   \n",
      "373   Modern Trade               -5.45   10526667         P4   \n",
      "...                    ...         ...        ...        ...   \n",
      "4770  General Trade         -126916.00  116825264         P2   \n",
      "4798  Modern Trade               -5.45   10526667         P7   \n",
      "4857  General Trade          554829.00   95323753         P7   \n",
      "4922  General Trade         -126916.00  116825264         P4   \n",
      "4927  Modern Trade               -6.20  106816666        P10   \n",
      "\n",
      "              product_name  price        date  qty  price-2  total_amount  \n",
      "100   Oat                   16000  2022-01-07    3    16000         48000  \n",
      "142   Ginger Candy           3200  2022-01-10    3     3200          9600  \n",
      "337   Thai Tea               4200  2022-01-25    5     4200         21000  \n",
      "359   Potato Chip           12000  2022-01-26    2    12000         24000  \n",
      "373   Potato Chip           12000  2022-01-27    2    12000         24000  \n",
      "...                    ...    ...         ...  ...      ...           ...  \n",
      "4770  Ginger Candy           3200  2022-12-13    7     3200         22400  \n",
      "4798  Coffee Candy           9400  2022-12-15    5     9400         47000  \n",
      "4857  Coffee Candy           9400  2022-12-20    4     9400         37600  \n",
      "4922  Potato Chip           12000  2022-12-25    5    12000         60000  \n",
      "4927  Cheese Stick          15000  2022-12-25    2    15000         30000  \n",
      "\n",
      "[123 rows x 19 columns]\n",
      "Outliers in store_id:\n",
      "Empty DataFrame\n",
      "Columns: [transaction_id, customer_id, age, gender, marital_status, income, store_id, store_name, group_store, type, latitude, longitude, product_id, product_name, price, date, qty, price-2, total_amount]\n",
      "Index: []\n",
      "Outliers in latitude:\n",
      "Empty DataFrame\n",
      "Columns: [transaction_id, customer_id, age, gender, marital_status, income, store_id, store_name, group_store, type, latitude, longitude, product_id, product_name, price, date, qty, price-2, total_amount]\n",
      "Index: []\n",
      "Outliers in longitude:\n",
      "     transaction_id  customer_id  age  gender marital_status  income  \\\n",
      "9            TR7596          270   49       1     Married       8.81   \n",
      "14          TR16534          421   35       0     Married       9.01   \n",
      "19          TR30993           14   58       1     Married      10.18   \n",
      "25          TR63499          118   20       1     Single        3.28   \n",
      "30             TR13          285   20       0     Single        0.00   \n",
      "...             ...          ...  ...     ...            ...     ...   \n",
      "4977        TR71011           63   58       0     Married      10.78   \n",
      "4986        TR25892           97   51       1     Married      20.22   \n",
      "4989        TR44843          189   59       1     Single        5.15   \n",
      "4999        TR25461          209   47       0     Single        2.55   \n",
      "5019        TR85684           55   34       1     Married       8.44   \n",
      "\n",
      "      store_id            store_name           group_store  \\\n",
      "9           14  Priangan              Priangan               \n",
      "14          14  Priangan              Priangan               \n",
      "19           6  Lingga                Lingga                 \n",
      "25          14  Priangan              Priangan               \n",
      "30           6  Lingga                Lingga                 \n",
      "...        ...                   ...                   ...   \n",
      "4977         6  Lingga                Lingga                 \n",
      "4986        14  Priangan              Priangan               \n",
      "4989         6  Lingga                Lingga                 \n",
      "4999         6  Lingga                Lingga                 \n",
      "5019         6  Lingga                Lingga                 \n",
      "\n",
      "                      type    latitude  longitude product_id  \\\n",
      "9     Modern Trade               -5.45   10526667         P7   \n",
      "14    Modern Trade               -5.45   10526667         P3   \n",
      "19    Modern Trade         -5135399.00   11942379        P10   \n",
      "25    Modern Trade               -5.45   10526667         P1   \n",
      "30    Modern Trade         -5135399.00   11942379         P8   \n",
      "...                    ...         ...        ...        ...   \n",
      "4977  Modern Trade         -5135399.00   11942379         P4   \n",
      "4986  Modern Trade               -5.45   10526667         P4   \n",
      "4989  Modern Trade         -5135399.00   11942379         P9   \n",
      "4999  Modern Trade         -5135399.00   11942379         P9   \n",
      "5019  Modern Trade         -5135399.00   11942379         P8   \n",
      "\n",
      "              product_name  price        date  qty  price-2  total_amount  \n",
      "9     Coffee Candy           9400  2022-01-01    2     9400         18800  \n",
      "14    Crackers               7500  2022-01-02    2     7500         15000  \n",
      "19    Cheese Stick          15000  2022-01-02    2    15000         30000  \n",
      "25    Choco Bar              8800  2022-01-02    7     8800         61600  \n",
      "30    Oat                   16000  2022-01-03    1    16000         16000  \n",
      "...                    ...    ...         ...  ...      ...           ...  \n",
      "4977  Potato Chip           12000  2022-12-28    1    12000         12000  \n",
      "4986  Potato Chip           12000  2022-12-29    2    12000         24000  \n",
      "4989  Yoghurt               10000  2022-12-29    1    10000         10000  \n",
      "4999  Yoghurt               10000  2022-12-30    4    10000         40000  \n",
      "5019  Oat                   16000  2022-12-31    1    16000         16000  \n",
      "\n",
      "[714 rows x 19 columns]\n",
      "Outliers in price:\n",
      "Empty DataFrame\n",
      "Columns: [transaction_id, customer_id, age, gender, marital_status, income, store_id, store_name, group_store, type, latitude, longitude, product_id, product_name, price, date, qty, price-2, total_amount]\n",
      "Index: []\n",
      "Outliers in qty:\n",
      "     transaction_id  customer_id  age  gender marital_status  income  \\\n",
      "27           TR7826          181   33       1     Married       9.94   \n",
      "328          TR3218           91   59       0     Married       9.85   \n",
      "478         TR97763          406   38       1     Married       8.64   \n",
      "736         TR81816          120   30       0     Married       2.48   \n",
      "774         TR65685           68   48       1     Married      17.42   \n",
      "944         TR85821           89   32       0     Married       9.68   \n",
      "985         TR77331           73   53       0     Married      13.71   \n",
      "1071        TR69907           51   36       0     Married       7.95   \n",
      "1173         TR4617          422   21       1     Single        3.88   \n",
      "1270        TR90952           37   51       0     Married      17.11   \n",
      "1560        TR28093          391   26       0     Married       4.98   \n",
      "1823        TR36057          157   44       0     Single        2.52   \n",
      "1958        TR18878           76   38       1     Married       7.88   \n",
      "1982        TR71313          117   45       1     Married      12.55   \n",
      "2009        TR52322          369   32       0     Married      10.62   \n",
      "2047         TR9760          150   61       1     Married       8.56   \n",
      "2055        TR18552           18   47       0     Married      13.60   \n",
      "2056        TR26149          157   44       0     Single        2.52   \n",
      "2217        TR84319           83   34       1     Married      10.88   \n",
      "2248         TR3064          436   51       1     Married      18.89   \n",
      "2517        TR53622           87   44       1     Married       9.57   \n",
      "2604        TR57847          363   35       0     Married       6.05   \n",
      "2615        TR35138          276   31       1     Married       8.96   \n",
      "2674        TR81797           37   51       0     Married      17.11   \n",
      "2707        TR52524           80   44       0     Married      13.45   \n",
      "2866        TR56821          357   48       0     Married      18.14   \n",
      "3060        TR63719          184   33       0     Single       13.93   \n",
      "3126        TR99770          114   22       0     Single        3.14   \n",
      "3134        TR36292          434   37       0     Married       9.33   \n",
      "3271        TR43554          376   44       0     Married      14.65   \n",
      "3350         TR1570          167   28       1     Married       2.91   \n",
      "3379        TR80901           12    2       1     Married       4.94   \n",
      "3484        TR30910          284   49       1     Married      11.31   \n",
      "3538        TR73044           11   42       0     Married      12.25   \n",
      "3571        TR79050          317   55       0     Married      13.89   \n",
      "3792        TR40987           69   26       0     Single        2.84   \n",
      "3948        TR87413          303   45       0     Married      10.34   \n",
      "4261         TR6757          364   27       1     Married       3.41   \n",
      "4431        TR53237          105   61       0     Married       7.54   \n",
      "4458        TR29808          138   37       1     Married       8.96   \n",
      "4528         TR7307          353   25       0     Single        1.32   \n",
      "4726        TR20265          402   51       0     Married      17.65   \n",
      "4926        TR47625          121   26       0     Single        2.93   \n",
      "4979        TR89226          100   45       1     Married       6.71   \n",
      "\n",
      "      store_id            store_name           group_store  \\\n",
      "27          12  Prestasi Utama        Prestasi               \n",
      "328         10  Harapan Baru          Harapan Baru           \n",
      "478          3  Prima Kota            Prima                  \n",
      "736          8  Sinar Harapan         Harapan Baru           \n",
      "774         11  Sinar Harapan         Prestasi               \n",
      "944         12  Prestasi Utama        Prestasi               \n",
      "985         11  Sinar Harapan         Prestasi               \n",
      "1071        11  Sinar Harapan         Prestasi               \n",
      "1173         3  Prima Kota            Prima                  \n",
      "1270         3  Prima Kota            Prima                  \n",
      "1560         9  Lingga                Lingga                 \n",
      "1823         9  Lingga                Lingga                 \n",
      "1958        10  Harapan Baru          Harapan Baru           \n",
      "1982         8  Sinar Harapan         Harapan Baru           \n",
      "2009        14  Priangan              Priangan               \n",
      "2047        11  Sinar Harapan         Prestasi               \n",
      "2055         8  Sinar Harapan         Harapan Baru           \n",
      "2056        13  Buana                 Buana                  \n",
      "2217         5  Bonafid               Gita                   \n",
      "2248         3  Prima Kota            Prima                  \n",
      "2517         5  Bonafid               Gita                   \n",
      "2604         4  Gita Ginara           Gita                   \n",
      "2615         9  Lingga                Lingga                 \n",
      "2674         3  Prima Kota            Prima                  \n",
      "2707         1  Prima Tendean         Prima                  \n",
      "2866         6  Lingga                Lingga                 \n",
      "3060        14  Priangan              Priangan               \n",
      "3126         3  Prima Kota            Prima                  \n",
      "3134        10  Harapan Baru          Harapan Baru           \n",
      "3271        12  Prestasi Utama        Prestasi               \n",
      "3350         2  Prima Kelapa Dua      Prima                  \n",
      "3379         3  Prima Kota            Prima                  \n",
      "3484         6  Lingga                Lingga                 \n",
      "3538         6  Lingga                Lingga                 \n",
      "3571         6  Lingga                Lingga                 \n",
      "3792        11  Sinar Harapan         Prestasi               \n",
      "3948         9  Lingga                Lingga                 \n",
      "4261        12  Prestasi Utama        Prestasi               \n",
      "4431         9  Lingga                Lingga                 \n",
      "4458         9  Lingga                Lingga                 \n",
      "4528         9  Lingga                Lingga                 \n",
      "4726         9  Lingga                Lingga                 \n",
      "4926         9  Lingga                Lingga                 \n",
      "4979         8  Sinar Harapan         Harapan Baru           \n",
      "\n",
      "                      type      latitude  longitude product_id  \\\n",
      "27    General Trade        -2.990934e+06  104756554         P1   \n",
      "328   General Trade         3.597031e+06   98678513         P1   \n",
      "478   Modern Trade         -7.797068e+06  110370529         P1   \n",
      "736   General Trade         5.548290e+05   95323753         P1   \n",
      "774   General Trade         5.335050e-01  101447403         P1   \n",
      "944   General Trade        -2.990934e+06  104756554         P1   \n",
      "985   General Trade         5.335050e-01  101447403         P1   \n",
      "1071  General Trade         5.335050e-01  101447403         P1   \n",
      "1173  Modern Trade         -7.797068e+06  110370529         P1   \n",
      "1270  Modern Trade         -7.797068e+06  110370529         P1   \n",
      "1560  Modern Trade         -3.654703e+06  128190643         P1   \n",
      "1823  Modern Trade         -3.654703e+06  128190643         P1   \n",
      "1958  General Trade         3.597031e+06   98678513         P1   \n",
      "1982  General Trade         5.548290e+05   95323753         P1   \n",
      "2009  Modern Trade         -5.450000e+00   10526667         P1   \n",
      "2047  General Trade         5.335050e-01  101447403         P1   \n",
      "2055  General Trade         5.548290e+05   95323753         P1   \n",
      "2056  General Trade        -1.269160e+05  116825264         P1   \n",
      "2217  General Trade        -7.250445e+06  112768845         P1   \n",
      "2248  Modern Trade         -7.797068e+06  110370529         P1   \n",
      "2517  General Trade        -7.250445e+06  112768845         P1   \n",
      "2604  General Trade        -6.966667e+06  110416664         P1   \n",
      "2615  Modern Trade         -3.654703e+06  128190643         P1   \n",
      "2674  Modern Trade         -7.797068e+06  110370529         P1   \n",
      "2707  Modern Trade         -6.200000e+00  106816666         P1   \n",
      "2866  Modern Trade         -5.135399e+06   11942379         P1   \n",
      "3060  Modern Trade         -5.450000e+00   10526667         P1   \n",
      "3126  Modern Trade         -7.797068e+06  110370529         P1   \n",
      "3134  General Trade         3.597031e+06   98678513         P1   \n",
      "3271  General Trade        -2.990934e+06  104756554         P1   \n",
      "3350  Modern Trade         -6.914864e+06  107608238         P1   \n",
      "3379  Modern Trade         -7.797068e+06  110370529         P1   \n",
      "3484  Modern Trade         -5.135399e+06   11942379         P1   \n",
      "3538  Modern Trade         -5.135399e+06   11942379         P1   \n",
      "3571  Modern Trade         -5.135399e+06   11942379         P1   \n",
      "3792  General Trade         5.335050e-01  101447403         P1   \n",
      "3948  Modern Trade         -3.654703e+06  128190643         P1   \n",
      "4261  General Trade        -2.990934e+06  104756554         P1   \n",
      "4431  Modern Trade         -3.654703e+06  128190643         P1   \n",
      "4458  Modern Trade         -3.654703e+06  128190643         P1   \n",
      "4528  Modern Trade         -3.654703e+06  128190643         P1   \n",
      "4726  Modern Trade         -3.654703e+06  128190643         P1   \n",
      "4926  Modern Trade         -3.654703e+06  128190643         P1   \n",
      "4979  General Trade         5.548290e+05   95323753         P1   \n",
      "\n",
      "              product_name  price        date  qty  price-2  total_amount  \n",
      "27    Choco Bar              8800  2022-01-02   10     8800         88000  \n",
      "328   Choco Bar              8800  2022-01-24   10     8800         88000  \n",
      "478   Choco Bar              8800  2022-02-03   10     8800         88000  \n",
      "736   Choco Bar              8800  2022-02-23   10     8800         88000  \n",
      "774   Choco Bar              8800  2022-02-26   10     8800         88000  \n",
      "944   Choco Bar              8800  2022-03-07   10     8800         88000  \n",
      "985   Choco Bar              8800  2022-03-10   10     8800         88000  \n",
      "1071  Choco Bar              8800  2022-03-16   10     8800         88000  \n",
      "1173  Choco Bar              8800  2022-03-24   10     8800         88000  \n",
      "1270  Choco Bar              8800  2022-03-30   10     8800         88000  \n",
      "1560  Choco Bar              8800  2022-04-22   10     8800         88000  \n",
      "1823  Choco Bar              8800  2022-05-11   10     8800         88000  \n",
      "1958  Choco Bar              8800  2022-05-20   10     8800         88000  \n",
      "1982  Choco Bar              8800  2022-05-21   10     8800         88000  \n",
      "2009  Choco Bar              8800  2022-05-24   10     8800         88000  \n",
      "2047  Choco Bar              8800  2022-05-26   10     8800         88000  \n",
      "2055  Choco Bar              8800  2022-05-28   10     8800         88000  \n",
      "2056  Choco Bar              8800  2022-05-28   10     8800         88000  \n",
      "2217  Choco Bar              8800  2022-06-09   10     8800         88000  \n",
      "2248  Choco Bar              8800  2022-06-11   10     8800         88000  \n",
      "2517  Choco Bar              8800  2022-06-29   10     8800         88000  \n",
      "2604  Choco Bar              8800  2022-07-05   10     8800         88000  \n",
      "2615  Choco Bar              8800  2022-07-06   10     8800         88000  \n",
      "2674  Choco Bar              8800  2022-07-10   10     8800         88000  \n",
      "2707  Choco Bar              8800  2022-07-13   10     8800         88000  \n",
      "2866  Choco Bar              8800  2022-07-25   10     8800         88000  \n",
      "3060  Choco Bar              8800  2022-08-09   10     8800         88000  \n",
      "3126  Choco Bar              8800  2022-08-14   10     8800         88000  \n",
      "3134  Choco Bar              8800  2022-08-15   10     8800         88000  \n",
      "3271  Choco Bar              8800  2022-08-25   10     8800         88000  \n",
      "3350  Choco Bar              8800  2022-04-01   10     8800         88000  \n",
      "3379  Choco Bar              8800  2022-09-02   10     8800         88000  \n",
      "3484  Choco Bar              8800  2022-09-11   10     8800         88000  \n",
      "3538  Choco Bar              8800  2022-09-14   10     8800         88000  \n",
      "3571  Choco Bar              8800  2022-09-16   10     8800         88000  \n",
      "3792  Choco Bar              8800  2022-10-01   10     8800         88000  \n",
      "3948  Choco Bar              8800  2022-10-12   10     8800         88000  \n",
      "4261  Choco Bar              8800  2022-11-06   10     8800         88000  \n",
      "4431  Choco Bar              8800  2022-11-18   10     8800         88000  \n",
      "4458  Choco Bar              8800  2022-11-20   10     8800         88000  \n",
      "4528  Choco Bar              8800  2022-11-25   10     8800         88000  \n",
      "4726  Choco Bar              8800  2022-12-10   10     8800         88000  \n",
      "4926  Choco Bar              8800  2022-12-25   10     8800         88000  \n",
      "4979  Choco Bar              8800  2022-12-28   10     8800         88000  \n",
      "Outliers in price-2:\n",
      "Empty DataFrame\n",
      "Columns: [transaction_id, customer_id, age, gender, marital_status, income, store_id, store_name, group_store, type, latitude, longitude, product_id, product_name, price, date, qty, price-2, total_amount]\n",
      "Index: []\n",
      "Outliers in total_amount:\n",
      "Empty DataFrame\n",
      "Columns: [transaction_id, customer_id, age, gender, marital_status, income, store_id, store_name, group_store, type, latitude, longitude, product_id, product_name, price, date, qty, price-2, total_amount]\n",
      "Index: []\n"
     ]
    }
   ],
   "source": [
    "summary = df.describe()\n",
    "\n",
    "# Loop melalui setiap kolom dalam ringkasan statistik\n",
    "for kolom in summary.columns:\n",
    "    # Mendapatkan nilai Q1, Q3, dan IQR dari ringkasan statistik\n",
    "    Q1 = summary.loc['25%', kolom]\n",
    "    Q3 = summary.loc['75%', kolom]\n",
    "    IQR = Q3 - Q1\n",
    "    \n",
    "    # Menghitung lower bound dan upper bound untuk deteksi outlier\n",
    "    lower_bound = Q1 - 1.5 * IQR\n",
    "    upper_bound = Q3 + 1.5 * IQR\n",
    "\n",
    "    # Mencetak outlier berdasarkan lower bound dan upper bound\n",
    "    outliers = df[(df[kolom] < lower_bound) | (df[kolom] > upper_bound)]\n",
    "    print(f\"Outliers in {kolom}:\")\n",
    "    print(outliers)"
   ]
  },
  {
   "cell_type": "markdown",
   "id": "8319ca3c",
   "metadata": {},
   "source": [
    "\"Empty DataFrame\" menunjukkan bahwa tidak ada nilai yang diidentifikasi sebagai outlier dalam kolom tersebut. Namun, ternyata terdapat beberapa kolom yang memiliki outliers seperti kolom-kolom berikut:\n",
    "- kolom 'income'\n",
    "- kolom 'longitude'\n",
    "- kolom 'qty'"
   ]
  },
  {
   "cell_type": "code",
   "execution_count": 15,
   "id": "b32d0cdf",
   "metadata": {},
   "outputs": [
    {
     "data": {
      "image/png": "[encoded data removed]",
      "text/plain": [
       "<Figure size 576x432 with 1 Axes>"
      ]
     },
     "metadata": {},
     "output_type": "display_data"
    }
   ],
   "source": [
    "#Box Plot untuk kolom 'qty'\n",
    "\n",
    "plt.figure(figsize=(8, 6))\n",
    "sns.boxplot(data=df['qty'], orient='v')\n",
    "plt.title(\"Diagram Kotak (Box Plot) untuk Mendeteksi Outliers\")\n",
    "plt.ylabel(\"Nilai Kolom\")\n",
    "plt.show()"
   ]
  },
  {
   "cell_type": "markdown",
   "id": "03dbcf31",
   "metadata": {},
   "source": [
    "## DATA CLEANSING"
   ]
  },
  {
   "cell_type": "markdown",
   "id": "9c3d8355",
   "metadata": {},
   "source": [
    "### Membersihkan Duplikat Data"
   ]
  },
  {
   "cell_type": "code",
   "execution_count": 16,
   "id": "11864386",
   "metadata": {},
   "outputs": [],
   "source": [
    "df = df.drop_duplicates(subset='transaction_id')"
   ]
  },
  {
   "cell_type": "code",
   "execution_count": 17,
   "id": "e6590548",
   "metadata": {},
   "outputs": [
    {
     "data": {
      "text/plain": [
       "TR11369    1\n",
       "TR7241     1\n",
       "TR25557    1\n",
       "TR15572    1\n",
       "TR11870    1\n",
       "          ..\n",
       "TR6576     1\n",
       "TR59105    1\n",
       "TR54351    1\n",
       "TR52555    1\n",
       "TR85684    1\n",
       "Name: transaction_id, Length: 4908, dtype: int64"
      ]
     },
     "execution_count": 17,
     "metadata": {},
     "output_type": "execute_result"
    }
   ],
   "source": [
    "df['transaction_id'].value_counts()"
   ]
  },
  {
   "cell_type": "markdown",
   "id": "362efe83",
   "metadata": {},
   "source": [
    "Data sudah tidak memiliki nilai yag duplikat"
   ]
  },
  {
   "cell_type": "markdown",
   "id": "02df35e4",
   "metadata": {},
   "source": [
    "### Mengubah Tipe data kolom 'date' kedalam Tipe data Datetime"
   ]
  },
  {
   "cell_type": "code",
   "execution_count": 18,
   "id": "54cb150b",
   "metadata": {},
   "outputs": [],
   "source": [
    "df['date'] = pd.to_datetime(df['date'])"
   ]
  },
  {
   "cell_type": "code",
   "execution_count": 19,
   "id": "e0cdd157",
   "metadata": {},
   "outputs": [
    {
     "name": "stdout",
     "output_type": "stream",
     "text": [
      "<class 'pandas.core.series.Series'>\n",
      "Int64Index: 4908 entries, 0 to 5019\n",
      "Series name: date\n",
      "Non-Null Count  Dtype         \n",
      "--------------  -----         \n",
      "4908 non-null   datetime64[ns]\n",
      "dtypes: datetime64[ns](1)\n",
      "memory usage: 76.7 KB\n"
     ]
    }
   ],
   "source": [
    "df['date'].info()"
   ]
  },
  {
   "cell_type": "markdown",
   "id": "f965c2a6",
   "metadata": {},
   "source": [
    "### Menghapus kolom duplikat dari kolon 'price' yakni kolom 'price-2'"
   ]
  },
  {
   "cell_type": "code",
   "execution_count": 20,
   "id": "f74ca609",
   "metadata": {},
   "outputs": [],
   "source": [
    "df = df.drop(\"price-2\", axis=1)"
   ]
  },
  {
   "cell_type": "code",
   "execution_count": 21,
   "id": "23e9c316",
   "metadata": {},
   "outputs": [
    {
     "data": {
      "text/plain": [
       "Index(['transaction_id', 'customer_id', 'age', 'gender', 'marital_status',\n",
       "       'income', 'store_id', 'store_name', 'group_store', 'type', 'latitude',\n",
       "       'longitude', 'product_id', 'product_name', 'price', 'date', 'qty',\n",
       "       'total_amount'],\n",
       "      dtype='object')"
      ]
     },
     "execution_count": 21,
     "metadata": {},
     "output_type": "execute_result"
    }
   ],
   "source": [
    "df.columns"
   ]
  },
  {
   "cell_type": "markdown",
   "id": "c26a4971",
   "metadata": {},
   "source": [
    "Kolom duplikat dari kolom 'price' yakni kolom 'price-2' sudah dihilangkan"
   ]
  },
  {
   "cell_type": "markdown",
   "id": "42be6234",
   "metadata": {},
   "source": [
    "### Mengubah Tipe data 'longitude' kedalam Tipe data 'float'"
   ]
  },
  {
   "cell_type": "markdown",
   "id": "3a3feb2e",
   "metadata": {},
   "source": [
    "Karena kolom 'latitude' dan 'longtitude' memiliki tipe data yang berbeda, maka kolom 'longtitude' akan diubah tipenya menjadi tipe data 'float'"
   ]
  },
  {
   "cell_type": "code",
   "execution_count": 22,
   "id": "4c9d9669",
   "metadata": {},
   "outputs": [],
   "source": [
    "df['longitude'] = df['longitude'].astype('float64')"
   ]
  },
  {
   "cell_type": "code",
   "execution_count": 23,
   "id": "1a997b1f",
   "metadata": {},
   "outputs": [
    {
     "name": "stdout",
     "output_type": "stream",
     "text": [
      "<class 'pandas.core.frame.DataFrame'>\n",
      "Int64Index: 4908 entries, 0 to 5019\n",
      "Data columns (total 18 columns):\n",
      " #   Column          Non-Null Count  Dtype         \n",
      "---  ------          --------------  -----         \n",
      " 0   transaction_id  4908 non-null   object        \n",
      " 1   customer_id     4908 non-null   int64         \n",
      " 2   age             4908 non-null   int64         \n",
      " 3   gender          4908 non-null   int64         \n",
      " 4   marital_status  4908 non-null   object        \n",
      " 5   income          4908 non-null   float64       \n",
      " 6   store_id        4908 non-null   int64         \n",
      " 7   store_name      4908 non-null   object        \n",
      " 8   group_store     4908 non-null   object        \n",
      " 9   type            4908 non-null   object        \n",
      " 10  latitude        4908 non-null   float64       \n",
      " 11  longitude       4908 non-null   float64       \n",
      " 12  product_id      4908 non-null   object        \n",
      " 13  product_name    4908 non-null   object        \n",
      " 14  price           4908 non-null   int64         \n",
      " 15  date            4908 non-null   datetime64[ns]\n",
      " 16  qty             4908 non-null   int64         \n",
      " 17  total_amount    4908 non-null   int64         \n",
      "dtypes: datetime64[ns](1), float64(3), int64(7), object(7)\n",
      "memory usage: 728.5+ KB\n"
     ]
    }
   ],
   "source": [
    "df.info()"
   ]
  },
  {
   "cell_type": "markdown",
   "id": "e9c33824",
   "metadata": {},
   "source": [
    "Terlihat bahwa kolom 'latitude' dan 'longtitude' sudah memiliki tipe data yang sama, yakni tipe data 'float'"
   ]
  },
  {
   "cell_type": "markdown",
   "id": "1d36d7ab",
   "metadata": {},
   "source": [
    "### Menghapus Data Outliers"
   ]
  },
  {
   "cell_type": "markdown",
   "id": "4d7e2651",
   "metadata": {},
   "source": [
    "Karena hanya kolom 'qty' yang akan digunakan dalam model baik untuk ARIMA dan Clustering, maka hanya Data Outliers pada kolom 'qty' yang akan dibersihkan"
   ]
  },
  {
   "cell_type": "code",
   "execution_count": 24,
   "id": "c995f7f1",
   "metadata": {},
   "outputs": [],
   "source": [
    "# Ambil kolom data\n",
    "column_data = df['qty']\n",
    "\n",
    "# Hitung IQR (Interquartile Range)\n",
    "Q1 = column_data.quantile(0.25)\n",
    "Q3 = column_data.quantile(0.75)\n",
    "IQR = Q3 - Q1\n",
    "\n",
    "# Hitung batas bawah dan batas atas\n",
    "lower_bound = Q1 - 1.5 * IQR\n",
    "upper_bound = Q3 + 1.5 * IQR\n",
    "\n",
    "# Hapus outlier\n",
    "cleaned_data = column_data[(column_data >= lower_bound) & (column_data <= upper_bound)]\n",
    "\n",
    "# Menggabungkan cleaned_data ke dalam dataframe utama\n",
    "df['qty'] = cleaned_data"
   ]
  },
  {
   "cell_type": "markdown",
   "id": "8032d7af",
   "metadata": {},
   "source": [
    "## ARIMA"
   ]
  },
  {
   "cell_type": "markdown",
   "id": "ecf481cb",
   "metadata": {},
   "source": [
    "### Mengelompokan Data"
   ]
  },
  {
   "cell_type": "code",
   "execution_count": 25,
   "id": "7cb7dfa9",
   "metadata": {},
   "outputs": [
    {
     "name": "stdout",
     "output_type": "stream",
     "text": [
      "          date   qty\n",
      "0   2022-01-01  49.0\n",
      "1   2022-01-02  49.0\n",
      "2   2022-01-03  63.0\n",
      "3   2022-01-04  45.0\n",
      "4   2022-01-05  30.0\n",
      "..         ...   ...\n",
      "360 2022-12-27  70.0\n",
      "361 2022-12-28  58.0\n",
      "362 2022-12-29  42.0\n",
      "363 2022-12-30  41.0\n",
      "364 2022-12-31  37.0\n",
      "\n",
      "[365 rows x 2 columns]\n"
     ]
    }
   ],
   "source": [
    "# Groupby 'date' dan mengagregasikan 'qty' dengan fungsi sum\n",
    "agg_df = df.groupby('date')['qty'].sum().reset_index()\n",
    "\n",
    "# Menampilkan hasil\n",
    "print(agg_df)"
   ]
  },
  {
   "cell_type": "code",
   "execution_count": 26,
   "id": "f6fa12cf",
   "metadata": {},
   "outputs": [
    {
     "data": {
      "text/html": [
       "<div>\n",
       "<style scoped>\n",
       "    .dataframe tbody tr th:only-of-type {\n",
       "        vertical-align: middle;\n",
       "    }\n",
       "\n",
       "    .dataframe tbody tr th {\n",
       "        vertical-align: top;\n",
       "    }\n",
       "\n",
       "    .dataframe thead th {\n",
       "        text-align: right;\n",
       "    }\n",
       "</style>\n",
       "<table border=\"1\" class=\"dataframe\">\n",
       "  <thead>\n",
       "    <tr style=\"text-align: right;\">\n",
       "      <th></th>\n",
       "      <th>date</th>\n",
       "      <th>qty</th>\n",
       "    </tr>\n",
       "  </thead>\n",
       "  <tbody>\n",
       "    <tr>\n",
       "      <th>0</th>\n",
       "      <td>2022-01-01</td>\n",
       "      <td>49.0</td>\n",
       "    </tr>\n",
       "    <tr>\n",
       "      <th>1</th>\n",
       "      <td>2022-01-02</td>\n",
       "      <td>49.0</td>\n",
       "    </tr>\n",
       "    <tr>\n",
       "      <th>2</th>\n",
       "      <td>2022-01-03</td>\n",
       "      <td>63.0</td>\n",
       "    </tr>\n",
       "    <tr>\n",
       "      <th>3</th>\n",
       "      <td>2022-01-04</td>\n",
       "      <td>45.0</td>\n",
       "    </tr>\n",
       "    <tr>\n",
       "      <th>4</th>\n",
       "      <td>2022-01-05</td>\n",
       "      <td>30.0</td>\n",
       "    </tr>\n",
       "    <tr>\n",
       "      <th>5</th>\n",
       "      <td>2022-01-06</td>\n",
       "      <td>71.0</td>\n",
       "    </tr>\n",
       "    <tr>\n",
       "      <th>6</th>\n",
       "      <td>2022-01-07</td>\n",
       "      <td>37.0</td>\n",
       "    </tr>\n",
       "    <tr>\n",
       "      <th>7</th>\n",
       "      <td>2022-01-08</td>\n",
       "      <td>47.0</td>\n",
       "    </tr>\n",
       "    <tr>\n",
       "      <th>8</th>\n",
       "      <td>2022-01-09</td>\n",
       "      <td>47.0</td>\n",
       "    </tr>\n",
       "    <tr>\n",
       "      <th>9</th>\n",
       "      <td>2022-01-10</td>\n",
       "      <td>60.0</td>\n",
       "    </tr>\n",
       "  </tbody>\n",
       "</table>\n",
       "</div>"
      ],
      "text/plain": [
       "        date   qty\n",
       "0 2022-01-01  49.0\n",
       "1 2022-01-02  49.0\n",
       "2 2022-01-03  63.0\n",
       "3 2022-01-04  45.0\n",
       "4 2022-01-05  30.0\n",
       "5 2022-01-06  71.0\n",
       "6 2022-01-07  37.0\n",
       "7 2022-01-08  47.0\n",
       "8 2022-01-09  47.0\n",
       "9 2022-01-10  60.0"
      ]
     },
     "execution_count": 26,
     "metadata": {},
     "output_type": "execute_result"
    }
   ],
   "source": [
    "agg_df.head(10)"
   ]
  },
  {
   "cell_type": "markdown",
   "id": "4de9fd9b",
   "metadata": {},
   "source": [
    "### Visualisasi Hasil Pengelompokan Data"
   ]
  },
  {
   "cell_type": "code",
   "execution_count": 27,
   "id": "b4b57c0f",
   "metadata": {},
   "outputs": [
    {
     "data": {
      "image/png": "[encoded data removed]",
      "text/plain": [
       "<Figure size 1080x360 with 1 Axes>"
      ]
     },
     "metadata": {},
     "output_type": "display_data"
    }
   ],
   "source": [
    "# Mengatur ukuran gambar\n",
    "plt.figure(figsize=(15, 5))\n",
    "\n",
    "# Mengambil nilai tanggal untuk sumbu x\n",
    "tanggal = agg_df['date']\n",
    "\n",
    "# Mengambil nilai qty untuk sumbu y\n",
    "qty = agg_df['qty']\n",
    "\n",
    "# Menggambar line plot\n",
    "plt.plot(tanggal, qty, color='blue', marker='o')\n",
    "\n",
    "# Memberi label sumbu x dan y\n",
    "plt.xlabel('Tanggal')\n",
    "plt.ylabel('Total Quantity')\n",
    "\n",
    "# Memberi judul plot\n",
    "plt.title('Total Quantity per Day')\n",
    "\n",
    "# Menampilkan plot\n",
    "plt.show()"
   ]
  },
  {
   "cell_type": "markdown",
   "id": "581cca24",
   "metadata": {},
   "source": [
    "### Stationary Test"
   ]
  },
  {
   "cell_type": "markdown",
   "id": "d700c734",
   "metadata": {},
   "source": [
    "Stationary Test yang dilakukan menggunakan Uji Augmented Dickey-Fuller (ADF)"
   ]
  },
  {
   "cell_type": "code",
   "execution_count": 28,
   "id": "761d5fac",
   "metadata": {},
   "outputs": [
    {
     "name": "stdout",
     "output_type": "stream",
     "text": [
      "ADF Statistic: -18.319610390556896\n",
      "p-value: 2.267263961061323e-30\n",
      "Critical Values:\n",
      "1%: -3.4484434475193777\n",
      "5%: -2.869513170510808\n",
      "10%: -2.571017574266393\n"
     ]
    }
   ],
   "source": [
    "# Mengambil kolom yang akan diuji stasioneritasnya\n",
    "data = agg_df['qty']\n",
    "\n",
    "# Melakukan tes ADF\n",
    "result = adfuller(data)\n",
    "\n",
    "# Mencetak hasil tes ADF\n",
    "print('ADF Statistic:', result[0])\n",
    "print('p-value:', result[1])\n",
    "print('Critical Values:')\n",
    "for key, value in result[4].items():\n",
    "    print(f'{key}: {value}')"
   ]
  },
  {
   "cell_type": "markdown",
   "id": "80ba9901",
   "metadata": {},
   "source": [
    "Berdasarkan hasil tes ADF di atas, berikut adalah interpretasinya:\n",
    "- ADF Statistic: -18.319610390556896: Ini adalah nilai statistik uji ADF yang sangat negatif. Nilai ini digunakan untuk mengevaluasi sejauh mana data deret waktu tersebut mungkin stasioner. Semakin negatif nilainya, semakin mungkin data tersebut stasioner.\n",
    "\n",
    "- p-value: 2.267263961061323e-30: P-value yang sangat kecil (dalam notasi ilmiah, e-30 adalah 10 pangkat minus 30) menunjukkan bahwa kita memiliki cukup bukti untuk menolak hipotesis nol. Hipotesis nol dalam uji ADF adalah bahwa data deret waktu tidak stasioner. Dalam hal ini, kita dapat menolak hipotesis nol.\n",
    "\n",
    "- Critical Values (Nilai Kritis): Ini adalah nilai-nilai yang digunakan sebagai perbandingan. Jika nilai ADF Statistic lebih negatif daripada nilai kritis tertentu, maka data cenderung stasioner. Kita memiliki tiga tingkat signifikansi yang umum digunakan: 1%, 5%, dan 10%. Dalam hal ini, nilai ADF Statistic lebih negatif daripada semua nilai kritis ini.\n",
    "\n",
    "Dengan hasil ini, dapat disimpulkan bahwa deret waktu ini adalah stasioner. Artinya, tidak ada tren signifikan atau komponen non-stasioner dalam data."
   ]
  },
  {
   "cell_type": "markdown",
   "id": "3e8f226b",
   "metadata": {},
   "source": [
    "### Split Data Train dan Test"
   ]
  },
  {
   "cell_type": "markdown",
   "id": "2dd7f818",
   "metadata": {},
   "source": [
    "Data akan dibagi menjadi 80% data latih dan 20% data uji"
   ]
  },
  {
   "cell_type": "code",
   "execution_count": 29,
   "id": "95d1f175",
   "metadata": {},
   "outputs": [],
   "source": [
    "# Mengurutkan dataset berdasarkan kolom tanggal\n",
    "agg_df = agg_df.sort_values('date')\n",
    "\n",
    "# Menghitung jumlah baris untuk data latih\n",
    "train_rows = int(0.8 * len(agg_df))\n",
    "\n",
    "# Memisahkan data latih dan data uji\n",
    "train_df = agg_df.iloc[:train_rows]\n",
    "test_df = agg_df.iloc[train_rows:]"
   ]
  },
  {
   "cell_type": "code",
   "execution_count": 30,
   "id": "02ddf772",
   "metadata": {},
   "outputs": [
    {
     "data": {
      "text/plain": [
       "(292, 2)"
      ]
     },
     "execution_count": 30,
     "metadata": {},
     "output_type": "execute_result"
    }
   ],
   "source": [
    "train_df.shape"
   ]
  },
  {
   "cell_type": "code",
   "execution_count": 31,
   "id": "9e66b8d2",
   "metadata": {},
   "outputs": [
    {
     "data": {
      "text/plain": [
       "(73, 2)"
      ]
     },
     "execution_count": 31,
     "metadata": {},
     "output_type": "execute_result"
    }
   ],
   "source": [
    "test_df.shape"
   ]
  },
  {
   "cell_type": "code",
   "execution_count": 32,
   "id": "d2cf2e8b",
   "metadata": {},
   "outputs": [
    {
     "data": {
      "text/html": [
       "<div>\n",
       "<style scoped>\n",
       "    .dataframe tbody tr th:only-of-type {\n",
       "        vertical-align: middle;\n",
       "    }\n",
       "\n",
       "    .dataframe tbody tr th {\n",
       "        vertical-align: top;\n",
       "    }\n",
       "\n",
       "    .dataframe thead th {\n",
       "        text-align: right;\n",
       "    }\n",
       "</style>\n",
       "<table border=\"1\" class=\"dataframe\">\n",
       "  <thead>\n",
       "    <tr style=\"text-align: right;\">\n",
       "      <th></th>\n",
       "      <th>date</th>\n",
       "      <th>qty</th>\n",
       "    </tr>\n",
       "  </thead>\n",
       "  <tbody>\n",
       "    <tr>\n",
       "      <th>0</th>\n",
       "      <td>2022-01-01</td>\n",
       "      <td>49.0</td>\n",
       "    </tr>\n",
       "    <tr>\n",
       "      <th>1</th>\n",
       "      <td>2022-01-02</td>\n",
       "      <td>49.0</td>\n",
       "    </tr>\n",
       "    <tr>\n",
       "      <th>2</th>\n",
       "      <td>2022-01-03</td>\n",
       "      <td>63.0</td>\n",
       "    </tr>\n",
       "    <tr>\n",
       "      <th>3</th>\n",
       "      <td>2022-01-04</td>\n",
       "      <td>45.0</td>\n",
       "    </tr>\n",
       "    <tr>\n",
       "      <th>4</th>\n",
       "      <td>2022-01-05</td>\n",
       "      <td>30.0</td>\n",
       "    </tr>\n",
       "    <tr>\n",
       "      <th>5</th>\n",
       "      <td>2022-01-06</td>\n",
       "      <td>71.0</td>\n",
       "    </tr>\n",
       "    <tr>\n",
       "      <th>6</th>\n",
       "      <td>2022-01-07</td>\n",
       "      <td>37.0</td>\n",
       "    </tr>\n",
       "    <tr>\n",
       "      <th>7</th>\n",
       "      <td>2022-01-08</td>\n",
       "      <td>47.0</td>\n",
       "    </tr>\n",
       "    <tr>\n",
       "      <th>8</th>\n",
       "      <td>2022-01-09</td>\n",
       "      <td>47.0</td>\n",
       "    </tr>\n",
       "    <tr>\n",
       "      <th>9</th>\n",
       "      <td>2022-01-10</td>\n",
       "      <td>60.0</td>\n",
       "    </tr>\n",
       "  </tbody>\n",
       "</table>\n",
       "</div>"
      ],
      "text/plain": [
       "        date   qty\n",
       "0 2022-01-01  49.0\n",
       "1 2022-01-02  49.0\n",
       "2 2022-01-03  63.0\n",
       "3 2022-01-04  45.0\n",
       "4 2022-01-05  30.0\n",
       "5 2022-01-06  71.0\n",
       "6 2022-01-07  37.0\n",
       "7 2022-01-08  47.0\n",
       "8 2022-01-09  47.0\n",
       "9 2022-01-10  60.0"
      ]
     },
     "execution_count": 32,
     "metadata": {},
     "output_type": "execute_result"
    }
   ],
   "source": [
    "train_df.head(10)"
   ]
  },
  {
   "cell_type": "code",
   "execution_count": 33,
   "id": "dbfa18db",
   "metadata": {},
   "outputs": [
    {
     "data": {
      "text/html": [
       "<div>\n",
       "<style scoped>\n",
       "    .dataframe tbody tr th:only-of-type {\n",
       "        vertical-align: middle;\n",
       "    }\n",
       "\n",
       "    .dataframe tbody tr th {\n",
       "        vertical-align: top;\n",
       "    }\n",
       "\n",
       "    .dataframe thead th {\n",
       "        text-align: right;\n",
       "    }\n",
       "</style>\n",
       "<table border=\"1\" class=\"dataframe\">\n",
       "  <thead>\n",
       "    <tr style=\"text-align: right;\">\n",
       "      <th></th>\n",
       "      <th>date</th>\n",
       "      <th>qty</th>\n",
       "    </tr>\n",
       "  </thead>\n",
       "  <tbody>\n",
       "    <tr>\n",
       "      <th>292</th>\n",
       "      <td>2022-10-20</td>\n",
       "      <td>39.0</td>\n",
       "    </tr>\n",
       "    <tr>\n",
       "      <th>293</th>\n",
       "      <td>2022-10-21</td>\n",
       "      <td>35.0</td>\n",
       "    </tr>\n",
       "    <tr>\n",
       "      <th>294</th>\n",
       "      <td>2022-10-22</td>\n",
       "      <td>56.0</td>\n",
       "    </tr>\n",
       "    <tr>\n",
       "      <th>295</th>\n",
       "      <td>2022-10-23</td>\n",
       "      <td>59.0</td>\n",
       "    </tr>\n",
       "    <tr>\n",
       "      <th>296</th>\n",
       "      <td>2022-10-24</td>\n",
       "      <td>39.0</td>\n",
       "    </tr>\n",
       "    <tr>\n",
       "      <th>297</th>\n",
       "      <td>2022-10-25</td>\n",
       "      <td>29.0</td>\n",
       "    </tr>\n",
       "    <tr>\n",
       "      <th>298</th>\n",
       "      <td>2022-10-26</td>\n",
       "      <td>40.0</td>\n",
       "    </tr>\n",
       "    <tr>\n",
       "      <th>299</th>\n",
       "      <td>2022-10-27</td>\n",
       "      <td>32.0</td>\n",
       "    </tr>\n",
       "    <tr>\n",
       "      <th>300</th>\n",
       "      <td>2022-10-28</td>\n",
       "      <td>58.0</td>\n",
       "    </tr>\n",
       "    <tr>\n",
       "      <th>301</th>\n",
       "      <td>2022-10-29</td>\n",
       "      <td>49.0</td>\n",
       "    </tr>\n",
       "  </tbody>\n",
       "</table>\n",
       "</div>"
      ],
      "text/plain": [
       "          date   qty\n",
       "292 2022-10-20  39.0\n",
       "293 2022-10-21  35.0\n",
       "294 2022-10-22  56.0\n",
       "295 2022-10-23  59.0\n",
       "296 2022-10-24  39.0\n",
       "297 2022-10-25  29.0\n",
       "298 2022-10-26  40.0\n",
       "299 2022-10-27  32.0\n",
       "300 2022-10-28  58.0\n",
       "301 2022-10-29  49.0"
      ]
     },
     "execution_count": 33,
     "metadata": {},
     "output_type": "execute_result"
    }
   ],
   "source": [
    "test_df.head(10)"
   ]
  },
  {
   "cell_type": "code",
   "execution_count": 34,
   "id": "10fcfac2",
   "metadata": {},
   "outputs": [
    {
     "name": "stdout",
     "output_type": "stream",
     "text": [
      "<class 'pandas.core.frame.DataFrame'>\n",
      "Int64Index: 292 entries, 0 to 291\n",
      "Data columns (total 2 columns):\n",
      " #   Column  Non-Null Count  Dtype         \n",
      "---  ------  --------------  -----         \n",
      " 0   date    292 non-null    datetime64[ns]\n",
      " 1   qty     292 non-null    float64       \n",
      "dtypes: datetime64[ns](1), float64(1)\n",
      "memory usage: 6.8 KB\n"
     ]
    }
   ],
   "source": [
    "train_df.info()"
   ]
  },
  {
   "cell_type": "markdown",
   "id": "1eb0e183",
   "metadata": {},
   "source": [
    "### Visualisasi Hasil Split Data"
   ]
  },
  {
   "cell_type": "code",
   "execution_count": 35,
   "id": "0aaf4ad4",
   "metadata": {},
   "outputs": [
    {
     "data": {
      "image/png": "[encoded data removed]",
      "text/plain": [
       "<Figure size 1080x360 with 1 Axes>"
      ]
     },
     "metadata": {},
     "output_type": "display_data"
    }
   ],
   "source": [
    "# Mengatur ukuran gambar\n",
    "plt.figure(figsize=(15, 5))\n",
    "\n",
    "# Mengambil nilai tanggal untuk sumbu x\n",
    "tanggal = agg_df['date']\n",
    "\n",
    "# Mengambil nilai target untuk sumbu y\n",
    "target = agg_df['qty']\n",
    "\n",
    "# Mengambil nilai tanggal data latih untuk sumbu x\n",
    "train_tanggal = train_df['date']\n",
    "\n",
    "# Mengambil nilai target data latih untuk sumbu y\n",
    "train_target = train_df['qty']\n",
    "\n",
    "# Mengambil nilai tanggal data uji untuk sumbu x\n",
    "test_tanggal = test_df['date']\n",
    "\n",
    "# Mengambil nilai target data uji untuk sumbu y\n",
    "test_target = test_df['qty']\n",
    "\n",
    "# Menggambar line plot untuk data latih\n",
    "plt.plot(train_tanggal, train_target, color='blue', label='Data Latih')\n",
    "\n",
    "# Menggambar line plot untuk data uji\n",
    "plt.plot(test_tanggal, test_target, color='green', label='Data Uji')\n",
    "\n",
    "# Memberi label sumbu x dan y\n",
    "plt.xlabel('Date')\n",
    "plt.ylabel('Qty')\n",
    "\n",
    "# Memberi judul plot\n",
    "plt.title('Split Data Latih dan Data Uji')\n",
    "\n",
    "# Menampilkan legenda\n",
    "plt.legend()\n",
    "\n",
    "# Menampilkan plot\n",
    "plt.show()"
   ]
  },
  {
   "cell_type": "markdown",
   "id": "297ef8b7",
   "metadata": {},
   "source": [
    "### Melihat Rentang Tanggal dari Data Train dan Test"
   ]
  },
  {
   "cell_type": "code",
   "execution_count": 36,
   "id": "02e3a6b2",
   "metadata": {},
   "outputs": [
    {
     "data": {
      "text/plain": [
       "Timestamp('2022-01-01 00:00:00')"
      ]
     },
     "execution_count": 36,
     "metadata": {},
     "output_type": "execute_result"
    }
   ],
   "source": [
    "train_tanggal.min()"
   ]
  },
  {
   "cell_type": "code",
   "execution_count": 37,
   "id": "e5c70a9f",
   "metadata": {},
   "outputs": [
    {
     "data": {
      "text/plain": [
       "Timestamp('2022-10-19 00:00:00')"
      ]
     },
     "execution_count": 37,
     "metadata": {},
     "output_type": "execute_result"
    }
   ],
   "source": [
    "train_tanggal.max()"
   ]
  },
  {
   "cell_type": "code",
   "execution_count": 38,
   "id": "4619e54a",
   "metadata": {},
   "outputs": [
    {
     "data": {
      "text/plain": [
       "Timestamp('2022-10-20 00:00:00')"
      ]
     },
     "execution_count": 38,
     "metadata": {},
     "output_type": "execute_result"
    }
   ],
   "source": [
    "test_tanggal.min()"
   ]
  },
  {
   "cell_type": "code",
   "execution_count": 39,
   "id": "d204160d",
   "metadata": {},
   "outputs": [
    {
     "data": {
      "text/plain": [
       "Timestamp('2022-12-31 00:00:00')"
      ]
     },
     "execution_count": 39,
     "metadata": {},
     "output_type": "execute_result"
    }
   ],
   "source": [
    "test_tanggal.max()"
   ]
  },
  {
   "cell_type": "markdown",
   "id": "233b23c6",
   "metadata": {},
   "source": [
    "## Pencarian model ARIMA terbaik"
   ]
  },
  {
   "cell_type": "markdown",
   "id": "bb5f83d1",
   "metadata": {},
   "source": [
    "Pencarian model ARIMA terbaik menggunakan pustaka pmdarima (Pyramid ARIMA)."
   ]
  },
  {
   "cell_type": "code",
   "execution_count": 40,
   "id": "ee59c942",
   "metadata": {},
   "outputs": [
    {
     "name": "stdout",
     "output_type": "stream",
     "text": [
      "Performing stepwise search to minimize aic\n",
      " ARIMA(2,1,2)(0,0,0)[0] intercept   : AIC=inf, Time=0.67 sec\n",
      " ARIMA(0,1,0)(0,0,0)[0] intercept   : AIC=2648.913, Time=0.03 sec\n",
      " ARIMA(1,1,0)(0,0,0)[0] intercept   : AIC=2576.566, Time=0.08 sec\n",
      " ARIMA(0,1,1)(0,0,0)[0] intercept   : AIC=inf, Time=0.24 sec\n",
      " ARIMA(0,1,0)(0,0,0)[0]             : AIC=2646.914, Time=0.03 sec\n",
      " ARIMA(2,1,0)(0,0,0)[0] intercept   : AIC=2548.287, Time=0.11 sec\n",
      " ARIMA(3,1,0)(0,0,0)[0] intercept   : AIC=2513.212, Time=0.17 sec\n",
      " ARIMA(4,1,0)(0,0,0)[0] intercept   : AIC=2509.129, Time=0.31 sec\n",
      " ARIMA(5,1,0)(0,0,0)[0] intercept   : AIC=2496.659, Time=0.27 sec\n",
      " ARIMA(5,1,1)(0,0,0)[0] intercept   : AIC=inf, Time=0.76 sec\n",
      " ARIMA(4,1,1)(0,0,0)[0] intercept   : AIC=inf, Time=0.73 sec\n",
      " ARIMA(5,1,0)(0,0,0)[0]             : AIC=2494.677, Time=0.15 sec\n",
      " ARIMA(4,1,0)(0,0,0)[0]             : AIC=2507.140, Time=0.12 sec\n",
      " ARIMA(5,1,1)(0,0,0)[0]             : AIC=2466.989, Time=0.36 sec\n",
      " ARIMA(4,1,1)(0,0,0)[0]             : AIC=2465.409, Time=0.30 sec\n",
      " ARIMA(3,1,1)(0,0,0)[0]             : AIC=2466.918, Time=0.22 sec\n",
      " ARIMA(4,1,2)(0,0,0)[0]             : AIC=2465.584, Time=0.46 sec\n",
      " ARIMA(3,1,0)(0,0,0)[0]             : AIC=2511.220, Time=0.08 sec\n",
      " ARIMA(3,1,2)(0,0,0)[0]             : AIC=2465.280, Time=0.46 sec\n",
      " ARIMA(2,1,2)(0,0,0)[0]             : AIC=2465.824, Time=0.20 sec\n",
      " ARIMA(3,1,3)(0,0,0)[0]             : AIC=2464.014, Time=0.54 sec\n",
      " ARIMA(2,1,3)(0,0,0)[0]             : AIC=2462.231, Time=0.38 sec\n",
      " ARIMA(1,1,3)(0,0,0)[0]             : AIC=2465.506, Time=0.20 sec\n",
      " ARIMA(2,1,4)(0,0,0)[0]             : AIC=2463.989, Time=0.50 sec\n",
      " ARIMA(1,1,2)(0,0,0)[0]             : AIC=2464.904, Time=0.16 sec\n",
      " ARIMA(1,1,4)(0,0,0)[0]             : AIC=2464.342, Time=0.28 sec\n",
      " ARIMA(3,1,4)(0,0,0)[0]             : AIC=2466.228, Time=0.72 sec\n",
      " ARIMA(2,1,3)(0,0,0)[0] intercept   : AIC=inf, Time=0.77 sec\n",
      "\n",
      "Best model:  ARIMA(2,1,3)(0,0,0)[0]          \n",
      "Total fit time: 9.351 seconds\n"
     ]
    },
    {
     "data": {
      "text/plain": [
       "ARIMA(order=(2, 1, 3), scoring_args={}, suppress_warnings=True,\n",
       "      with_intercept=False)"
      ]
     },
     "execution_count": 40,
     "metadata": {},
     "output_type": "execute_result"
    }
   ],
   "source": [
    "# Mencari model ARIMA terbaik dengan mode stepwise\n",
    "auto_arima = pm.auto_arima(train_df['qty'], seasonal=False, stepwise=True, trace=True)\n",
    "auto_arima"
   ]
  },
  {
   "cell_type": "markdown",
   "id": "e1e1de87",
   "metadata": {},
   "source": [
    "Dari hasil di atas, diperoleh orde autoregressive (AR) p=2, orde differencing (I) d=1, dan orde moving average (MA) q=3. "
   ]
  },
  {
   "cell_type": "markdown",
   "id": "ec997bb4",
   "metadata": {},
   "source": [
    "### Pembuatan, Pelatihan, dan Penilaian model ARIMA"
   ]
  },
  {
   "cell_type": "markdown",
   "id": "cab6baf6",
   "metadata": {},
   "source": [
    "Berikut merupakan pebuatan, pelatihan, dan penilaian model ARIMA dengan orde yang sudah ditentukan, yaitu ARIMA(2, 1, 3)."
   ]
  },
  {
   "cell_type": "code",
   "execution_count": 41,
   "id": "db87099a",
   "metadata": {},
   "outputs": [
    {
     "name": "stdout",
     "output_type": "stream",
     "text": [
      "Order: (2, 1, 3), AIC: 3054.408029320686\n"
     ]
    },
    {
     "name": "stderr",
     "output_type": "stream",
     "text": [
      "C:\\Folder Baru\\lib\\site-packages\\statsmodels\\base\\model.py:604: ConvergenceWarning: Maximum Likelihood optimization failed to converge. Check mle_retvals\n",
      "  warnings.warn(\"Maximum Likelihood optimization failed to \"\n"
     ]
    }
   ],
   "source": [
    "'''\n",
    "Membuat sebuah list kosong aic_scores yang akan digunakan untuk \n",
    "menyimpan skor AIC (Akaike Information Criterion) dari model-model yang dievaluasi.\n",
    "'''\n",
    "aic_scores = []\n",
    "\n",
    "# Fit model ARIMA\n",
    "model = ARIMA(agg_df['qty'], order=(2, 1, 3))\n",
    "model_fit = model.fit()\n",
    "\n",
    "# Menambahkan skor AIC ke list\n",
    "aic_scores.append({'order': '(2, 1, 3)', 'aic': model_fit.aic})\n",
    "\n",
    "# Cetak hasil AIC\n",
    "for result in aic_scores:\n",
    "    print(f\"Order: {result['order']}, AIC: {result['aic']}\")"
   ]
  },
  {
   "cell_type": "markdown",
   "id": "e003ab26",
   "metadata": {},
   "source": [
    "\"AIC: 3054.408029320686\": Ini adalah nilai skor AIC (Akaike Information Criterion) dari model ARIMA yang diperoleh. Skor AIC digunakan untuk membandingkan berbagai model ARIMA. Semakin rendah nilai AIC, semakin baik model tersebut dalam menggambarkan data, dengan mempertimbangkan kompleksitas model. Dalam hal ini, nilai AIC adalah sekitar 3054.408029320686."
   ]
  },
  {
   "cell_type": "markdown",
   "id": "59c87732",
   "metadata": {},
   "source": [
    "### Pembuatan list kombinasi dengan berbagai orde (p, d, q)"
   ]
  },
  {
   "cell_type": "code",
   "execution_count": 42,
   "id": "958355d5",
   "metadata": {},
   "outputs": [
    {
     "name": "stdout",
     "output_type": "stream",
     "text": [
      "[(0, 0, 0), (0, 0, 1), (0, 0, 2), (0, 0, 3), (0, 0, 4), (0, 0, 5), (0, 0, 6), (0, 0, 7), (0, 1, 0), (0, 1, 1), (0, 1, 2), (0, 1, 3), (0, 1, 4), (0, 1, 5), (0, 1, 6), (0, 1, 7), (0, 2, 0), (0, 2, 1), (0, 2, 2), (0, 2, 3), (0, 2, 4), (0, 2, 5), (0, 2, 6), (0, 2, 7), (1, 0, 0), (1, 0, 1), (1, 0, 2), (1, 0, 3), (1, 0, 4), (1, 0, 5), (1, 0, 6), (1, 0, 7), (1, 1, 0), (1, 1, 1), (1, 1, 2), (1, 1, 3), (1, 1, 4), (1, 1, 5), (1, 1, 6), (1, 1, 7), (1, 2, 0), (1, 2, 1), (1, 2, 2), (1, 2, 3), (1, 2, 4), (1, 2, 5), (1, 2, 6), (1, 2, 7), (2, 0, 0), (2, 0, 1), (2, 0, 2), (2, 0, 3), (2, 0, 4), (2, 0, 5), (2, 0, 6), (2, 0, 7), (2, 1, 0), (2, 1, 1), (2, 1, 2), (2, 1, 3), (2, 1, 4), (2, 1, 5), (2, 1, 6), (2, 1, 7), (2, 2, 0), (2, 2, 1), (2, 2, 2), (2, 2, 3), (2, 2, 4), (2, 2, 5), (2, 2, 6), (2, 2, 7), (3, 0, 0), (3, 0, 1), (3, 0, 2), (3, 0, 3), (3, 0, 4), (3, 0, 5), (3, 0, 6), (3, 0, 7), (3, 1, 0), (3, 1, 1), (3, 1, 2), (3, 1, 3), (3, 1, 4), (3, 1, 5), (3, 1, 6), (3, 1, 7), (3, 2, 0), (3, 2, 1), (3, 2, 2), (3, 2, 3), (3, 2, 4), (3, 2, 5), (3, 2, 6), (3, 2, 7), (4, 0, 0), (4, 0, 1), (4, 0, 2), (4, 0, 3), (4, 0, 4), (4, 0, 5), (4, 0, 6), (4, 0, 7), (4, 1, 0), (4, 1, 1), (4, 1, 2), (4, 1, 3), (4, 1, 4), (4, 1, 5), (4, 1, 6), (4, 1, 7), (4, 2, 0), (4, 2, 1), (4, 2, 2), (4, 2, 3), (4, 2, 4), (4, 2, 5), (4, 2, 6), (4, 2, 7), (5, 0, 0), (5, 0, 1), (5, 0, 2), (5, 0, 3), (5, 0, 4), (5, 0, 5), (5, 0, 6), (5, 0, 7), (5, 1, 0), (5, 1, 1), (5, 1, 2), (5, 1, 3), (5, 1, 4), (5, 1, 5), (5, 1, 6), (5, 1, 7), (5, 2, 0), (5, 2, 1), (5, 2, 2), (5, 2, 3), (5, 2, 4), (5, 2, 5), (5, 2, 6), (5, 2, 7), (6, 0, 0), (6, 0, 1), (6, 0, 2), (6, 0, 3), (6, 0, 4), (6, 0, 5), (6, 0, 6), (6, 0, 7), (6, 1, 0), (6, 1, 1), (6, 1, 2), (6, 1, 3), (6, 1, 4), (6, 1, 5), (6, 1, 6), (6, 1, 7), (6, 2, 0), (6, 2, 1), (6, 2, 2), (6, 2, 3), (6, 2, 4), (6, 2, 5), (6, 2, 6), (6, 2, 7), (7, 0, 0), (7, 0, 1), (7, 0, 2), (7, 0, 3), (7, 0, 4), (7, 0, 5), (7, 0, 6), (7, 0, 7), (7, 1, 0), (7, 1, 1), (7, 1, 2), (7, 1, 3), (7, 1, 4), (7, 1, 5), (7, 1, 6), (7, 1, 7), (7, 2, 0), (7, 2, 1), (7, 2, 2), (7, 2, 3), (7, 2, 4), (7, 2, 5), (7, 2, 6), (7, 2, 7)]\n"
     ]
    }
   ],
   "source": [
    "# Membuat list untuk p, d, dan q\n",
    "p = range(8)  # 0 to 7\n",
    "d = range(3)  # 0 to 2\n",
    "q = range(8)  # 0 to 8\n",
    "\n",
    "# Menggunakan fungsi product dari itertools untuk membuat kombinasi p, d, dan q\n",
    "pdq = list(product(p, d, q))\n",
    "print(pdq)"
   ]
  },
  {
   "cell_type": "markdown",
   "id": "ea34b6e0",
   "metadata": {},
   "source": [
    "### Pencarian model ARIMA terbaik dengan menguji berbagai kombinasi orde (p, d, q)"
   ]
  },
  {
   "cell_type": "code",
   "execution_count": 43,
   "id": "8ce82385",
   "metadata": {},
   "outputs": [
    {
     "name": "stderr",
     "output_type": "stream",
     "text": [
      "C:\\Folder Baru\\lib\\site-packages\\statsmodels\\tsa\\statespace\\sarimax.py:978: UserWarning: Non-invertible starting MA parameters found. Using zeros as starting parameters.\n",
      "  warn('Non-invertible starting MA parameters found.'\n",
      "C:\\Folder Baru\\lib\\site-packages\\statsmodels\\tsa\\statespace\\sarimax.py:978: UserWarning: Non-invertible starting MA parameters found. Using zeros as starting parameters.\n",
      "  warn('Non-invertible starting MA parameters found.'\n",
      "C:\\Folder Baru\\lib\\site-packages\\statsmodels\\tsa\\statespace\\sarimax.py:978: UserWarning: Non-invertible starting MA parameters found. Using zeros as starting parameters.\n",
      "  warn('Non-invertible starting MA parameters found.'\n",
      "C:\\Folder Baru\\lib\\site-packages\\statsmodels\\tsa\\statespace\\sarimax.py:978: UserWarning: Non-invertible starting MA parameters found. Using zeros as starting parameters.\n",
      "  warn('Non-invertible starting MA parameters found.'\n",
      "C:\\Folder Baru\\lib\\site-packages\\statsmodels\\tsa\\statespace\\sarimax.py:978: UserWarning: Non-invertible starting MA parameters found. Using zeros as starting parameters.\n",
      "  warn('Non-invertible starting MA parameters found.'\n",
      "C:\\Folder Baru\\lib\\site-packages\\statsmodels\\tsa\\statespace\\sarimax.py:978: UserWarning: Non-invertible starting MA parameters found. Using zeros as starting parameters.\n",
      "  warn('Non-invertible starting MA parameters found.'\n",
      "C:\\Folder Baru\\lib\\site-packages\\statsmodels\\tsa\\statespace\\sarimax.py:978: UserWarning: Non-invertible starting MA parameters found. Using zeros as starting parameters.\n",
      "  warn('Non-invertible starting MA parameters found.'\n",
      "C:\\Folder Baru\\lib\\site-packages\\statsmodels\\tsa\\statespace\\sarimax.py:966: UserWarning: Non-stationary starting autoregressive parameters found. Using zeros as starting parameters.\n",
      "  warn('Non-stationary starting autoregressive parameters'\n",
      "C:\\Folder Baru\\lib\\site-packages\\statsmodels\\tsa\\statespace\\sarimax.py:978: UserWarning: Non-invertible starting MA parameters found. Using zeros as starting parameters.\n",
      "  warn('Non-invertible starting MA parameters found.'\n",
      "C:\\Folder Baru\\lib\\site-packages\\statsmodels\\tsa\\statespace\\sarimax.py:966: UserWarning: Non-stationary starting autoregressive parameters found. Using zeros as starting parameters.\n",
      "  warn('Non-stationary starting autoregressive parameters'\n",
      "C:\\Folder Baru\\lib\\site-packages\\statsmodels\\tsa\\statespace\\sarimax.py:978: UserWarning: Non-invertible starting MA parameters found. Using zeros as starting parameters.\n",
      "  warn('Non-invertible starting MA parameters found.'\n",
      "C:\\Folder Baru\\lib\\site-packages\\statsmodels\\tsa\\statespace\\sarimax.py:978: UserWarning: Non-invertible starting MA parameters found. Using zeros as starting parameters.\n",
      "  warn('Non-invertible starting MA parameters found.'\n",
      "C:\\Folder Baru\\lib\\site-packages\\statsmodels\\base\\model.py:604: ConvergenceWarning: Maximum Likelihood optimization failed to converge. Check mle_retvals\n",
      "  warnings.warn(\"Maximum Likelihood optimization failed to \"\n",
      "C:\\Folder Baru\\lib\\site-packages\\statsmodels\\tsa\\statespace\\sarimax.py:978: UserWarning: Non-invertible starting MA parameters found. Using zeros as starting parameters.\n",
      "  warn('Non-invertible starting MA parameters found.'\n",
      "C:\\Folder Baru\\lib\\site-packages\\statsmodels\\base\\model.py:604: ConvergenceWarning: Maximum Likelihood optimization failed to converge. Check mle_retvals\n",
      "  warnings.warn(\"Maximum Likelihood optimization failed to \"\n",
      "C:\\Folder Baru\\lib\\site-packages\\statsmodels\\tsa\\statespace\\sarimax.py:978: UserWarning: Non-invertible starting MA parameters found. Using zeros as starting parameters.\n",
      "  warn('Non-invertible starting MA parameters found.'\n",
      "C:\\Folder Baru\\lib\\site-packages\\statsmodels\\tsa\\statespace\\sarimax.py:978: UserWarning: Non-invertible starting MA parameters found. Using zeros as starting parameters.\n",
      "  warn('Non-invertible starting MA parameters found.'\n",
      "C:\\Folder Baru\\lib\\site-packages\\statsmodels\\tsa\\statespace\\sarimax.py:966: UserWarning: Non-stationary starting autoregressive parameters found. Using zeros as starting parameters.\n",
      "  warn('Non-stationary starting autoregressive parameters'\n",
      "C:\\Folder Baru\\lib\\site-packages\\statsmodels\\tsa\\statespace\\sarimax.py:978: UserWarning: Non-invertible starting MA parameters found. Using zeros as starting parameters.\n",
      "  warn('Non-invertible starting MA parameters found.'\n",
      "C:\\Folder Baru\\lib\\site-packages\\statsmodels\\tsa\\statespace\\sarimax.py:966: UserWarning: Non-stationary starting autoregressive parameters found. Using zeros as starting parameters.\n",
      "  warn('Non-stationary starting autoregressive parameters'\n",
      "C:\\Folder Baru\\lib\\site-packages\\statsmodels\\tsa\\statespace\\sarimax.py:978: UserWarning: Non-invertible starting MA parameters found. Using zeros as starting parameters.\n",
      "  warn('Non-invertible starting MA parameters found.'\n",
      "C:\\Folder Baru\\lib\\site-packages\\statsmodels\\base\\model.py:604: ConvergenceWarning: Maximum Likelihood optimization failed to converge. Check mle_retvals\n",
      "  warnings.warn(\"Maximum Likelihood optimization failed to \"\n",
      "C:\\Folder Baru\\lib\\site-packages\\statsmodels\\base\\model.py:604: ConvergenceWarning: Maximum Likelihood optimization failed to converge. Check mle_retvals\n",
      "  warnings.warn(\"Maximum Likelihood optimization failed to \"\n",
      "C:\\Folder Baru\\lib\\site-packages\\statsmodels\\base\\model.py:604: ConvergenceWarning: Maximum Likelihood optimization failed to converge. Check mle_retvals\n",
      "  warnings.warn(\"Maximum Likelihood optimization failed to \"\n",
      "C:\\Folder Baru\\lib\\site-packages\\statsmodels\\tsa\\statespace\\sarimax.py:978: UserWarning: Non-invertible starting MA parameters found. Using zeros as starting parameters.\n",
      "  warn('Non-invertible starting MA parameters found.'\n",
      "C:\\Folder Baru\\lib\\site-packages\\statsmodels\\tsa\\statespace\\sarimax.py:978: UserWarning: Non-invertible starting MA parameters found. Using zeros as starting parameters.\n",
      "  warn('Non-invertible starting MA parameters found.'\n",
      "C:\\Folder Baru\\lib\\site-packages\\statsmodels\\tsa\\statespace\\sarimax.py:978: UserWarning: Non-invertible starting MA parameters found. Using zeros as starting parameters.\n",
      "  warn('Non-invertible starting MA parameters found.'\n",
      "C:\\Folder Baru\\lib\\site-packages\\statsmodels\\tsa\\statespace\\sarimax.py:978: UserWarning: Non-invertible starting MA parameters found. Using zeros as starting parameters.\n",
      "  warn('Non-invertible starting MA parameters found.'\n",
      "C:\\Folder Baru\\lib\\site-packages\\statsmodels\\base\\model.py:604: ConvergenceWarning: Maximum Likelihood optimization failed to converge. Check mle_retvals\n",
      "  warnings.warn(\"Maximum Likelihood optimization failed to \"\n",
      "C:\\Folder Baru\\lib\\site-packages\\statsmodels\\tsa\\statespace\\sarimax.py:978: UserWarning: Non-invertible starting MA parameters found. Using zeros as starting parameters.\n",
      "  warn('Non-invertible starting MA parameters found.'\n",
      "C:\\Folder Baru\\lib\\site-packages\\statsmodels\\base\\model.py:604: ConvergenceWarning: Maximum Likelihood optimization failed to converge. Check mle_retvals\n",
      "  warnings.warn(\"Maximum Likelihood optimization failed to \"\n",
      "C:\\Folder Baru\\lib\\site-packages\\statsmodels\\tsa\\statespace\\sarimax.py:978: UserWarning: Non-invertible starting MA parameters found. Using zeros as starting parameters.\n",
      "  warn('Non-invertible starting MA parameters found.'\n",
      "C:\\Folder Baru\\lib\\site-packages\\statsmodels\\base\\model.py:604: ConvergenceWarning: Maximum Likelihood optimization failed to converge. Check mle_retvals\n",
      "  warnings.warn(\"Maximum Likelihood optimization failed to \"\n",
      "C:\\Folder Baru\\lib\\site-packages\\statsmodels\\tsa\\statespace\\sarimax.py:978: UserWarning: Non-invertible starting MA parameters found. Using zeros as starting parameters.\n",
      "  warn('Non-invertible starting MA parameters found.'\n",
      "C:\\Folder Baru\\lib\\site-packages\\statsmodels\\base\\model.py:604: ConvergenceWarning: Maximum Likelihood optimization failed to converge. Check mle_retvals\n",
      "  warnings.warn(\"Maximum Likelihood optimization failed to \"\n",
      "C:\\Folder Baru\\lib\\site-packages\\statsmodels\\tsa\\statespace\\sarimax.py:966: UserWarning: Non-stationary starting autoregressive parameters found. Using zeros as starting parameters.\n",
      "  warn('Non-stationary starting autoregressive parameters'\n",
      "C:\\Folder Baru\\lib\\site-packages\\statsmodels\\tsa\\statespace\\sarimax.py:978: UserWarning: Non-invertible starting MA parameters found. Using zeros as starting parameters.\n",
      "  warn('Non-invertible starting MA parameters found.'\n",
      "C:\\Folder Baru\\lib\\site-packages\\statsmodels\\base\\model.py:604: ConvergenceWarning: Maximum Likelihood optimization failed to converge. Check mle_retvals\n",
      "  warnings.warn(\"Maximum Likelihood optimization failed to \"\n",
      "C:\\Folder Baru\\lib\\site-packages\\statsmodels\\base\\model.py:604: ConvergenceWarning: Maximum Likelihood optimization failed to converge. Check mle_retvals\n",
      "  warnings.warn(\"Maximum Likelihood optimization failed to \"\n",
      "C:\\Folder Baru\\lib\\site-packages\\statsmodels\\base\\model.py:604: ConvergenceWarning: Maximum Likelihood optimization failed to converge. Check mle_retvals\n",
      "  warnings.warn(\"Maximum Likelihood optimization failed to \"\n",
      "C:\\Folder Baru\\lib\\site-packages\\statsmodels\\base\\model.py:604: ConvergenceWarning: Maximum Likelihood optimization failed to converge. Check mle_retvals\n",
      "  warnings.warn(\"Maximum Likelihood optimization failed to \"\n",
      "C:\\Folder Baru\\lib\\site-packages\\statsmodels\\tsa\\statespace\\sarimax.py:966: UserWarning: Non-stationary starting autoregressive parameters found. Using zeros as starting parameters.\n",
      "  warn('Non-stationary starting autoregressive parameters'\n",
      "C:\\Folder Baru\\lib\\site-packages\\statsmodels\\tsa\\statespace\\sarimax.py:966: UserWarning: Non-stationary starting autoregressive parameters found. Using zeros as starting parameters.\n",
      "  warn('Non-stationary starting autoregressive parameters'\n",
      "C:\\Folder Baru\\lib\\site-packages\\statsmodels\\tsa\\statespace\\sarimax.py:978: UserWarning: Non-invertible starting MA parameters found. Using zeros as starting parameters.\n",
      "  warn('Non-invertible starting MA parameters found.'\n",
      "C:\\Folder Baru\\lib\\site-packages\\statsmodels\\base\\model.py:604: ConvergenceWarning: Maximum Likelihood optimization failed to converge. Check mle_retvals\n",
      "  warnings.warn(\"Maximum Likelihood optimization failed to \"\n",
      "C:\\Folder Baru\\lib\\site-packages\\statsmodels\\base\\model.py:604: ConvergenceWarning: Maximum Likelihood optimization failed to converge. Check mle_retvals\n",
      "  warnings.warn(\"Maximum Likelihood optimization failed to \"\n",
      "C:\\Folder Baru\\lib\\site-packages\\statsmodels\\base\\model.py:604: ConvergenceWarning: Maximum Likelihood optimization failed to converge. Check mle_retvals\n",
      "  warnings.warn(\"Maximum Likelihood optimization failed to \"\n",
      "C:\\Folder Baru\\lib\\site-packages\\statsmodels\\base\\model.py:604: ConvergenceWarning: Maximum Likelihood optimization failed to converge. Check mle_retvals\n",
      "  warnings.warn(\"Maximum Likelihood optimization failed to \"\n",
      "C:\\Folder Baru\\lib\\site-packages\\statsmodels\\base\\model.py:604: ConvergenceWarning: Maximum Likelihood optimization failed to converge. Check mle_retvals\n",
      "  warnings.warn(\"Maximum Likelihood optimization failed to \"\n",
      "C:\\Folder Baru\\lib\\site-packages\\statsmodels\\tsa\\statespace\\sarimax.py:978: UserWarning: Non-invertible starting MA parameters found. Using zeros as starting parameters.\n",
      "  warn('Non-invertible starting MA parameters found.'\n",
      "C:\\Folder Baru\\lib\\site-packages\\statsmodels\\base\\model.py:604: ConvergenceWarning: Maximum Likelihood optimization failed to converge. Check mle_retvals\n",
      "  warnings.warn(\"Maximum Likelihood optimization failed to \"\n",
      "C:\\Folder Baru\\lib\\site-packages\\statsmodels\\tsa\\statespace\\sarimax.py:978: UserWarning: Non-invertible starting MA parameters found. Using zeros as starting parameters.\n",
      "  warn('Non-invertible starting MA parameters found.'\n",
      "C:\\Folder Baru\\lib\\site-packages\\statsmodels\\base\\model.py:604: ConvergenceWarning: Maximum Likelihood optimization failed to converge. Check mle_retvals\n",
      "  warnings.warn(\"Maximum Likelihood optimization failed to \"\n",
      "C:\\Folder Baru\\lib\\site-packages\\statsmodels\\tsa\\statespace\\sarimax.py:978: UserWarning: Non-invertible starting MA parameters found. Using zeros as starting parameters.\n",
      "  warn('Non-invertible starting MA parameters found.'\n",
      "C:\\Folder Baru\\lib\\site-packages\\statsmodels\\base\\model.py:604: ConvergenceWarning: Maximum Likelihood optimization failed to converge. Check mle_retvals\n",
      "  warnings.warn(\"Maximum Likelihood optimization failed to \"\n",
      "C:\\Folder Baru\\lib\\site-packages\\statsmodels\\base\\model.py:604: ConvergenceWarning: Maximum Likelihood optimization failed to converge. Check mle_retvals\n",
      "  warnings.warn(\"Maximum Likelihood optimization failed to \"\n",
      "C:\\Folder Baru\\lib\\site-packages\\statsmodels\\tsa\\statespace\\sarimax.py:978: UserWarning: Non-invertible starting MA parameters found. Using zeros as starting parameters.\n",
      "  warn('Non-invertible starting MA parameters found.'\n",
      "C:\\Folder Baru\\lib\\site-packages\\statsmodels\\base\\model.py:604: ConvergenceWarning: Maximum Likelihood optimization failed to converge. Check mle_retvals\n",
      "  warnings.warn(\"Maximum Likelihood optimization failed to \"\n",
      "C:\\Folder Baru\\lib\\site-packages\\statsmodels\\tsa\\statespace\\sarimax.py:966: UserWarning: Non-stationary starting autoregressive parameters found. Using zeros as starting parameters.\n",
      "  warn('Non-stationary starting autoregressive parameters'\n",
      "C:\\Folder Baru\\lib\\site-packages\\statsmodels\\tsa\\statespace\\sarimax.py:978: UserWarning: Non-invertible starting MA parameters found. Using zeros as starting parameters.\n",
      "  warn('Non-invertible starting MA parameters found.'\n",
      "C:\\Folder Baru\\lib\\site-packages\\statsmodels\\tsa\\statespace\\sarimax.py:966: UserWarning: Non-stationary starting autoregressive parameters found. Using zeros as starting parameters.\n",
      "  warn('Non-stationary starting autoregressive parameters'\n",
      "C:\\Folder Baru\\lib\\site-packages\\statsmodels\\tsa\\statespace\\sarimax.py:978: UserWarning: Non-invertible starting MA parameters found. Using zeros as starting parameters.\n",
      "  warn('Non-invertible starting MA parameters found.'\n",
      "C:\\Folder Baru\\lib\\site-packages\\statsmodels\\base\\model.py:604: ConvergenceWarning: Maximum Likelihood optimization failed to converge. Check mle_retvals\n",
      "  warnings.warn(\"Maximum Likelihood optimization failed to \"\n",
      "C:\\Folder Baru\\lib\\site-packages\\statsmodels\\base\\model.py:604: ConvergenceWarning: Maximum Likelihood optimization failed to converge. Check mle_retvals\n",
      "  warnings.warn(\"Maximum Likelihood optimization failed to \"\n",
      "C:\\Folder Baru\\lib\\site-packages\\statsmodels\\base\\model.py:604: ConvergenceWarning: Maximum Likelihood optimization failed to converge. Check mle_retvals\n",
      "  warnings.warn(\"Maximum Likelihood optimization failed to \"\n",
      "C:\\Folder Baru\\lib\\site-packages\\statsmodels\\base\\model.py:604: ConvergenceWarning: Maximum Likelihood optimization failed to converge. Check mle_retvals\n",
      "  warnings.warn(\"Maximum Likelihood optimization failed to \"\n",
      "C:\\Folder Baru\\lib\\site-packages\\statsmodels\\base\\model.py:604: ConvergenceWarning: Maximum Likelihood optimization failed to converge. Check mle_retvals\n",
      "  warnings.warn(\"Maximum Likelihood optimization failed to \"\n",
      "C:\\Folder Baru\\lib\\site-packages\\statsmodels\\tsa\\statespace\\sarimax.py:966: UserWarning: Non-stationary starting autoregressive parameters found. Using zeros as starting parameters.\n",
      "  warn('Non-stationary starting autoregressive parameters'\n",
      "C:\\Folder Baru\\lib\\site-packages\\statsmodels\\tsa\\statespace\\sarimax.py:978: UserWarning: Non-invertible starting MA parameters found. Using zeros as starting parameters.\n",
      "  warn('Non-invertible starting MA parameters found.'\n",
      "C:\\Folder Baru\\lib\\site-packages\\statsmodels\\base\\model.py:604: ConvergenceWarning: Maximum Likelihood optimization failed to converge. Check mle_retvals\n",
      "  warnings.warn(\"Maximum Likelihood optimization failed to \"\n",
      "C:\\Folder Baru\\lib\\site-packages\\statsmodels\\base\\model.py:604: ConvergenceWarning: Maximum Likelihood optimization failed to converge. Check mle_retvals\n",
      "  warnings.warn(\"Maximum Likelihood optimization failed to \"\n",
      "C:\\Folder Baru\\lib\\site-packages\\statsmodels\\base\\model.py:604: ConvergenceWarning: Maximum Likelihood optimization failed to converge. Check mle_retvals\n",
      "  warnings.warn(\"Maximum Likelihood optimization failed to \"\n",
      "C:\\Folder Baru\\lib\\site-packages\\statsmodels\\base\\model.py:604: ConvergenceWarning: Maximum Likelihood optimization failed to converge. Check mle_retvals\n",
      "  warnings.warn(\"Maximum Likelihood optimization failed to \"\n",
      "C:\\Folder Baru\\lib\\site-packages\\statsmodels\\tsa\\statespace\\sarimax.py:966: UserWarning: Non-stationary starting autoregressive parameters found. Using zeros as starting parameters.\n",
      "  warn('Non-stationary starting autoregressive parameters'\n",
      "C:\\Folder Baru\\lib\\site-packages\\statsmodels\\tsa\\statespace\\sarimax.py:978: UserWarning: Non-invertible starting MA parameters found. Using zeros as starting parameters.\n",
      "  warn('Non-invertible starting MA parameters found.'\n",
      "C:\\Folder Baru\\lib\\site-packages\\statsmodels\\base\\model.py:604: ConvergenceWarning: Maximum Likelihood optimization failed to converge. Check mle_retvals\n",
      "  warnings.warn(\"Maximum Likelihood optimization failed to \"\n",
      "C:\\Folder Baru\\lib\\site-packages\\statsmodels\\tsa\\statespace\\sarimax.py:978: UserWarning: Non-invertible starting MA parameters found. Using zeros as starting parameters.\n",
      "  warn('Non-invertible starting MA parameters found.'\n",
      "C:\\Folder Baru\\lib\\site-packages\\statsmodels\\base\\model.py:604: ConvergenceWarning: Maximum Likelihood optimization failed to converge. Check mle_retvals\n",
      "  warnings.warn(\"Maximum Likelihood optimization failed to \"\n",
      "C:\\Folder Baru\\lib\\site-packages\\statsmodels\\tsa\\statespace\\sarimax.py:978: UserWarning: Non-invertible starting MA parameters found. Using zeros as starting parameters.\n",
      "  warn('Non-invertible starting MA parameters found.'\n",
      "C:\\Folder Baru\\lib\\site-packages\\statsmodels\\base\\model.py:604: ConvergenceWarning: Maximum Likelihood optimization failed to converge. Check mle_retvals\n",
      "  warnings.warn(\"Maximum Likelihood optimization failed to \"\n",
      "C:\\Folder Baru\\lib\\site-packages\\statsmodels\\base\\model.py:604: ConvergenceWarning: Maximum Likelihood optimization failed to converge. Check mle_retvals\n",
      "  warnings.warn(\"Maximum Likelihood optimization failed to \"\n",
      "C:\\Folder Baru\\lib\\site-packages\\statsmodels\\tsa\\statespace\\sarimax.py:966: UserWarning: Non-stationary starting autoregressive parameters found. Using zeros as starting parameters.\n",
      "  warn('Non-stationary starting autoregressive parameters'\n",
      "C:\\Folder Baru\\lib\\site-packages\\statsmodels\\tsa\\statespace\\sarimax.py:978: UserWarning: Non-invertible starting MA parameters found. Using zeros as starting parameters.\n",
      "  warn('Non-invertible starting MA parameters found.'\n",
      "C:\\Folder Baru\\lib\\site-packages\\statsmodels\\base\\model.py:604: ConvergenceWarning: Maximum Likelihood optimization failed to converge. Check mle_retvals\n",
      "  warnings.warn(\"Maximum Likelihood optimization failed to \"\n",
      "C:\\Folder Baru\\lib\\site-packages\\statsmodels\\tsa\\statespace\\sarimax.py:966: UserWarning: Non-stationary starting autoregressive parameters found. Using zeros as starting parameters.\n",
      "  warn('Non-stationary starting autoregressive parameters'\n",
      "C:\\Folder Baru\\lib\\site-packages\\statsmodels\\tsa\\statespace\\sarimax.py:978: UserWarning: Non-invertible starting MA parameters found. Using zeros as starting parameters.\n",
      "  warn('Non-invertible starting MA parameters found.'\n",
      "C:\\Folder Baru\\lib\\site-packages\\statsmodels\\base\\model.py:604: ConvergenceWarning: Maximum Likelihood optimization failed to converge. Check mle_retvals\n",
      "  warnings.warn(\"Maximum Likelihood optimization failed to \"\n",
      "C:\\Folder Baru\\lib\\site-packages\\statsmodels\\base\\model.py:604: ConvergenceWarning: Maximum Likelihood optimization failed to converge. Check mle_retvals\n",
      "  warnings.warn(\"Maximum Likelihood optimization failed to \"\n",
      "C:\\Folder Baru\\lib\\site-packages\\statsmodels\\base\\model.py:604: ConvergenceWarning: Maximum Likelihood optimization failed to converge. Check mle_retvals\n",
      "  warnings.warn(\"Maximum Likelihood optimization failed to \"\n",
      "C:\\Folder Baru\\lib\\site-packages\\statsmodels\\base\\model.py:604: ConvergenceWarning: Maximum Likelihood optimization failed to converge. Check mle_retvals\n",
      "  warnings.warn(\"Maximum Likelihood optimization failed to \"\n",
      "C:\\Folder Baru\\lib\\site-packages\\statsmodels\\base\\model.py:604: ConvergenceWarning: Maximum Likelihood optimization failed to converge. Check mle_retvals\n",
      "  warnings.warn(\"Maximum Likelihood optimization failed to \"\n",
      "C:\\Folder Baru\\lib\\site-packages\\statsmodels\\tsa\\statespace\\sarimax.py:966: UserWarning: Non-stationary starting autoregressive parameters found. Using zeros as starting parameters.\n",
      "  warn('Non-stationary starting autoregressive parameters'\n",
      "C:\\Folder Baru\\lib\\site-packages\\statsmodels\\tsa\\statespace\\sarimax.py:978: UserWarning: Non-invertible starting MA parameters found. Using zeros as starting parameters.\n",
      "  warn('Non-invertible starting MA parameters found.'\n",
      "C:\\Folder Baru\\lib\\site-packages\\statsmodels\\base\\model.py:604: ConvergenceWarning: Maximum Likelihood optimization failed to converge. Check mle_retvals\n",
      "  warnings.warn(\"Maximum Likelihood optimization failed to \"\n",
      "C:\\Folder Baru\\lib\\site-packages\\statsmodels\\base\\model.py:604: ConvergenceWarning: Maximum Likelihood optimization failed to converge. Check mle_retvals\n",
      "  warnings.warn(\"Maximum Likelihood optimization failed to \"\n",
      "C:\\Folder Baru\\lib\\site-packages\\statsmodels\\base\\model.py:604: ConvergenceWarning: Maximum Likelihood optimization failed to converge. Check mle_retvals\n",
      "  warnings.warn(\"Maximum Likelihood optimization failed to \"\n",
      "C:\\Folder Baru\\lib\\site-packages\\statsmodels\\base\\model.py:604: ConvergenceWarning: Maximum Likelihood optimization failed to converge. Check mle_retvals\n",
      "  warnings.warn(\"Maximum Likelihood optimization failed to \"\n",
      "C:\\Folder Baru\\lib\\site-packages\\statsmodels\\base\\model.py:604: ConvergenceWarning: Maximum Likelihood optimization failed to converge. Check mle_retvals\n",
      "  warnings.warn(\"Maximum Likelihood optimization failed to \"\n",
      "C:\\Folder Baru\\lib\\site-packages\\statsmodels\\tsa\\statespace\\sarimax.py:966: UserWarning: Non-stationary starting autoregressive parameters found. Using zeros as starting parameters.\n",
      "  warn('Non-stationary starting autoregressive parameters'\n",
      "C:\\Folder Baru\\lib\\site-packages\\statsmodels\\tsa\\statespace\\sarimax.py:978: UserWarning: Non-invertible starting MA parameters found. Using zeros as starting parameters.\n",
      "  warn('Non-invertible starting MA parameters found.'\n",
      "C:\\Folder Baru\\lib\\site-packages\\statsmodels\\base\\model.py:604: ConvergenceWarning: Maximum Likelihood optimization failed to converge. Check mle_retvals\n",
      "  warnings.warn(\"Maximum Likelihood optimization failed to \"\n",
      "C:\\Folder Baru\\lib\\site-packages\\statsmodels\\tsa\\statespace\\sarimax.py:978: UserWarning: Non-invertible starting MA parameters found. Using zeros as starting parameters.\n",
      "  warn('Non-invertible starting MA parameters found.'\n",
      "C:\\Folder Baru\\lib\\site-packages\\statsmodels\\base\\model.py:604: ConvergenceWarning: Maximum Likelihood optimization failed to converge. Check mle_retvals\n",
      "  warnings.warn(\"Maximum Likelihood optimization failed to \"\n",
      "C:\\Folder Baru\\lib\\site-packages\\statsmodels\\base\\model.py:604: ConvergenceWarning: Maximum Likelihood optimization failed to converge. Check mle_retvals\n",
      "  warnings.warn(\"Maximum Likelihood optimization failed to \"\n",
      "C:\\Folder Baru\\lib\\site-packages\\statsmodels\\tsa\\statespace\\sarimax.py:978: UserWarning: Non-invertible starting MA parameters found. Using zeros as starting parameters.\n",
      "  warn('Non-invertible starting MA parameters found.'\n",
      "C:\\Folder Baru\\lib\\site-packages\\statsmodels\\base\\model.py:604: ConvergenceWarning: Maximum Likelihood optimization failed to converge. Check mle_retvals\n",
      "  warnings.warn(\"Maximum Likelihood optimization failed to \"\n",
      "C:\\Folder Baru\\lib\\site-packages\\statsmodels\\tsa\\statespace\\sarimax.py:978: UserWarning: Non-invertible starting MA parameters found. Using zeros as starting parameters.\n",
      "  warn('Non-invertible starting MA parameters found.'\n",
      "C:\\Folder Baru\\lib\\site-packages\\statsmodels\\base\\model.py:604: ConvergenceWarning: Maximum Likelihood optimization failed to converge. Check mle_retvals\n",
      "  warnings.warn(\"Maximum Likelihood optimization failed to \"\n",
      "C:\\Folder Baru\\lib\\site-packages\\statsmodels\\base\\model.py:604: ConvergenceWarning: Maximum Likelihood optimization failed to converge. Check mle_retvals\n",
      "  warnings.warn(\"Maximum Likelihood optimization failed to \"\n",
      "C:\\Folder Baru\\lib\\site-packages\\statsmodels\\tsa\\statespace\\sarimax.py:966: UserWarning: Non-stationary starting autoregressive parameters found. Using zeros as starting parameters.\n",
      "  warn('Non-stationary starting autoregressive parameters'\n",
      "C:\\Folder Baru\\lib\\site-packages\\statsmodels\\base\\model.py:604: ConvergenceWarning: Maximum Likelihood optimization failed to converge. Check mle_retvals\n",
      "  warnings.warn(\"Maximum Likelihood optimization failed to \"\n",
      "C:\\Folder Baru\\lib\\site-packages\\statsmodels\\tsa\\statespace\\sarimax.py:966: UserWarning: Non-stationary starting autoregressive parameters found. Using zeros as starting parameters.\n",
      "  warn('Non-stationary starting autoregressive parameters'\n",
      "C:\\Folder Baru\\lib\\site-packages\\statsmodels\\tsa\\statespace\\sarimax.py:978: UserWarning: Non-invertible starting MA parameters found. Using zeros as starting parameters.\n",
      "  warn('Non-invertible starting MA parameters found.'\n",
      "C:\\Folder Baru\\lib\\site-packages\\statsmodels\\base\\model.py:604: ConvergenceWarning: Maximum Likelihood optimization failed to converge. Check mle_retvals\n",
      "  warnings.warn(\"Maximum Likelihood optimization failed to \"\n",
      "C:\\Folder Baru\\lib\\site-packages\\statsmodels\\tsa\\statespace\\sarimax.py:966: UserWarning: Non-stationary starting autoregressive parameters found. Using zeros as starting parameters.\n",
      "  warn('Non-stationary starting autoregressive parameters'\n",
      "C:\\Folder Baru\\lib\\site-packages\\statsmodels\\tsa\\statespace\\sarimax.py:978: UserWarning: Non-invertible starting MA parameters found. Using zeros as starting parameters.\n",
      "  warn('Non-invertible starting MA parameters found.'\n",
      "C:\\Folder Baru\\lib\\site-packages\\statsmodels\\base\\model.py:604: ConvergenceWarning: Maximum Likelihood optimization failed to converge. Check mle_retvals\n",
      "  warnings.warn(\"Maximum Likelihood optimization failed to \"\n",
      "C:\\Folder Baru\\lib\\site-packages\\statsmodels\\base\\model.py:604: ConvergenceWarning: Maximum Likelihood optimization failed to converge. Check mle_retvals\n",
      "  warnings.warn(\"Maximum Likelihood optimization failed to \"\n",
      "C:\\Folder Baru\\lib\\site-packages\\statsmodels\\base\\model.py:604: ConvergenceWarning: Maximum Likelihood optimization failed to converge. Check mle_retvals\n",
      "  warnings.warn(\"Maximum Likelihood optimization failed to \"\n",
      "C:\\Folder Baru\\lib\\site-packages\\statsmodels\\base\\model.py:604: ConvergenceWarning: Maximum Likelihood optimization failed to converge. Check mle_retvals\n",
      "  warnings.warn(\"Maximum Likelihood optimization failed to \"\n",
      "C:\\Folder Baru\\lib\\site-packages\\statsmodels\\tsa\\statespace\\sarimax.py:966: UserWarning: Non-stationary starting autoregressive parameters found. Using zeros as starting parameters.\n",
      "  warn('Non-stationary starting autoregressive parameters'\n",
      "C:\\Folder Baru\\lib\\site-packages\\statsmodels\\tsa\\statespace\\sarimax.py:978: UserWarning: Non-invertible starting MA parameters found. Using zeros as starting parameters.\n",
      "  warn('Non-invertible starting MA parameters found.'\n",
      "C:\\Folder Baru\\lib\\site-packages\\statsmodels\\base\\model.py:604: ConvergenceWarning: Maximum Likelihood optimization failed to converge. Check mle_retvals\n",
      "  warnings.warn(\"Maximum Likelihood optimization failed to \"\n",
      "C:\\Folder Baru\\lib\\site-packages\\statsmodels\\base\\model.py:604: ConvergenceWarning: Maximum Likelihood optimization failed to converge. Check mle_retvals\n",
      "  warnings.warn(\"Maximum Likelihood optimization failed to \"\n",
      "C:\\Folder Baru\\lib\\site-packages\\statsmodels\\base\\model.py:604: ConvergenceWarning: Maximum Likelihood optimization failed to converge. Check mle_retvals\n",
      "  warnings.warn(\"Maximum Likelihood optimization failed to \"\n",
      "C:\\Folder Baru\\lib\\site-packages\\statsmodels\\base\\model.py:604: ConvergenceWarning: Maximum Likelihood optimization failed to converge. Check mle_retvals\n",
      "  warnings.warn(\"Maximum Likelihood optimization failed to \"\n",
      "C:\\Folder Baru\\lib\\site-packages\\statsmodels\\base\\model.py:604: ConvergenceWarning: Maximum Likelihood optimization failed to converge. Check mle_retvals\n",
      "  warnings.warn(\"Maximum Likelihood optimization failed to \"\n",
      "C:\\Folder Baru\\lib\\site-packages\\statsmodels\\tsa\\statespace\\sarimax.py:966: UserWarning: Non-stationary starting autoregressive parameters found. Using zeros as starting parameters.\n",
      "  warn('Non-stationary starting autoregressive parameters'\n",
      "C:\\Folder Baru\\lib\\site-packages\\statsmodels\\tsa\\statespace\\sarimax.py:978: UserWarning: Non-invertible starting MA parameters found. Using zeros as starting parameters.\n",
      "  warn('Non-invertible starting MA parameters found.'\n",
      "C:\\Folder Baru\\lib\\site-packages\\statsmodels\\base\\model.py:604: ConvergenceWarning: Maximum Likelihood optimization failed to converge. Check mle_retvals\n",
      "  warnings.warn(\"Maximum Likelihood optimization failed to \"\n",
      "C:\\Folder Baru\\lib\\site-packages\\statsmodels\\tsa\\statespace\\sarimax.py:978: UserWarning: Non-invertible starting MA parameters found. Using zeros as starting parameters.\n",
      "  warn('Non-invertible starting MA parameters found.'\n",
      "C:\\Folder Baru\\lib\\site-packages\\statsmodels\\base\\model.py:604: ConvergenceWarning: Maximum Likelihood optimization failed to converge. Check mle_retvals\n",
      "  warnings.warn(\"Maximum Likelihood optimization failed to \"\n",
      "C:\\Folder Baru\\lib\\site-packages\\statsmodels\\tsa\\statespace\\sarimax.py:978: UserWarning: Non-invertible starting MA parameters found. Using zeros as starting parameters.\n",
      "  warn('Non-invertible starting MA parameters found.'\n",
      "C:\\Folder Baru\\lib\\site-packages\\statsmodels\\base\\model.py:604: ConvergenceWarning: Maximum Likelihood optimization failed to converge. Check mle_retvals\n",
      "  warnings.warn(\"Maximum Likelihood optimization failed to \"\n",
      "C:\\Folder Baru\\lib\\site-packages\\statsmodels\\tsa\\statespace\\sarimax.py:978: UserWarning: Non-invertible starting MA parameters found. Using zeros as starting parameters.\n",
      "  warn('Non-invertible starting MA parameters found.'\n",
      "C:\\Folder Baru\\lib\\site-packages\\statsmodels\\base\\model.py:604: ConvergenceWarning: Maximum Likelihood optimization failed to converge. Check mle_retvals\n",
      "  warnings.warn(\"Maximum Likelihood optimization failed to \"\n",
      "C:\\Folder Baru\\lib\\site-packages\\statsmodels\\base\\model.py:604: ConvergenceWarning: Maximum Likelihood optimization failed to converge. Check mle_retvals\n",
      "  warnings.warn(\"Maximum Likelihood optimization failed to \"\n",
      "C:\\Folder Baru\\lib\\site-packages\\statsmodels\\tsa\\statespace\\sarimax.py:966: UserWarning: Non-stationary starting autoregressive parameters found. Using zeros as starting parameters.\n",
      "  warn('Non-stationary starting autoregressive parameters'\n",
      "C:\\Folder Baru\\lib\\site-packages\\statsmodels\\base\\model.py:604: ConvergenceWarning: Maximum Likelihood optimization failed to converge. Check mle_retvals\n",
      "  warnings.warn(\"Maximum Likelihood optimization failed to \"\n",
      "C:\\Folder Baru\\lib\\site-packages\\statsmodels\\tsa\\statespace\\sarimax.py:966: UserWarning: Non-stationary starting autoregressive parameters found. Using zeros as starting parameters.\n",
      "  warn('Non-stationary starting autoregressive parameters'\n",
      "C:\\Folder Baru\\lib\\site-packages\\statsmodels\\tsa\\statespace\\sarimax.py:978: UserWarning: Non-invertible starting MA parameters found. Using zeros as starting parameters.\n",
      "  warn('Non-invertible starting MA parameters found.'\n",
      "C:\\Folder Baru\\lib\\site-packages\\statsmodels\\base\\model.py:604: ConvergenceWarning: Maximum Likelihood optimization failed to converge. Check mle_retvals\n",
      "  warnings.warn(\"Maximum Likelihood optimization failed to \"\n",
      "C:\\Folder Baru\\lib\\site-packages\\statsmodels\\tsa\\statespace\\sarimax.py:966: UserWarning: Non-stationary starting autoregressive parameters found. Using zeros as starting parameters.\n",
      "  warn('Non-stationary starting autoregressive parameters'\n",
      "C:\\Folder Baru\\lib\\site-packages\\statsmodels\\tsa\\statespace\\sarimax.py:978: UserWarning: Non-invertible starting MA parameters found. Using zeros as starting parameters.\n",
      "  warn('Non-invertible starting MA parameters found.'\n",
      "C:\\Folder Baru\\lib\\site-packages\\statsmodels\\base\\model.py:604: ConvergenceWarning: Maximum Likelihood optimization failed to converge. Check mle_retvals\n",
      "  warnings.warn(\"Maximum Likelihood optimization failed to \"\n",
      "C:\\Folder Baru\\lib\\site-packages\\statsmodels\\base\\model.py:604: ConvergenceWarning: Maximum Likelihood optimization failed to converge. Check mle_retvals\n",
      "  warnings.warn(\"Maximum Likelihood optimization failed to \"\n",
      "C:\\Folder Baru\\lib\\site-packages\\statsmodels\\base\\model.py:604: ConvergenceWarning: Maximum Likelihood optimization failed to converge. Check mle_retvals\n",
      "  warnings.warn(\"Maximum Likelihood optimization failed to \"\n",
      "C:\\Folder Baru\\lib\\site-packages\\statsmodels\\tsa\\statespace\\sarimax.py:966: UserWarning: Non-stationary starting autoregressive parameters found. Using zeros as starting parameters.\n",
      "  warn('Non-stationary starting autoregressive parameters'\n",
      "C:\\Folder Baru\\lib\\site-packages\\statsmodels\\tsa\\statespace\\sarimax.py:978: UserWarning: Non-invertible starting MA parameters found. Using zeros as starting parameters.\n",
      "  warn('Non-invertible starting MA parameters found.'\n",
      "C:\\Folder Baru\\lib\\site-packages\\statsmodels\\base\\model.py:604: ConvergenceWarning: Maximum Likelihood optimization failed to converge. Check mle_retvals\n",
      "  warnings.warn(\"Maximum Likelihood optimization failed to \"\n",
      "C:\\Folder Baru\\lib\\site-packages\\statsmodels\\tsa\\statespace\\sarimax.py:966: UserWarning: Non-stationary starting autoregressive parameters found. Using zeros as starting parameters.\n",
      "  warn('Non-stationary starting autoregressive parameters'\n",
      "C:\\Folder Baru\\lib\\site-packages\\statsmodels\\tsa\\statespace\\sarimax.py:978: UserWarning: Non-invertible starting MA parameters found. Using zeros as starting parameters.\n",
      "  warn('Non-invertible starting MA parameters found.'\n",
      "C:\\Folder Baru\\lib\\site-packages\\statsmodels\\base\\model.py:604: ConvergenceWarning: Maximum Likelihood optimization failed to converge. Check mle_retvals\n",
      "  warnings.warn(\"Maximum Likelihood optimization failed to \"\n",
      "C:\\Folder Baru\\lib\\site-packages\\statsmodels\\tsa\\statespace\\sarimax.py:966: UserWarning: Non-stationary starting autoregressive parameters found. Using zeros as starting parameters.\n",
      "  warn('Non-stationary starting autoregressive parameters'\n",
      "C:\\Folder Baru\\lib\\site-packages\\statsmodels\\tsa\\statespace\\sarimax.py:978: UserWarning: Non-invertible starting MA parameters found. Using zeros as starting parameters.\n",
      "  warn('Non-invertible starting MA parameters found.'\n",
      "C:\\Folder Baru\\lib\\site-packages\\statsmodels\\base\\model.py:604: ConvergenceWarning: Maximum Likelihood optimization failed to converge. Check mle_retvals\n",
      "  warnings.warn(\"Maximum Likelihood optimization failed to \"\n",
      "C:\\Folder Baru\\lib\\site-packages\\statsmodels\\base\\model.py:604: ConvergenceWarning: Maximum Likelihood optimization failed to converge. Check mle_retvals\n",
      "  warnings.warn(\"Maximum Likelihood optimization failed to \"\n",
      "C:\\Folder Baru\\lib\\site-packages\\statsmodels\\base\\model.py:604: ConvergenceWarning: Maximum Likelihood optimization failed to converge. Check mle_retvals\n",
      "  warnings.warn(\"Maximum Likelihood optimization failed to \"\n",
      "C:\\Folder Baru\\lib\\site-packages\\statsmodels\\base\\model.py:604: ConvergenceWarning: Maximum Likelihood optimization failed to converge. Check mle_retvals\n",
      "  warnings.warn(\"Maximum Likelihood optimization failed to \"\n",
      "C:\\Folder Baru\\lib\\site-packages\\statsmodels\\tsa\\statespace\\sarimax.py:966: UserWarning: Non-stationary starting autoregressive parameters found. Using zeros as starting parameters.\n",
      "  warn('Non-stationary starting autoregressive parameters'\n",
      "C:\\Folder Baru\\lib\\site-packages\\statsmodels\\tsa\\statespace\\sarimax.py:978: UserWarning: Non-invertible starting MA parameters found. Using zeros as starting parameters.\n",
      "  warn('Non-invertible starting MA parameters found.'\n",
      "C:\\Folder Baru\\lib\\site-packages\\statsmodels\\base\\model.py:604: ConvergenceWarning: Maximum Likelihood optimization failed to converge. Check mle_retvals\n",
      "  warnings.warn(\"Maximum Likelihood optimization failed to \"\n",
      "C:\\Folder Baru\\lib\\site-packages\\statsmodels\\tsa\\statespace\\sarimax.py:978: UserWarning: Non-invertible starting MA parameters found. Using zeros as starting parameters.\n",
      "  warn('Non-invertible starting MA parameters found.'\n",
      "C:\\Folder Baru\\lib\\site-packages\\statsmodels\\tsa\\statespace\\sarimax.py:978: UserWarning: Non-invertible starting MA parameters found. Using zeros as starting parameters.\n",
      "  warn('Non-invertible starting MA parameters found.'\n",
      "C:\\Folder Baru\\lib\\site-packages\\statsmodels\\base\\model.py:604: ConvergenceWarning: Maximum Likelihood optimization failed to converge. Check mle_retvals\n",
      "  warnings.warn(\"Maximum Likelihood optimization failed to \"\n",
      "C:\\Folder Baru\\lib\\site-packages\\statsmodels\\tsa\\statespace\\sarimax.py:978: UserWarning: Non-invertible starting MA parameters found. Using zeros as starting parameters.\n",
      "  warn('Non-invertible starting MA parameters found.'\n",
      "C:\\Folder Baru\\lib\\site-packages\\statsmodels\\base\\model.py:604: ConvergenceWarning: Maximum Likelihood optimization failed to converge. Check mle_retvals\n",
      "  warnings.warn(\"Maximum Likelihood optimization failed to \"\n",
      "C:\\Folder Baru\\lib\\site-packages\\statsmodels\\tsa\\statespace\\sarimax.py:978: UserWarning: Non-invertible starting MA parameters found. Using zeros as starting parameters.\n",
      "  warn('Non-invertible starting MA parameters found.'\n",
      "C:\\Folder Baru\\lib\\site-packages\\statsmodels\\base\\model.py:604: ConvergenceWarning: Maximum Likelihood optimization failed to converge. Check mle_retvals\n",
      "  warnings.warn(\"Maximum Likelihood optimization failed to \"\n",
      "C:\\Folder Baru\\lib\\site-packages\\statsmodels\\tsa\\statespace\\sarimax.py:978: UserWarning: Non-invertible starting MA parameters found. Using zeros as starting parameters.\n",
      "  warn('Non-invertible starting MA parameters found.'\n",
      "C:\\Folder Baru\\lib\\site-packages\\statsmodels\\base\\model.py:604: ConvergenceWarning: Maximum Likelihood optimization failed to converge. Check mle_retvals\n",
      "  warnings.warn(\"Maximum Likelihood optimization failed to \"\n",
      "C:\\Folder Baru\\lib\\site-packages\\statsmodels\\tsa\\statespace\\sarimax.py:966: UserWarning: Non-stationary starting autoregressive parameters found. Using zeros as starting parameters.\n",
      "  warn('Non-stationary starting autoregressive parameters'\n",
      "C:\\Folder Baru\\lib\\site-packages\\statsmodels\\tsa\\statespace\\sarimax.py:978: UserWarning: Non-invertible starting MA parameters found. Using zeros as starting parameters.\n",
      "  warn('Non-invertible starting MA parameters found.'\n"
     ]
    },
    {
     "name": "stdout",
     "output_type": "stream",
     "text": [
      "{'param': (3, 1, 7), 'aic': 3052.4310055011956}\n"
     ]
    },
    {
     "name": "stderr",
     "output_type": "stream",
     "text": [
      "C:\\Folder Baru\\lib\\site-packages\\statsmodels\\base\\model.py:604: ConvergenceWarning: Maximum Likelihood optimization failed to converge. Check mle_retvals\n",
      "  warnings.warn(\"Maximum Likelihood optimization failed to \"\n"
     ]
    }
   ],
   "source": [
    "# daftar untuk menyimpan skor AIC\n",
    "aic_scores = []\n",
    "\n",
    "# grid manual untuk mencari p, d, q yang optimal\n",
    "for param in pdq:\n",
    "    # Fitting model ARIMA\n",
    "    try:\n",
    "        model = ARIMA(agg_df['qty'], order=param)\n",
    "        model_fit = model.fit()\n",
    "        # menambahkan skor AIC ke daftar\n",
    "        aic_scores.append({'param': param, 'aic': model_fit.aic})\n",
    "    except:\n",
    "        continue\n",
    "\n",
    "# Menemukan skor AIC terkecil\n",
    "best_aic = min(aic_scores, key=lambda x: x['aic'])\n",
    "\n",
    "print(best_aic)"
   ]
  },
  {
   "cell_type": "markdown",
   "id": "9242d195",
   "metadata": {},
   "source": [
    "### Perbandingan Hasil Prediksi "
   ]
  },
  {
   "cell_type": "markdown",
   "id": "9c727b40",
   "metadata": {},
   "source": [
    "Berikut adalah perbandingan hasil prediksi dari model ARIMA terbaik dengan model ARIMA yang dihasilkan dari pencarian otomatis (Auto ARIMA) dengan data asli dan data pengujian. "
   ]
  },
  {
   "cell_type": "code",
   "execution_count": 44,
   "id": "ff69337c",
   "metadata": {},
   "outputs": [
    {
     "name": "stderr",
     "output_type": "stream",
     "text": [
      "C:\\Folder Baru\\lib\\site-packages\\statsmodels\\base\\model.py:604: ConvergenceWarning: Maximum Likelihood optimization failed to converge. Check mle_retvals\n",
      "  warnings.warn(\"Maximum Likelihood optimization failed to \"\n"
     ]
    },
    {
     "data": {
      "image/png": "[encoded data removed]",
      "text/plain": [
       "<Figure size 1080x360 with 1 Axes>"
      ]
     },
     "metadata": {},
     "output_type": "display_data"
    }
   ],
   "source": [
    "# Membuat model ARIMA dengan orde terbaik\n",
    "best_order = best_aic['param']  # Mengambil orde terbaik dari hasil sebelumnya\n",
    "model = ARIMA(train_df['qty'], order=best_order)  # Menggunakan 'tty' sebagai data dalam ARIMA\n",
    "model_fit = model.fit()\n",
    "\n",
    "\n",
    "# Mendefinisikan 'forecast' sebagai prediksi dari model Auto ARIMA\n",
    "forecast = auto_arima.predict(n_periods=len(test_df['qty']))\n",
    "\n",
    "# Menggunakan model yang telah dilatih untuk membuat prediksi pada data pengujian\n",
    "preds = model_fit.forecast(steps=len(test_df))\n",
    "\n",
    "# Plot forecast dari model auto arima (forecast)\n",
    "forecast.plot(label='Auto ARIMA', color='purple',figsize = (15,5))\n",
    "\n",
    "# Plot prediksi dari model ARIMA (preds)\n",
    "plt.plot(test_df.index, preds, label='ARIMA prediction', color='red')\n",
    "\n",
    "# Plot data pelatihan (train_df)\n",
    "train_df['qty'].plot(label='Actual Data (Train)', color='blue',figsize = (15,5))\n",
    "\n",
    "# Plot data pengujian (test_df)\n",
    "test_df['qty'].plot(label='Actual Data (Test)', color='green',figsize = (15,5))\n",
    "\n",
    "plt.title('Quantity Sales Comparison')\n",
    "plt.xlabel('Date')\n",
    "plt.ylabel('Quantity')\n",
    "plt.legend()\n",
    "plt.show()"
   ]
  },
  {
   "cell_type": "markdown",
   "id": "76f7195d",
   "metadata": {},
   "source": [
    "### Evaluasi Model"
   ]
  },
  {
   "cell_type": "markdown",
   "id": "22766990",
   "metadata": {},
   "source": [
    "Berikut merupakan Evaluasi dari Model ARIMA Prediction"
   ]
  },
  {
   "cell_type": "code",
   "execution_count": 45,
   "id": "913c4f8c",
   "metadata": {},
   "outputs": [
    {
     "name": "stdout",
     "output_type": "stream",
     "text": [
      "RMSE for Training Data: 16.34\n",
      "RMSE for Testing Data: 14.16\n",
      "MAE for Training Data: 12.65\n",
      "MAE for Testing Data: 12.20\n",
      "MAPE for Training Data: 0.32%\n",
      "MAPE for Testing Data: 0.31%\n"
     ]
    }
   ],
   "source": [
    "# Menghitung prediksi pada data pelatihan\n",
    "train_predictions = model_fit.predict(start=train_df.index[0], end=train_df.index[-1])\n",
    "\n",
    "# Menghitung RMSE untuk data pelatihan\n",
    "train_rmse = np.sqrt(mean_squared_error(train_df['qty'], train_predictions))\n",
    "\n",
    "# Menghitung RMSE untuk data pengujian\n",
    "test_rmse = np.sqrt(mean_squared_error(test_df['qty'], preds))\n",
    "\n",
    "# Menghitung MAE untuk data pelatihan\n",
    "train_mae = mean_absolute_error(train_df['qty'], train_predictions)\n",
    "\n",
    "# Menghitung MAE untuk data pengujian\n",
    "test_mae = mean_absolute_error(test_df['qty'], preds)\n",
    "\n",
    "# Menghitung MAPE untuk data pelatihan\n",
    "train_mape = mean_absolute_percentage_error(train_df['qty'], train_predictions)\n",
    "\n",
    "# Menghitung MAPE untuk data pengujian\n",
    "test_mape = mean_absolute_percentage_error(test_df['qty'], preds)\n",
    "\n",
    "print(f\"RMSE for Training Data: {train_rmse:.2f}\")\n",
    "print(f\"RMSE for Testing Data: {test_rmse:.2f}\")\n",
    "print(f\"MAE for Training Data: {train_mae:.2f}\")\n",
    "print(f\"MAE for Testing Data: {test_mae:.2f}\")\n",
    "print(f\"MAPE for Training Data: {train_mape:.2f}%\")\n",
    "print(f\"MAPE for Testing Data: {test_mape:.2f}%\")"
   ]
  },
  {
   "cell_type": "markdown",
   "id": "68f0669c",
   "metadata": {},
   "source": [
    "Secara umum, nilai RMSE dan MAE yang lebih rendah menunjukkan kinerja model yang lebih baik, sementara MAPE yang lebih rendah menunjukkan kesalahan relatif yang lebih kecil dalam bentuk persentase. Dalam konteks ini, model memiliki RMSE dan MAE yang lebih rendah pada data pengujian, yang menunjukkan bahwa ia melakukan prediksi yang lebih baik pada data yang tidak digunakan dalam pelatihan, yang seringkali menjadi fokus utama dalam pemodelan deret waktu."
   ]
  },
  {
   "cell_type": "markdown",
   "id": "795bd18b",
   "metadata": {},
   "source": [
    "### Pemodelan Manual Forecast (ARIMA dengan Pengisian Orde secara Manual)"
   ]
  },
  {
   "cell_type": "code",
   "execution_count": 46,
   "id": "0a5fd9c2",
   "metadata": {},
   "outputs": [
    {
     "name": "stderr",
     "output_type": "stream",
     "text": [
      "C:\\Folder Baru\\lib\\site-packages\\statsmodels\\tsa\\statespace\\sarimax.py:966: UserWarning: Non-stationary starting autoregressive parameters found. Using zeros as starting parameters.\n",
      "  warn('Non-stationary starting autoregressive parameters'\n",
      "C:\\Folder Baru\\lib\\site-packages\\statsmodels\\tsa\\statespace\\sarimax.py:978: UserWarning: Non-invertible starting MA parameters found. Using zeros as starting parameters.\n",
      "  warn('Non-invertible starting MA parameters found.'\n",
      "C:\\Folder Baru\\lib\\site-packages\\statsmodels\\base\\model.py:604: ConvergenceWarning: Maximum Likelihood optimization failed to converge. Check mle_retvals\n",
      "  warnings.warn(\"Maximum Likelihood optimization failed to \"\n"
     ]
    }
   ],
   "source": [
    "# Membuat model ARIMA dengan orde yang sesuai (p, d, q)\n",
    "model_manual = ARIMA(train_df['qty'], order=(40, 2, 2))\n",
    "\n",
    "# Melatih model dengan data pelatihan\n",
    "model_fit_manual = model_manual.fit()"
   ]
  },
  {
   "cell_type": "markdown",
   "id": "7f045cac",
   "metadata": {},
   "source": [
    "### Perbandingan 3 Model Prediksi"
   ]
  },
  {
   "cell_type": "code",
   "execution_count": 47,
   "id": "61225348",
   "metadata": {},
   "outputs": [
    {
     "name": "stderr",
     "output_type": "stream",
     "text": [
      "C:\\Users\\ASUS\\AppData\\Local\\Temp\\ipykernel_17332\\2800448322.py:14: SettingWithCopyWarning: \n",
      "A value is trying to be set on a copy of a slice from a DataFrame.\n",
      "Try using .loc[row_indexer,col_indexer] = value instead\n",
      "\n",
      "See the caveats in the documentation: https://pandas.pydata.org/pandas-docs/stable/user_guide/indexing.html#returning-a-view-versus-a-copy\n",
      "  df_plot['forecast_manual'] = forecast_manual\n",
      "C:\\Users\\ASUS\\AppData\\Local\\Temp\\ipykernel_17332\\2800448322.py:15: SettingWithCopyWarning: \n",
      "A value is trying to be set on a copy of a slice from a DataFrame.\n",
      "Try using .loc[row_indexer,col_indexer] = value instead\n",
      "\n",
      "See the caveats in the documentation: https://pandas.pydata.org/pandas-docs/stable/user_guide/indexing.html#returning-a-view-versus-a-copy\n",
      "  df_plot['forecast_hyper'] = forecast_hyper\n",
      "C:\\Users\\ASUS\\AppData\\Local\\Temp\\ipykernel_17332\\2800448322.py:16: SettingWithCopyWarning: \n",
      "A value is trying to be set on a copy of a slice from a DataFrame.\n",
      "Try using .loc[row_indexer,col_indexer] = value instead\n",
      "\n",
      "See the caveats in the documentation: https://pandas.pydata.org/pandas-docs/stable/user_guide/indexing.html#returning-a-view-versus-a-copy\n",
      "  df_plot['forecast_auto'] = forecast_auto\n"
     ]
    },
    {
     "data": {
      "image/png": "[encoded data removed]",
      "text/plain": [
       "<Figure size 1080x432 with 1 Axes>"
      ]
     },
     "metadata": {},
     "output_type": "display_data"
    }
   ],
   "source": [
    "# Plot prediksi untuk model manual\n",
    "forecast_manual = model_fit_manual.forecast(steps=len(test_df))\n",
    "\n",
    "# Plot prediksi untuk model dengan orde terbaik\n",
    "forecast_hyper = preds\n",
    "\n",
    "# Plot prediksi untuk model auto ARIMA\n",
    "forecast_auto = forecast\n",
    "\n",
    "# Memotong data historis untuk memvisualisasikan hasil yang lebih relevan\n",
    "df_plot = agg_df.iloc[-len(test_df):]\n",
    "\n",
    "# Menambahkan prediksi ke DataFrame df_plot\n",
    "df_plot['forecast_manual'] = forecast_manual\n",
    "df_plot['forecast_hyper'] = forecast_hyper\n",
    "df_plot['forecast_auto'] = forecast_auto\n",
    "\n",
    "# Plot data historis dan prediksi\n",
    "plt.figure(figsize=(15, 6))\n",
    "plt.plot(df_plot.index, df_plot['qty'], label='Actual Data (Test Data)', color='blue')\n",
    "plt.plot(df_plot.index, df_plot['forecast_manual'], label='Manual Model Forecast', color='orange')\n",
    "plt.plot(df_plot.index, df_plot['forecast_hyper'], label='ARIMA Predictions', color='red')\n",
    "plt.plot(df_plot.index, df_plot['forecast_auto'], label='Auto ARIMA', color='purple')\n",
    "\n",
    "plt.title('Comparison of Forecast Models')\n",
    "plt.xlabel('Date')\n",
    "plt.ylabel('Quantity')\n",
    "plt.legend()\n",
    "plt.show()"
   ]
  },
  {
   "cell_type": "markdown",
   "id": "2399a8bd",
   "metadata": {},
   "source": [
    "### Evaluasi Model Manual Forecast"
   ]
  },
  {
   "cell_type": "code",
   "execution_count": 48,
   "id": "d0bf9abe",
   "metadata": {},
   "outputs": [
    {
     "name": "stdout",
     "output_type": "stream",
     "text": [
      "MAE for Testing Data: 11.89\n",
      "MAPE for Testing Data: 0.30%\n",
      "RMSE for Testing Data: 14.14\n"
     ]
    }
   ],
   "source": [
    "# Menghitung MAE (Mean Absolute Error) antara data pengujian dan prediksi manual\n",
    "mae = mean_absolute_error(test_df['qty'], forecast_manual)\n",
    "\n",
    "# Menghitung MAPE (Mean Absolute Percentage Error) antara data pengujian dan prediksi manual\n",
    "mape = mean_absolute_percentage_error(test_df['qty'], forecast_manual)\n",
    "\n",
    "# Menghitung RMSE (Root Mean Square Error) antara data pengujian dan prediksi manual\n",
    "rmse = np.sqrt(mean_squared_error(test_df['qty'], forecast_manual))\n",
    "\n",
    "\n",
    "# Mencetak hasil metrik evaluasi\n",
    "print(f\"MAE for Testing Data: {mae:.2f}\")\n",
    "print(f\"MAPE for Testing Data: {mape:.2f}%\")\n",
    "print(f\"RMSE for Testing Data: {rmse:.2f}\")"
   ]
  },
  {
   "cell_type": "markdown",
   "id": "686e209b",
   "metadata": {},
   "source": [
    "### Forecasting"
   ]
  },
  {
   "cell_type": "markdown",
   "id": "2641ca33",
   "metadata": {},
   "source": [
    "### Prediksi untuk 31 Hari ke depan"
   ]
  },
  {
   "cell_type": "code",
   "execution_count": 49,
   "id": "e5af3440",
   "metadata": {},
   "outputs": [
    {
     "name": "stderr",
     "output_type": "stream",
     "text": [
      "C:\\Folder Baru\\lib\\site-packages\\statsmodels\\tsa\\statespace\\sarimax.py:966: UserWarning: Non-stationary starting autoregressive parameters found. Using zeros as starting parameters.\n",
      "  warn('Non-stationary starting autoregressive parameters'\n",
      "C:\\Folder Baru\\lib\\site-packages\\statsmodels\\tsa\\statespace\\sarimax.py:978: UserWarning: Non-invertible starting MA parameters found. Using zeros as starting parameters.\n",
      "  warn('Non-invertible starting MA parameters found.'\n",
      "C:\\Folder Baru\\lib\\site-packages\\statsmodels\\base\\model.py:604: ConvergenceWarning: Maximum Likelihood optimization failed to converge. Check mle_retvals\n",
      "  warnings.warn(\"Maximum Likelihood optimization failed to \"\n"
     ]
    }
   ],
   "source": [
    "# Membuat model ARIMA dengan orde (40, 2, 2)\n",
    "model = ARIMA(agg_df['qty'], order=(40, 2, 2))\n",
    "\n",
    "# Melatih model dengan data\n",
    "model_fit = model.fit()\n",
    "\n",
    "# Melakukan prediksi untuk 31 langkah ke depan\n",
    "forecast = model_fit.forecast(steps=31)"
   ]
  },
  {
   "cell_type": "markdown",
   "id": "6dbc93bf",
   "metadata": {},
   "source": [
    "### Visualisasi Hasil Prediksi"
   ]
  },
  {
   "cell_type": "code",
   "execution_count": 50,
   "id": "f0902185",
   "metadata": {},
   "outputs": [
    {
     "data": {
      "image/png": "[encoded data removed]",
      "text/plain": [
       "<Figure size 1080x360 with 1 Axes>"
      ]
     },
     "metadata": {},
     "output_type": "display_data"
    }
   ],
   "source": [
    "# Plot data historis\n",
    "plt.figure(figsize=(15, 5))\n",
    "plt.plot(agg_df.index, agg_df['qty'], label='Actual Data', color='blue', linestyle='-')  \n",
    "\n",
    "# Plot hasil prediksi\n",
    "plt.plot(forecast.index, forecast, color='orange', label='Forecasted Data', linestyle='-')  \n",
    "\n",
    "# Menambahkan judul dan label sumbu\n",
    "plt.title('Quantity Sales Forecasting')\n",
    "plt.xlabel('Date')\n",
    "plt.ylabel('Quantity')\n",
    "\n",
    "# Menambahkan legenda yang berada di sudut kanan atas\n",
    "plt.legend(loc='upper right')\n",
    "\n",
    "# Menampilkan grid untuk membantu dalam interpretasi\n",
    "plt.grid(True)\n",
    "\n",
    "# Menampilkan grafik\n",
    "plt.show()"
   ]
  },
  {
   "cell_type": "markdown",
   "id": "678e2b62",
   "metadata": {},
   "source": [
    "### Hasil Prediksi Selama 31 Hari ke depan"
   ]
  },
  {
   "cell_type": "code",
   "execution_count": 51,
   "id": "e673badb",
   "metadata": {},
   "outputs": [
    {
     "name": "stdout",
     "output_type": "stream",
     "text": [
      "     Forecasted Quantity\n",
      "365            40.543452\n",
      "366            46.847805\n",
      "367            41.818454\n",
      "368            43.985963\n",
      "369            43.678940\n",
      "370            38.757870\n",
      "371            42.925998\n",
      "372            39.198703\n",
      "373            42.190821\n",
      "374            43.105299\n",
      "375            38.127501\n",
      "376            36.174151\n",
      "377            39.564125\n",
      "378            39.352755\n",
      "379            34.041768\n",
      "380            39.149950\n",
      "381            46.146211\n",
      "382            41.539383\n",
      "383            38.383473\n",
      "384            43.577883\n",
      "385            38.661783\n",
      "386            36.036104\n",
      "387            47.723728\n",
      "388            44.466209\n",
      "389            37.588074\n",
      "390            45.183132\n",
      "391            47.410588\n",
      "392            38.008142\n",
      "393            41.499140\n",
      "394            45.990757\n",
      "395            39.494387\n"
     ]
    }
   ],
   "source": [
    "# Konversi hasil prediksi (forecast) menjadi DataFrame\n",
    "forecast_df = pd.DataFrame({'Forecasted Quantity': forecast})\n",
    "\n",
    "# Menampilkan DataFrame hasil prediksi\n",
    "print(forecast_df)"
   ]
  },
  {
   "cell_type": "code",
   "execution_count": 52,
   "id": "6162109a",
   "metadata": {},
   "outputs": [
    {
     "data": {
      "text/html": [
       "<div>\n",
       "<style scoped>\n",
       "    .dataframe tbody tr th:only-of-type {\n",
       "        vertical-align: middle;\n",
       "    }\n",
       "\n",
       "    .dataframe tbody tr th {\n",
       "        vertical-align: top;\n",
       "    }\n",
       "\n",
       "    .dataframe thead th {\n",
       "        text-align: right;\n",
       "    }\n",
       "</style>\n",
       "<table border=\"1\" class=\"dataframe\">\n",
       "  <thead>\n",
       "    <tr style=\"text-align: right;\">\n",
       "      <th></th>\n",
       "      <th>Forecasted Quantity</th>\n",
       "    </tr>\n",
       "  </thead>\n",
       "  <tbody>\n",
       "    <tr>\n",
       "      <th>365</th>\n",
       "      <td>40.543452</td>\n",
       "    </tr>\n",
       "    <tr>\n",
       "      <th>366</th>\n",
       "      <td>46.847805</td>\n",
       "    </tr>\n",
       "    <tr>\n",
       "      <th>367</th>\n",
       "      <td>41.818454</td>\n",
       "    </tr>\n",
       "    <tr>\n",
       "      <th>368</th>\n",
       "      <td>43.985963</td>\n",
       "    </tr>\n",
       "    <tr>\n",
       "      <th>369</th>\n",
       "      <td>43.678940</td>\n",
       "    </tr>\n",
       "    <tr>\n",
       "      <th>370</th>\n",
       "      <td>38.757870</td>\n",
       "    </tr>\n",
       "    <tr>\n",
       "      <th>371</th>\n",
       "      <td>42.925998</td>\n",
       "    </tr>\n",
       "    <tr>\n",
       "      <th>372</th>\n",
       "      <td>39.198703</td>\n",
       "    </tr>\n",
       "    <tr>\n",
       "      <th>373</th>\n",
       "      <td>42.190821</td>\n",
       "    </tr>\n",
       "    <tr>\n",
       "      <th>374</th>\n",
       "      <td>43.105299</td>\n",
       "    </tr>\n",
       "    <tr>\n",
       "      <th>375</th>\n",
       "      <td>38.127501</td>\n",
       "    </tr>\n",
       "    <tr>\n",
       "      <th>376</th>\n",
       "      <td>36.174151</td>\n",
       "    </tr>\n",
       "    <tr>\n",
       "      <th>377</th>\n",
       "      <td>39.564125</td>\n",
       "    </tr>\n",
       "    <tr>\n",
       "      <th>378</th>\n",
       "      <td>39.352755</td>\n",
       "    </tr>\n",
       "    <tr>\n",
       "      <th>379</th>\n",
       "      <td>34.041768</td>\n",
       "    </tr>\n",
       "    <tr>\n",
       "      <th>380</th>\n",
       "      <td>39.149950</td>\n",
       "    </tr>\n",
       "    <tr>\n",
       "      <th>381</th>\n",
       "      <td>46.146211</td>\n",
       "    </tr>\n",
       "    <tr>\n",
       "      <th>382</th>\n",
       "      <td>41.539383</td>\n",
       "    </tr>\n",
       "    <tr>\n",
       "      <th>383</th>\n",
       "      <td>38.383473</td>\n",
       "    </tr>\n",
       "    <tr>\n",
       "      <th>384</th>\n",
       "      <td>43.577883</td>\n",
       "    </tr>\n",
       "    <tr>\n",
       "      <th>385</th>\n",
       "      <td>38.661783</td>\n",
       "    </tr>\n",
       "    <tr>\n",
       "      <th>386</th>\n",
       "      <td>36.036104</td>\n",
       "    </tr>\n",
       "    <tr>\n",
       "      <th>387</th>\n",
       "      <td>47.723728</td>\n",
       "    </tr>\n",
       "    <tr>\n",
       "      <th>388</th>\n",
       "      <td>44.466209</td>\n",
       "    </tr>\n",
       "    <tr>\n",
       "      <th>389</th>\n",
       "      <td>37.588074</td>\n",
       "    </tr>\n",
       "    <tr>\n",
       "      <th>390</th>\n",
       "      <td>45.183132</td>\n",
       "    </tr>\n",
       "    <tr>\n",
       "      <th>391</th>\n",
       "      <td>47.410588</td>\n",
       "    </tr>\n",
       "    <tr>\n",
       "      <th>392</th>\n",
       "      <td>38.008142</td>\n",
       "    </tr>\n",
       "    <tr>\n",
       "      <th>393</th>\n",
       "      <td>41.499140</td>\n",
       "    </tr>\n",
       "    <tr>\n",
       "      <th>394</th>\n",
       "      <td>45.990757</td>\n",
       "    </tr>\n",
       "    <tr>\n",
       "      <th>395</th>\n",
       "      <td>39.494387</td>\n",
       "    </tr>\n",
       "  </tbody>\n",
       "</table>\n",
       "</div>"
      ],
      "text/plain": [
       "     Forecasted Quantity\n",
       "365            40.543452\n",
       "366            46.847805\n",
       "367            41.818454\n",
       "368            43.985963\n",
       "369            43.678940\n",
       "370            38.757870\n",
       "371            42.925998\n",
       "372            39.198703\n",
       "373            42.190821\n",
       "374            43.105299\n",
       "375            38.127501\n",
       "376            36.174151\n",
       "377            39.564125\n",
       "378            39.352755\n",
       "379            34.041768\n",
       "380            39.149950\n",
       "381            46.146211\n",
       "382            41.539383\n",
       "383            38.383473\n",
       "384            43.577883\n",
       "385            38.661783\n",
       "386            36.036104\n",
       "387            47.723728\n",
       "388            44.466209\n",
       "389            37.588074\n",
       "390            45.183132\n",
       "391            47.410588\n",
       "392            38.008142\n",
       "393            41.499140\n",
       "394            45.990757\n",
       "395            39.494387"
      ]
     },
     "execution_count": 52,
     "metadata": {},
     "output_type": "execute_result"
    }
   ],
   "source": [
    "forecast_df"
   ]
  },
  {
   "cell_type": "code",
   "execution_count": 53,
   "id": "8470e3b3",
   "metadata": {},
   "outputs": [
    {
     "data": {
      "text/html": [
       "<div>\n",
       "<style scoped>\n",
       "    .dataframe tbody tr th:only-of-type {\n",
       "        vertical-align: middle;\n",
       "    }\n",
       "\n",
       "    .dataframe tbody tr th {\n",
       "        vertical-align: top;\n",
       "    }\n",
       "\n",
       "    .dataframe thead th {\n",
       "        text-align: right;\n",
       "    }\n",
       "</style>\n",
       "<table border=\"1\" class=\"dataframe\">\n",
       "  <thead>\n",
       "    <tr style=\"text-align: right;\">\n",
       "      <th></th>\n",
       "      <th>Forecasted Quantity</th>\n",
       "    </tr>\n",
       "  </thead>\n",
       "  <tbody>\n",
       "    <tr>\n",
       "      <th>count</th>\n",
       "      <td>31.000000</td>\n",
       "    </tr>\n",
       "    <tr>\n",
       "      <th>mean</th>\n",
       "      <td>41.328147</td>\n",
       "    </tr>\n",
       "    <tr>\n",
       "      <th>std</th>\n",
       "      <td>3.596403</td>\n",
       "    </tr>\n",
       "    <tr>\n",
       "      <th>min</th>\n",
       "      <td>34.041768</td>\n",
       "    </tr>\n",
       "    <tr>\n",
       "      <th>25%</th>\n",
       "      <td>38.709827</td>\n",
       "    </tr>\n",
       "    <tr>\n",
       "      <th>50%</th>\n",
       "      <td>41.499140</td>\n",
       "    </tr>\n",
       "    <tr>\n",
       "      <th>75%</th>\n",
       "      <td>43.832451</td>\n",
       "    </tr>\n",
       "    <tr>\n",
       "      <th>max</th>\n",
       "      <td>47.723728</td>\n",
       "    </tr>\n",
       "  </tbody>\n",
       "</table>\n",
       "</div>"
      ],
      "text/plain": [
       "       Forecasted Quantity\n",
       "count            31.000000\n",
       "mean             41.328147\n",
       "std               3.596403\n",
       "min              34.041768\n",
       "25%              38.709827\n",
       "50%              41.499140\n",
       "75%              43.832451\n",
       "max              47.723728"
      ]
     },
     "execution_count": 53,
     "metadata": {},
     "output_type": "execute_result"
    }
   ],
   "source": [
    "forecast_df.describe()"
   ]
  },
  {
   "cell_type": "markdown",
   "id": "293ae8ab",
   "metadata": {},
   "source": [
    "## CLUSTERING"
   ]
  },
  {
   "cell_type": "markdown",
   "id": "9fd1b536",
   "metadata": {},
   "source": [
    "### Mengelompokkan Data"
   ]
  },
  {
   "cell_type": "markdown",
   "id": "6832bc40",
   "metadata": {},
   "source": [
    "Dataframe ini berisi data agregasi untuk setiap pelanggan, termasuk jumlah transaksi, total kuantitas produk yang dibeli, dan total jumlah uang yang dihabiskan oleh setiap pelanggan."
   ]
  },
  {
   "cell_type": "code",
   "execution_count": 54,
   "id": "96f78e41",
   "metadata": {},
   "outputs": [],
   "source": [
    "cluster_data = df.groupby('customer_id').agg({\n",
    "    'transaction_id': 'count',\n",
    "    'qty': 'sum',\n",
    "    'total_amount': 'sum',\n",
    "}).reset_index()"
   ]
  },
  {
   "cell_type": "code",
   "execution_count": 55,
   "id": "a2586416",
   "metadata": {},
   "outputs": [
    {
     "data": {
      "text/html": [
       "<div>\n",
       "<style scoped>\n",
       "    .dataframe tbody tr th:only-of-type {\n",
       "        vertical-align: middle;\n",
       "    }\n",
       "\n",
       "    .dataframe tbody tr th {\n",
       "        vertical-align: top;\n",
       "    }\n",
       "\n",
       "    .dataframe thead th {\n",
       "        text-align: right;\n",
       "    }\n",
       "</style>\n",
       "<table border=\"1\" class=\"dataframe\">\n",
       "  <thead>\n",
       "    <tr style=\"text-align: right;\">\n",
       "      <th></th>\n",
       "      <th>customer_id</th>\n",
       "      <th>transaction_id</th>\n",
       "      <th>qty</th>\n",
       "      <th>total_amount</th>\n",
       "    </tr>\n",
       "  </thead>\n",
       "  <tbody>\n",
       "    <tr>\n",
       "      <th>0</th>\n",
       "      <td>1</td>\n",
       "      <td>17</td>\n",
       "      <td>60.0</td>\n",
       "      <td>623300</td>\n",
       "    </tr>\n",
       "    <tr>\n",
       "      <th>1</th>\n",
       "      <td>2</td>\n",
       "      <td>13</td>\n",
       "      <td>57.0</td>\n",
       "      <td>392300</td>\n",
       "    </tr>\n",
       "    <tr>\n",
       "      <th>2</th>\n",
       "      <td>3</td>\n",
       "      <td>15</td>\n",
       "      <td>56.0</td>\n",
       "      <td>446200</td>\n",
       "    </tr>\n",
       "    <tr>\n",
       "      <th>3</th>\n",
       "      <td>4</td>\n",
       "      <td>10</td>\n",
       "      <td>46.0</td>\n",
       "      <td>302500</td>\n",
       "    </tr>\n",
       "    <tr>\n",
       "      <th>4</th>\n",
       "      <td>5</td>\n",
       "      <td>7</td>\n",
       "      <td>27.0</td>\n",
       "      <td>268600</td>\n",
       "    </tr>\n",
       "  </tbody>\n",
       "</table>\n",
       "</div>"
      ],
      "text/plain": [
       "   customer_id  transaction_id   qty  total_amount\n",
       "0            1              17  60.0        623300\n",
       "1            2              13  57.0        392300\n",
       "2            3              15  56.0        446200\n",
       "3            4              10  46.0        302500\n",
       "4            5               7  27.0        268600"
      ]
     },
     "execution_count": 55,
     "metadata": {},
     "output_type": "execute_result"
    }
   ],
   "source": [
    "cluster_data.head()"
   ]
  },
  {
   "cell_type": "markdown",
   "id": "0092e352",
   "metadata": {},
   "source": [
    "### Menghapus kolom \"customer_id\""
   ]
  },
  {
   "cell_type": "code",
   "execution_count": 56,
   "id": "6debd50a",
   "metadata": {},
   "outputs": [],
   "source": [
    "data = cluster_data.drop('customer_id', axis=1)"
   ]
  },
  {
   "cell_type": "code",
   "execution_count": 57,
   "id": "d7472658",
   "metadata": {},
   "outputs": [
    {
     "data": {
      "text/html": [
       "<div>\n",
       "<style scoped>\n",
       "    .dataframe tbody tr th:only-of-type {\n",
       "        vertical-align: middle;\n",
       "    }\n",
       "\n",
       "    .dataframe tbody tr th {\n",
       "        vertical-align: top;\n",
       "    }\n",
       "\n",
       "    .dataframe thead th {\n",
       "        text-align: right;\n",
       "    }\n",
       "</style>\n",
       "<table border=\"1\" class=\"dataframe\">\n",
       "  <thead>\n",
       "    <tr style=\"text-align: right;\">\n",
       "      <th></th>\n",
       "      <th>transaction_id</th>\n",
       "      <th>qty</th>\n",
       "      <th>total_amount</th>\n",
       "    </tr>\n",
       "  </thead>\n",
       "  <tbody>\n",
       "    <tr>\n",
       "      <th>0</th>\n",
       "      <td>17</td>\n",
       "      <td>60.0</td>\n",
       "      <td>623300</td>\n",
       "    </tr>\n",
       "    <tr>\n",
       "      <th>1</th>\n",
       "      <td>13</td>\n",
       "      <td>57.0</td>\n",
       "      <td>392300</td>\n",
       "    </tr>\n",
       "    <tr>\n",
       "      <th>2</th>\n",
       "      <td>15</td>\n",
       "      <td>56.0</td>\n",
       "      <td>446200</td>\n",
       "    </tr>\n",
       "    <tr>\n",
       "      <th>3</th>\n",
       "      <td>10</td>\n",
       "      <td>46.0</td>\n",
       "      <td>302500</td>\n",
       "    </tr>\n",
       "    <tr>\n",
       "      <th>4</th>\n",
       "      <td>7</td>\n",
       "      <td>27.0</td>\n",
       "      <td>268600</td>\n",
       "    </tr>\n",
       "  </tbody>\n",
       "</table>\n",
       "</div>"
      ],
      "text/plain": [
       "   transaction_id   qty  total_amount\n",
       "0              17  60.0        623300\n",
       "1              13  57.0        392300\n",
       "2              15  56.0        446200\n",
       "3              10  46.0        302500\n",
       "4               7  27.0        268600"
      ]
     },
     "execution_count": 57,
     "metadata": {},
     "output_type": "execute_result"
    }
   ],
   "source": [
    "data.head()"
   ]
  },
  {
   "cell_type": "markdown",
   "id": "02c9a068",
   "metadata": {},
   "source": [
    "### Standarisasi Data"
   ]
  },
  {
   "cell_type": "code",
   "execution_count": 58,
   "id": "6bf865d5",
   "metadata": {},
   "outputs": [
    {
     "name": "stdout",
     "output_type": "stream",
     "text": [
      "Data Asli:\n",
      "     transaction_id   qty  total_amount\n",
      "0                17  60.0        623300\n",
      "1                13  57.0        392300\n",
      "2                15  56.0        446200\n",
      "3                10  46.0        302500\n",
      "4                 7  27.0        268600\n",
      "..              ...   ...           ...\n",
      "442              15  54.0        410100\n",
      "443              18  62.0        577700\n",
      "444              18  68.0        587200\n",
      "445              11  42.0        423300\n",
      "446              13  42.0        439300\n",
      "\n",
      "[447 rows x 3 columns]\n",
      "\n",
      "Data Setelah Standarisasi:\n",
      "[[1.8591775  1.68172201 2.15968326]\n",
      " [0.62387116 1.44070574 0.3022972 ]\n",
      " [1.24152433 1.36036699 0.73568728]\n",
      " ...\n",
      " [2.16800409 2.32443205 1.86941644]\n",
      " [0.00621798 0.2356244  0.5515568 ]\n",
      " [0.62387116 0.2356244  0.68020692]]\n"
     ]
    }
   ],
   "source": [
    "# Buat objek StandardScaler\n",
    "scaler = StandardScaler()\n",
    "\n",
    "# Fitkan StandardScaler pada data\n",
    "scaler.fit(data)\n",
    "\n",
    "# Standarisasi data\n",
    "standardized_data = scaler.transform(data)\n",
    "\n",
    "# Buat DataFrame baru dari standardized_data\n",
    "df_standardized = pd.DataFrame(standardized_data, columns=['transaction_id', 'qty', 'total_amount'])\n",
    "\n",
    "print(\"Data Asli:\")\n",
    "print(data)\n",
    "print(\"\\nData Setelah Standarisasi:\")\n",
    "print(standardized_data)"
   ]
  },
  {
   "cell_type": "code",
   "execution_count": 59,
   "id": "dc3a5167",
   "metadata": {},
   "outputs": [
    {
     "data": {
      "text/html": [
       "<div>\n",
       "<style scoped>\n",
       "    .dataframe tbody tr th:only-of-type {\n",
       "        vertical-align: middle;\n",
       "    }\n",
       "\n",
       "    .dataframe tbody tr th {\n",
       "        vertical-align: top;\n",
       "    }\n",
       "\n",
       "    .dataframe thead th {\n",
       "        text-align: right;\n",
       "    }\n",
       "</style>\n",
       "<table border=\"1\" class=\"dataframe\">\n",
       "  <thead>\n",
       "    <tr style=\"text-align: right;\">\n",
       "      <th></th>\n",
       "      <th>transaction_id</th>\n",
       "      <th>qty</th>\n",
       "      <th>total_amount</th>\n",
       "    </tr>\n",
       "  </thead>\n",
       "  <tbody>\n",
       "    <tr>\n",
       "      <th>0</th>\n",
       "      <td>1.859178</td>\n",
       "      <td>1.681722</td>\n",
       "      <td>2.159683</td>\n",
       "    </tr>\n",
       "    <tr>\n",
       "      <th>1</th>\n",
       "      <td>0.623871</td>\n",
       "      <td>1.440706</td>\n",
       "      <td>0.302297</td>\n",
       "    </tr>\n",
       "    <tr>\n",
       "      <th>2</th>\n",
       "      <td>1.241524</td>\n",
       "      <td>1.360367</td>\n",
       "      <td>0.735687</td>\n",
       "    </tr>\n",
       "    <tr>\n",
       "      <th>3</th>\n",
       "      <td>-0.302609</td>\n",
       "      <td>0.556979</td>\n",
       "      <td>-0.419752</td>\n",
       "    </tr>\n",
       "    <tr>\n",
       "      <th>4</th>\n",
       "      <td>-1.229088</td>\n",
       "      <td>-0.969457</td>\n",
       "      <td>-0.692329</td>\n",
       "    </tr>\n",
       "  </tbody>\n",
       "</table>\n",
       "</div>"
      ],
      "text/plain": [
       "   transaction_id       qty  total_amount\n",
       "0        1.859178  1.681722      2.159683\n",
       "1        0.623871  1.440706      0.302297\n",
       "2        1.241524  1.360367      0.735687\n",
       "3       -0.302609  0.556979     -0.419752\n",
       "4       -1.229088 -0.969457     -0.692329"
      ]
     },
     "execution_count": 59,
     "metadata": {},
     "output_type": "execute_result"
    }
   ],
   "source": [
    "df_standardized.head()"
   ]
  },
  {
   "cell_type": "markdown",
   "id": "671c4201",
   "metadata": {},
   "source": [
    "### Menghitung Within-Cluster Sum of Squares (WCSS)"
   ]
  },
  {
   "cell_type": "markdown",
   "id": "f3c7b9e6",
   "metadata": {},
   "source": [
    "Within-Cluster Sum of Squares (WCSS) digunakan untuk menentukan jumlah kluster yang optimal dalam analisis pengelompokan (clustering). "
   ]
  },
  {
   "cell_type": "code",
   "execution_count": 60,
   "id": "9b8c78cb",
   "metadata": {},
   "outputs": [
    {
     "name": "stderr",
     "output_type": "stream",
     "text": [
      "C:\\Folder Baru\\lib\\site-packages\\sklearn\\cluster\\_kmeans.py:1036: UserWarning: KMeans is known to have a memory leak on Windows with MKL, when there are less chunks than available threads. You can avoid it by setting the environment variable OMP_NUM_THREADS=2.\n",
      "  warnings.warn(\n"
     ]
    }
   ],
   "source": [
    "# Inisialisasi list untuk menghitung within-cluster sum of squares (WCSS)\n",
    "wcss = []\n",
    "\n",
    "# Range jumlah klaster yang akan ditelusuri\n",
    "num_clusters = range(1, 11)\n",
    "\n",
    "for n_clusters in num_clusters:\n",
    "    # Membuat model K-Means dengan jumlah klaster tertentu\n",
    "    model = KMeans(n_clusters=n_clusters, init='k-means++', n_init=10, max_iter=100, tol=0.0001, random_state=100)\n",
    "    \n",
    "    # Melatih model pada data yang telah dinormalisasi\n",
    "    model.fit(df_standardized)\n",
    "    \n",
    "    # Menambahkan nilai Inertia (WCSS) ke dalam list\n",
    "    wcss.append(model.inertia_)"
   ]
  },
  {
   "cell_type": "markdown",
   "id": "1dd02535",
   "metadata": {},
   "source": [
    "### Grafik Elbow Method"
   ]
  },
  {
   "cell_type": "markdown",
   "id": "80d53f07",
   "metadata": {},
   "source": [
    "Elbow Method akan membantu dalam menentukan jumlah kluster yang optimal."
   ]
  },
  {
   "cell_type": "code",
   "execution_count": 61,
   "id": "cd5805a7",
   "metadata": {},
   "outputs": [
    {
     "data": {
      "image/png": "[encoded data removed]",
      "text/plain": [
       "<Figure size 576x432 with 1 Axes>"
      ]
     },
     "metadata": {},
     "output_type": "display_data"
    }
   ],
   "source": [
    "# Plot Elbow Method untuk menentukan jumlah klaster yang optimal\n",
    "plt.figure(figsize=(8, 6))\n",
    "plt.plot(num_clusters, wcss, marker='o', linestyle='-', color='b')\n",
    "plt.title('Elbow Method for Optimal K')\n",
    "plt.xlabel('Number of Clusters')\n",
    "plt.ylabel('Within-Cluster Sum of Squares (WCSS)')\n",
    "plt.grid()\n",
    "plt.show()"
   ]
  },
  {
   "cell_type": "markdown",
   "id": "23c470c2",
   "metadata": {},
   "source": [
    "### Clustering dengan algoritma K-Means dan memvisualisasikan elbow curve"
   ]
  },
  {
   "cell_type": "code",
   "execution_count": 62,
   "id": "38a1ffe2",
   "metadata": {},
   "outputs": [
    {
     "name": "stderr",
     "output_type": "stream",
     "text": [
      "C:\\Folder Baru\\lib\\site-packages\\sklearn\\cluster\\_kmeans.py:1036: UserWarning: KMeans is known to have a memory leak on Windows with MKL, when there are less chunks than available threads. You can avoid it by setting the environment variable OMP_NUM_THREADS=2.\n",
      "  warnings.warn(\n"
     ]
    },
    {
     "data": {
      "image/png": "[encoded data removed]",
      "text/plain": [
       "<Figure size 576x396 with 2 Axes>"
      ]
     },
     "metadata": {},
     "output_type": "display_data"
    },
    {
     "data": {
      "text/plain": [
       "<AxesSubplot:title={'center':'Distortion Score Elbow for KMeans Clustering'}, xlabel='k', ylabel='distortion score'>"
      ]
     },
     "execution_count": 62,
     "metadata": {},
     "output_type": "execute_result"
    }
   ],
   "source": [
    "# Instantiate the KMeans model\n",
    "model = KMeans()\n",
    "\n",
    "# Instantiate the KElbowVisualizer with the KMeans model and k values to explore\n",
    "visualizer = KElbowVisualizer(model, k=(1, 10))\n",
    "\n",
    "# Fit the visualizer to the data (df_standardized)\n",
    "visualizer.fit(df_standardized)\n",
    "\n",
    "# Visualize the elbow curve\n",
    "visualizer.show()"
   ]
  },
  {
   "cell_type": "markdown",
   "id": "ff7c6d6e",
   "metadata": {},
   "source": [
    "### Clustering menggunakan algoritma K-Means dan menambahkan label kluster ke dalam dataframe asli"
   ]
  },
  {
   "cell_type": "code",
   "execution_count": 63,
   "id": "73df1807",
   "metadata": {},
   "outputs": [
    {
     "name": "stdout",
     "output_type": "stream",
     "text": [
      "Original Data with Cluster Labels:\n",
      "     transaction_id   qty  total_amount  cluster\n",
      "0                17  60.0        623300        1\n",
      "1                13  57.0        392300        1\n",
      "2                15  56.0        446200        1\n",
      "3                10  46.0        302500        0\n",
      "4                 7  27.0        268600        2\n",
      "..              ...   ...           ...      ...\n",
      "442              15  54.0        410100        1\n",
      "443              18  62.0        577700        1\n",
      "444              18  68.0        587200        1\n",
      "445              11  42.0        423300        0\n",
      "446              13  42.0        439300        0\n",
      "\n",
      "[447 rows x 4 columns]\n"
     ]
    }
   ],
   "source": [
    "# Specify the number of clusters\n",
    "n_clusters = 3\n",
    "\n",
    "# Create the KMeans object\n",
    "kmeans = KMeans(n_clusters=n_clusters, init='k-means++', n_init=10, max_iter=100, random_state=100)\n",
    "\n",
    "# Fit the KMeans model on the normalized data\n",
    "kmeans.fit(df_standardized)\n",
    "\n",
    "# Get the cluster labels for the data points\n",
    "cluster_labels = kmeans.labels_\n",
    "\n",
    "# Add the cluster labels to the original DataFrame\n",
    "data['cluster'] = cluster_labels\n",
    "\n",
    "print(\"Original Data with Cluster Labels:\")\n",
    "print(data)"
   ]
  },
  {
   "cell_type": "markdown",
   "id": "8a09e795",
   "metadata": {},
   "source": [
    "### Pair Plot"
   ]
  },
  {
   "cell_type": "markdown",
   "id": "2aafb535",
   "metadata": {},
   "source": [
    "Pair plot digunakan untuk memvisualisasikan hubungan antara pasangan (pair) dari variabel dalam dataframe. Pair plot ini memungkinkan kita untuk memahami hubungan antara variabel-variabel tersebut dan juga membedakan antara kluster yang ada dalam data."
   ]
  },
  {
   "cell_type": "code",
   "execution_count": 64,
   "id": "138eb600",
   "metadata": {},
   "outputs": [
    {
     "data": {
      "text/plain": [
       "<Figure size 1080x360 with 0 Axes>"
      ]
     },
     "metadata": {},
     "output_type": "display_data"
    },
    {
     "data": {
      "image/png": "[encoded data removed]",
      "text/plain": [
       "<Figure size 583.5x540 with 12 Axes>"
      ]
     },
     "metadata": {},
     "output_type": "display_data"
    }
   ],
   "source": [
    "plt.figure(figsize=(15, 5))\n",
    "g = sns.pairplot(data=data, hue='cluster', palette='Set2')\n",
    "g.fig.suptitle(\"Pair Plot of Customer Clusters\", y=1.02)\n",
    "plt.show()"
   ]
  },
  {
   "cell_type": "markdown",
   "id": "1ae8f252",
   "metadata": {},
   "source": [
    "### Evaluasi"
   ]
  },
  {
   "cell_type": "markdown",
   "id": "afa05d48",
   "metadata": {},
   "source": [
    "Silhouette Coefficient akan digunakan sebagai metrik evalusi hasil clustering. Silhouette Coefficient merupakan metrik evaluasi untuk mengukur seberapa baik pengelompokan (clustering) berfungsi dalam memisahkan antara kluster-kluster yang berbeda."
   ]
  },
  {
   "cell_type": "code",
   "execution_count": 65,
   "id": "6378f96c",
   "metadata": {},
   "outputs": [
    {
     "name": "stdout",
     "output_type": "stream",
     "text": [
      "Silhouette Coefficient: 0.42898946377059083\n"
     ]
    }
   ],
   "source": [
    "# Calculate Silhouette Coefficient\n",
    "silhouette_avg = silhouette_score(df_standardized, cluster_labels)\n",
    "print(\"Silhouette Coefficient:\", silhouette_avg)"
   ]
  },
  {
   "cell_type": "markdown",
   "id": "2fd8b097",
   "metadata": {},
   "source": [
    "Dalam kasus ini, nilai Silhouette Coefficient adalah 0.42898946377059083. Nilai ini menunjukkan bahwa clustering yang Anda lakukan memiliki tingkat pemisahan yang cukup baik antara kluster dan data point dalam kluster tersebut. Semakin mendekati 1, semakin baik pemisahan antara kluster, sedangkan semakin mendekati -1, semakin buruk pemisahan antara kluster."
   ]
  },
  {
   "cell_type": "code",
   "execution_count": 66,
   "id": "2d853e33",
   "metadata": {},
   "outputs": [
    {
     "data": {
      "text/html": [
       "<div>\n",
       "<style scoped>\n",
       "    .dataframe tbody tr th:only-of-type {\n",
       "        vertical-align: middle;\n",
       "    }\n",
       "\n",
       "    .dataframe tbody tr th {\n",
       "        vertical-align: top;\n",
       "    }\n",
       "\n",
       "    .dataframe thead th {\n",
       "        text-align: right;\n",
       "    }\n",
       "</style>\n",
       "<table border=\"1\" class=\"dataframe\">\n",
       "  <thead>\n",
       "    <tr style=\"text-align: right;\">\n",
       "      <th></th>\n",
       "      <th>customer_id</th>\n",
       "      <th>transaction_id</th>\n",
       "      <th>qty</th>\n",
       "      <th>total_amount</th>\n",
       "    </tr>\n",
       "    <tr>\n",
       "      <th>cluster</th>\n",
       "      <th></th>\n",
       "      <th></th>\n",
       "      <th></th>\n",
       "      <th></th>\n",
       "    </tr>\n",
       "  </thead>\n",
       "  <tbody>\n",
       "    <tr>\n",
       "      <th>0</th>\n",
       "      <td>215</td>\n",
       "      <td>10.879070</td>\n",
       "      <td>38.339535</td>\n",
       "      <td>344466.046512</td>\n",
       "    </tr>\n",
       "    <tr>\n",
       "      <th>2</th>\n",
       "      <td>117</td>\n",
       "      <td>7.196581</td>\n",
       "      <td>24.760684</td>\n",
       "      <td>217399.145299</td>\n",
       "    </tr>\n",
       "    <tr>\n",
       "      <th>1</th>\n",
       "      <td>115</td>\n",
       "      <td>15.017391</td>\n",
       "      <td>54.982609</td>\n",
       "      <td>513536.521739</td>\n",
       "    </tr>\n",
       "  </tbody>\n",
       "</table>\n",
       "</div>"
      ],
      "text/plain": [
       "         customer_id  transaction_id        qty   total_amount\n",
       "cluster                                                       \n",
       "0                215       10.879070  38.339535  344466.046512\n",
       "2                117        7.196581  24.760684  217399.145299\n",
       "1                115       15.017391  54.982609  513536.521739"
      ]
     },
     "execution_count": 66,
     "metadata": {},
     "output_type": "execute_result"
    }
   ],
   "source": [
    "data['customer_id'] = cluster_data['customer_id']\n",
    "cluster_data_agg = data.groupby('cluster').agg({'customer_id':'count','transaction_id':'mean','qty':'mean','total_amount':'mean'})\n",
    "cluster_data_agg.sort_values('customer_id', ascending = False)"
   ]
  },
  {
   "cell_type": "markdown",
   "id": "e3e789c2",
   "metadata": {},
   "source": [
    "Berikut beberapa rekomendasi yang dapat diberikan kepada tim pemasaran untuk setiap klaster pelanggan:\n",
    "\n",
    "**Kluster 0:**\n",
    "\n",
    "**Penjelasan:** Kluster ini memiliki rata-rata 215 pelanggan, rata-rata 10.88 transaksi per pelanggan, dan rata-rata total pengeluaran sekitar 344,466 unit mata uang per pelanggan.\n",
    "\n",
    "**Rekomendasi:**\n",
    "- Fokus pada mempertahankan dan meningkatkan loyalitas pelanggan dalam kluster ini karena mereka memiliki jumlah transaksi yang tinggi.\n",
    "- Tawarkan program loyalitas atau insentif tambahan untuk mendorong pelanggan untuk melakukan lebih banyak transaksi.\n",
    "- Identifikasi produk atau layanan yang sering dibeli oleh kluster ini dan pertimbangkan untuk mengembangkan penawaran atau promosi khusus.\n",
    "\n",
    "**Kluster 2:**\n",
    "\n",
    "**Penjelasan:** Kluster ini memiliki rata-rata 117 pelanggan, rata-rata 7.20 transaksi per pelanggan, dan rata-rata total pengeluaran sekitar 217,399 unit mata uang per pelanggan.\n",
    "\n",
    "**Rekomendasi:**\n",
    "- Fokus pada meningkatkan frekuensi transaksi pelanggan dalam kluster ini. Tawarkan insentif atau promosi untuk mendorong mereka melakukan lebih banyak transaksi.\n",
    "- Identifikasi produk atau layanan yang mungkin menarik bagi kluster ini dan pertimbangkan untuk mengembangkan penawaran khusus.\n",
    "- Lakukan survei atau wawancara pelanggan untuk memahami lebih baik kebutuhan dan preferensi mereka.\n",
    "\n",
    "**Kluster 1:**\n",
    "\n",
    "**Penjelasan:** Kluster ini memiliki rata-rata 115 pelanggan, rata-rata 15.02 transaksi per pelanggan, dan rata-rata total pengeluaran sekitar 513,537 unit mata uang per pelanggan.\n",
    "\n",
    "**Rekomendasi:**\n",
    "- Pertahankan dan tingkatkan pengalaman pelanggan dalam kluster ini, karena mereka memiliki frekuensi transaksi yang tinggi dan pengeluaran yang besar.\n",
    "- Tawarkan pelayanan pelanggan yang unggul dan respon yang cepat terhadap permintaan atau masalah pelanggan.\n",
    "- Pertimbangkan untuk memberikan insentif khusus kepada pelanggan dalam kluster ini sebagai tanda penghargaan atas kesetiaan mereka.\n",
    "- Identifikasi produk atau layanan premium yang mungkin menarik bagi kluster ini dan pertimbangkan untuk mengembangkan penawaran eksklusif."
   ]
  }
 ],
 "metadata": {
  "kernelspec": {
   "display_name": "Python 3 (ipykernel)",
   "language": "python",
   "name": "python3"
  },
  "language_info": {
   "codemirror_mode": {
    "name": "ipython",
    "version": 3
   },
   "file_extension": ".py",
   "mimetype": "text/x-python",
   "name": "python",
   "nbconvert_exporter": "python",
   "pygments_lexer": "ipython3",
   "version": "3.9.12"
  }
 },
 "nbformat": 4,
 "nbformat_minor": 5
}
